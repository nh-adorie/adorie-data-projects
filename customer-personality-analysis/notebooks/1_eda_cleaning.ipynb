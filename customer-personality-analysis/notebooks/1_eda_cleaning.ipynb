{
 "cells": [
  {
   "cell_type": "markdown",
   "id": "48551c5f-6b42-4b81-be7a-0a47d30e7e0e",
   "metadata": {
    "jp-MarkdownHeadingCollapsed": true
   },
   "source": [
    "### Customer Personality Analysis Dataset - Data Cleaning and Exploratory Data Analysis (EDA)\n",
    "\n",
    "**Context**\n",
    "\n",
    "Customer Personality Analysis is a process of understanding the key characteristics, behaviors, and preferences of a company’s customers. By analyzing these traits, businesses can tailor their products, services, and marketing strategies to better meet customer needs and increase engagement.\n",
    "\n",
    "**Problem Statement**\n",
    "\n",
    "The goal of this analysis is to identify meaningful customer segments based on their purchasing behavior and demographics. Understanding which customer groups are most valuable or responsive allows companies to design more effective marketing campaigns, optimize resource allocation, and ultimately improve customer satisfaction and profitability.\n",
    "\n",
    "**Acknowledgment**\n",
    "\n",
    "The dataset used in this project was provided by **Dr. Omar Romero-Hernandez**."
   ]
  },
  {
   "cell_type": "markdown",
   "id": "3afeb6a1-96c9-4870-80fe-ed941e980439",
   "metadata": {
    "jp-MarkdownHeadingCollapsed": true
   },
   "source": [
    "### 1. Import Libraries and Data"
   ]
  },
  {
   "cell_type": "code",
   "execution_count": 1,
   "id": "53b881eb-bde3-4aa9-aa09-9c7711482089",
   "metadata": {},
   "outputs": [],
   "source": [
    "# import neccessary libraries\n",
    "\n",
    "import numpy as np\n",
    "import pandas as pd\n",
    "import matplotlib.pyplot as plt # line, bar, scatter, histogram, ...\n",
    "import seaborn as sns #boxplot, heatmap, ...\n",
    "\n",
    "# display setup \n",
    "pd.set_option('display.max_columns', None)\n",
    "pd.set_option('display.float_format', lambda x: f'{x:.3f}')\n",
    "plt.style.use('seaborn-v0_8-whitegrid')\n",
    "sns.set_palette('pastel')"
   ]
  },
  {
   "cell_type": "code",
   "execution_count": 2,
   "id": "2255ac64-05e9-48eb-9794-694188953378",
   "metadata": {},
   "outputs": [],
   "source": [
    "# import data\n",
    "df = pd.read_csv('/workspaces/adorie-data-projects/customer-personality-analysis/data/raw/marketing_campaign.csv',\n",
    "                delimiter = \"\\t\")"
   ]
  },
  {
   "cell_type": "markdown",
   "id": "8d4fd076-c6e8-4739-b906-1154ac9f0128",
   "metadata": {
    "jp-MarkdownHeadingCollapsed": true
   },
   "source": [
    "### 2. Basic Information about the Dataset"
   ]
  },
  {
   "cell_type": "code",
   "execution_count": 3,
   "id": "e59c20c5-7aae-4a19-8e8f-2ac34e4bf613",
   "metadata": {},
   "outputs": [
    {
     "data": {
      "text/plain": [
       "(2240, 29)"
      ]
     },
     "execution_count": 3,
     "metadata": {},
     "output_type": "execute_result"
    }
   ],
   "source": [
    "df.shape"
   ]
  },
  {
   "cell_type": "code",
   "execution_count": 4,
   "id": "2cd7e639-cb62-452f-a3b7-bc28f1ccc1ac",
   "metadata": {},
   "outputs": [
    {
     "data": {
      "text/plain": [
       "ID                       int64\n",
       "Year_Birth               int64\n",
       "Education               object\n",
       "Marital_Status          object\n",
       "Income                 float64\n",
       "Kidhome                  int64\n",
       "Teenhome                 int64\n",
       "Dt_Customer             object\n",
       "Recency                  int64\n",
       "MntWines                 int64\n",
       "MntFruits                int64\n",
       "MntMeatProducts          int64\n",
       "MntFishProducts          int64\n",
       "MntSweetProducts         int64\n",
       "MntGoldProds             int64\n",
       "NumDealsPurchases        int64\n",
       "NumWebPurchases          int64\n",
       "NumCatalogPurchases      int64\n",
       "NumStorePurchases        int64\n",
       "NumWebVisitsMonth        int64\n",
       "AcceptedCmp3             int64\n",
       "AcceptedCmp4             int64\n",
       "AcceptedCmp5             int64\n",
       "AcceptedCmp1             int64\n",
       "AcceptedCmp2             int64\n",
       "Complain                 int64\n",
       "Z_CostContact            int64\n",
       "Z_Revenue                int64\n",
       "Response                 int64\n",
       "dtype: object"
      ]
     },
     "execution_count": 4,
     "metadata": {},
     "output_type": "execute_result"
    }
   ],
   "source": [
    "df.dtypes"
   ]
  },
  {
   "cell_type": "code",
   "execution_count": 5,
   "id": "99e8068c-c688-40d6-bd0d-53f94fd68904",
   "metadata": {},
   "outputs": [
    {
     "data": {
      "text/html": [
       "<div>\n",
       "<style scoped>\n",
       "    .dataframe tbody tr th:only-of-type {\n",
       "        vertical-align: middle;\n",
       "    }\n",
       "\n",
       "    .dataframe tbody tr th {\n",
       "        vertical-align: top;\n",
       "    }\n",
       "\n",
       "    .dataframe thead th {\n",
       "        text-align: right;\n",
       "    }\n",
       "</style>\n",
       "<table border=\"1\" class=\"dataframe\">\n",
       "  <thead>\n",
       "    <tr style=\"text-align: right;\">\n",
       "      <th></th>\n",
       "      <th>ID</th>\n",
       "      <th>Year_Birth</th>\n",
       "      <th>Education</th>\n",
       "      <th>Marital_Status</th>\n",
       "      <th>Income</th>\n",
       "      <th>Kidhome</th>\n",
       "      <th>Teenhome</th>\n",
       "      <th>Dt_Customer</th>\n",
       "      <th>Recency</th>\n",
       "      <th>MntWines</th>\n",
       "      <th>MntFruits</th>\n",
       "      <th>MntMeatProducts</th>\n",
       "      <th>MntFishProducts</th>\n",
       "      <th>MntSweetProducts</th>\n",
       "      <th>MntGoldProds</th>\n",
       "      <th>NumDealsPurchases</th>\n",
       "      <th>NumWebPurchases</th>\n",
       "      <th>NumCatalogPurchases</th>\n",
       "      <th>NumStorePurchases</th>\n",
       "      <th>NumWebVisitsMonth</th>\n",
       "      <th>AcceptedCmp3</th>\n",
       "      <th>AcceptedCmp4</th>\n",
       "      <th>AcceptedCmp5</th>\n",
       "      <th>AcceptedCmp1</th>\n",
       "      <th>AcceptedCmp2</th>\n",
       "      <th>Complain</th>\n",
       "      <th>Z_CostContact</th>\n",
       "      <th>Z_Revenue</th>\n",
       "      <th>Response</th>\n",
       "    </tr>\n",
       "  </thead>\n",
       "  <tbody>\n",
       "    <tr>\n",
       "      <th>0</th>\n",
       "      <td>5524</td>\n",
       "      <td>1957</td>\n",
       "      <td>Graduation</td>\n",
       "      <td>Single</td>\n",
       "      <td>58138.000</td>\n",
       "      <td>0</td>\n",
       "      <td>0</td>\n",
       "      <td>04-09-2012</td>\n",
       "      <td>58</td>\n",
       "      <td>635</td>\n",
       "      <td>88</td>\n",
       "      <td>546</td>\n",
       "      <td>172</td>\n",
       "      <td>88</td>\n",
       "      <td>88</td>\n",
       "      <td>3</td>\n",
       "      <td>8</td>\n",
       "      <td>10</td>\n",
       "      <td>4</td>\n",
       "      <td>7</td>\n",
       "      <td>0</td>\n",
       "      <td>0</td>\n",
       "      <td>0</td>\n",
       "      <td>0</td>\n",
       "      <td>0</td>\n",
       "      <td>0</td>\n",
       "      <td>3</td>\n",
       "      <td>11</td>\n",
       "      <td>1</td>\n",
       "    </tr>\n",
       "    <tr>\n",
       "      <th>1</th>\n",
       "      <td>2174</td>\n",
       "      <td>1954</td>\n",
       "      <td>Graduation</td>\n",
       "      <td>Single</td>\n",
       "      <td>46344.000</td>\n",
       "      <td>1</td>\n",
       "      <td>1</td>\n",
       "      <td>08-03-2014</td>\n",
       "      <td>38</td>\n",
       "      <td>11</td>\n",
       "      <td>1</td>\n",
       "      <td>6</td>\n",
       "      <td>2</td>\n",
       "      <td>1</td>\n",
       "      <td>6</td>\n",
       "      <td>2</td>\n",
       "      <td>1</td>\n",
       "      <td>1</td>\n",
       "      <td>2</td>\n",
       "      <td>5</td>\n",
       "      <td>0</td>\n",
       "      <td>0</td>\n",
       "      <td>0</td>\n",
       "      <td>0</td>\n",
       "      <td>0</td>\n",
       "      <td>0</td>\n",
       "      <td>3</td>\n",
       "      <td>11</td>\n",
       "      <td>0</td>\n",
       "    </tr>\n",
       "    <tr>\n",
       "      <th>2</th>\n",
       "      <td>4141</td>\n",
       "      <td>1965</td>\n",
       "      <td>Graduation</td>\n",
       "      <td>Together</td>\n",
       "      <td>71613.000</td>\n",
       "      <td>0</td>\n",
       "      <td>0</td>\n",
       "      <td>21-08-2013</td>\n",
       "      <td>26</td>\n",
       "      <td>426</td>\n",
       "      <td>49</td>\n",
       "      <td>127</td>\n",
       "      <td>111</td>\n",
       "      <td>21</td>\n",
       "      <td>42</td>\n",
       "      <td>1</td>\n",
       "      <td>8</td>\n",
       "      <td>2</td>\n",
       "      <td>10</td>\n",
       "      <td>4</td>\n",
       "      <td>0</td>\n",
       "      <td>0</td>\n",
       "      <td>0</td>\n",
       "      <td>0</td>\n",
       "      <td>0</td>\n",
       "      <td>0</td>\n",
       "      <td>3</td>\n",
       "      <td>11</td>\n",
       "      <td>0</td>\n",
       "    </tr>\n",
       "    <tr>\n",
       "      <th>3</th>\n",
       "      <td>6182</td>\n",
       "      <td>1984</td>\n",
       "      <td>Graduation</td>\n",
       "      <td>Together</td>\n",
       "      <td>26646.000</td>\n",
       "      <td>1</td>\n",
       "      <td>0</td>\n",
       "      <td>10-02-2014</td>\n",
       "      <td>26</td>\n",
       "      <td>11</td>\n",
       "      <td>4</td>\n",
       "      <td>20</td>\n",
       "      <td>10</td>\n",
       "      <td>3</td>\n",
       "      <td>5</td>\n",
       "      <td>2</td>\n",
       "      <td>2</td>\n",
       "      <td>0</td>\n",
       "      <td>4</td>\n",
       "      <td>6</td>\n",
       "      <td>0</td>\n",
       "      <td>0</td>\n",
       "      <td>0</td>\n",
       "      <td>0</td>\n",
       "      <td>0</td>\n",
       "      <td>0</td>\n",
       "      <td>3</td>\n",
       "      <td>11</td>\n",
       "      <td>0</td>\n",
       "    </tr>\n",
       "    <tr>\n",
       "      <th>4</th>\n",
       "      <td>5324</td>\n",
       "      <td>1981</td>\n",
       "      <td>PhD</td>\n",
       "      <td>Married</td>\n",
       "      <td>58293.000</td>\n",
       "      <td>1</td>\n",
       "      <td>0</td>\n",
       "      <td>19-01-2014</td>\n",
       "      <td>94</td>\n",
       "      <td>173</td>\n",
       "      <td>43</td>\n",
       "      <td>118</td>\n",
       "      <td>46</td>\n",
       "      <td>27</td>\n",
       "      <td>15</td>\n",
       "      <td>5</td>\n",
       "      <td>5</td>\n",
       "      <td>3</td>\n",
       "      <td>6</td>\n",
       "      <td>5</td>\n",
       "      <td>0</td>\n",
       "      <td>0</td>\n",
       "      <td>0</td>\n",
       "      <td>0</td>\n",
       "      <td>0</td>\n",
       "      <td>0</td>\n",
       "      <td>3</td>\n",
       "      <td>11</td>\n",
       "      <td>0</td>\n",
       "    </tr>\n",
       "  </tbody>\n",
       "</table>\n",
       "</div>"
      ],
      "text/plain": [
       "     ID  Year_Birth   Education Marital_Status    Income  Kidhome  Teenhome  \\\n",
       "0  5524        1957  Graduation         Single 58138.000        0         0   \n",
       "1  2174        1954  Graduation         Single 46344.000        1         1   \n",
       "2  4141        1965  Graduation       Together 71613.000        0         0   \n",
       "3  6182        1984  Graduation       Together 26646.000        1         0   \n",
       "4  5324        1981         PhD        Married 58293.000        1         0   \n",
       "\n",
       "  Dt_Customer  Recency  MntWines  MntFruits  MntMeatProducts  MntFishProducts  \\\n",
       "0  04-09-2012       58       635         88              546              172   \n",
       "1  08-03-2014       38        11          1                6                2   \n",
       "2  21-08-2013       26       426         49              127              111   \n",
       "3  10-02-2014       26        11          4               20               10   \n",
       "4  19-01-2014       94       173         43              118               46   \n",
       "\n",
       "   MntSweetProducts  MntGoldProds  NumDealsPurchases  NumWebPurchases  \\\n",
       "0                88            88                  3                8   \n",
       "1                 1             6                  2                1   \n",
       "2                21            42                  1                8   \n",
       "3                 3             5                  2                2   \n",
       "4                27            15                  5                5   \n",
       "\n",
       "   NumCatalogPurchases  NumStorePurchases  NumWebVisitsMonth  AcceptedCmp3  \\\n",
       "0                   10                  4                  7             0   \n",
       "1                    1                  2                  5             0   \n",
       "2                    2                 10                  4             0   \n",
       "3                    0                  4                  6             0   \n",
       "4                    3                  6                  5             0   \n",
       "\n",
       "   AcceptedCmp4  AcceptedCmp5  AcceptedCmp1  AcceptedCmp2  Complain  \\\n",
       "0             0             0             0             0         0   \n",
       "1             0             0             0             0         0   \n",
       "2             0             0             0             0         0   \n",
       "3             0             0             0             0         0   \n",
       "4             0             0             0             0         0   \n",
       "\n",
       "   Z_CostContact  Z_Revenue  Response  \n",
       "0              3         11         1  \n",
       "1              3         11         0  \n",
       "2              3         11         0  \n",
       "3              3         11         0  \n",
       "4              3         11         0  "
      ]
     },
     "execution_count": 5,
     "metadata": {},
     "output_type": "execute_result"
    }
   ],
   "source": [
    "df.head()"
   ]
  },
  {
   "cell_type": "code",
   "execution_count": 6,
   "id": "4b0800c3-909c-446d-86df-e6075fcd715e",
   "metadata": {
    "jupyter": {
     "source_hidden": true
    }
   },
   "outputs": [],
   "source": [
    "# After looking through the dataset, we can categorize each attribute into different groups for better analysis\n",
    "\n",
    "# Customer Info:\n",
    "# ID: Customer's unique identifier\n",
    "# Year_Birth: Customer's birth year\n",
    "# Education: Customer's education level -- CATEGORICAL\n",
    "# Marital_Status: Customer's marital status -- CATEGORICAL\n",
    "# Income: Customer's yearly household income\n",
    "# Kidhome: Number of children in customer's household\n",
    "# Teenhome: Number of teenagers in customer's household\n",
    "# Dt_Customer: Date of customer's enrollment with the company\n",
    "# Recency: Number of days since customer's last purchase\n",
    "# Complain: 1 if the customer complained in the last 2 years, 0 otherwise -- BOOLEAN\n",
    "\n",
    "# Product Info:\n",
    "# MntWines: Amount spent on wine in last 2 years\n",
    "# MntFruits: Amount spent on fruits in last 2 years\n",
    "# MntMeatProducts: Amount spent on meat in last 2 years\n",
    "# MntFishProducts: Amount spent on fish in last 2 years\n",
    "# MntSweetProducts: Amount spent on sweets in last 2 years\n",
    "# MntGoldProds: Amount spent on gold in last 2 years\n",
    "\n",
    "# Promotion Campaign Info\n",
    "# NumDealsPurchases: Number of purchases made with a discount\n",
    "# AcceptedCmp1: 1 if customer accepted the offer in the 1st campaign, 0 otherwise -- BOOLEAN\n",
    "# AcceptedCmp2: 1 if customer accepted the offer in the 2nd campaign, 0 otherwise -- BOOLEAN\n",
    "# AcceptedCmp3: 1 if customer accepted the offer in the 3rd campaign, 0 otherwise -- BOOLEAN\n",
    "# AcceptedCmp4: 1 if customer accepted the offer in the 4th campaign, 0 otherwise -- BOOLEAN\n",
    "# AcceptedCmp5: 1 if customer accepted the offer in the 5th campaign, 0 otherwise -- BOOLEAN\n",
    "# Response: 1 if customer accepted the offer in the last campaign, 0 otherwise -- BOOLEAN\n",
    "\n",
    "# Channel Info\n",
    "# NumWebPurchases: Number of purchases made through the company’s website\n",
    "# NumCatalogPurchases: Number of purchases made using a catalogue\n",
    "# NumStorePurchases: Number of purchases made directly in stores\n",
    "# NumWebVisitsMonth: Number of visits to company’s website in the last month"
   ]
  },
  {
   "cell_type": "markdown",
   "id": "7a870708-bc94-4bca-b37d-e804381333e9",
   "metadata": {},
   "source": [
    "### 3. Data Cleaning"
   ]
  },
  {
   "cell_type": "markdown",
   "id": "fb5c5e72-1e3c-401a-9439-f4667298a0f6",
   "metadata": {
    "jp-MarkdownHeadingCollapsed": true
   },
   "source": [
    "#### Handle duplicate values"
   ]
  },
  {
   "cell_type": "code",
   "execution_count": 7,
   "id": "24789bb7-7c4f-4483-a221-bfc646c2844c",
   "metadata": {},
   "outputs": [
    {
     "name": "stdout",
     "output_type": "stream",
     "text": [
      "No duplicated value\n"
     ]
    }
   ],
   "source": [
    "# check duplicate in attribute ID\n",
    "check_duplicated = df['ID'].duplicated().any()\n",
    "if check_duplicated:\n",
    "    print('Duplicated value found')\n",
    "else:\n",
    "    print('No duplicated value')"
   ]
  },
  {
   "cell_type": "markdown",
   "id": "2d4896b8-904e-43eb-b783-c2471a16d101",
   "metadata": {
    "jp-MarkdownHeadingCollapsed": true
   },
   "source": [
    "#### Handle missing values"
   ]
  },
  {
   "cell_type": "code",
   "execution_count": 8,
   "id": "e096e6bf-461f-4835-836b-2e1e47ebf0cf",
   "metadata": {},
   "outputs": [],
   "source": [
    "# check missing value\n",
    "missing_value_summary = df.isnull().sum()[df.isnull().sum() != 0]\n",
    "missing_rows = df[df.isnull().any(axis=1)]"
   ]
  },
  {
   "cell_type": "code",
   "execution_count": 9,
   "id": "861e50a8-eb8b-41b3-a190-c6c61e682771",
   "metadata": {},
   "outputs": [
    {
     "data": {
      "text/plain": [
       "Income    24\n",
       "dtype: int64"
      ]
     },
     "execution_count": 9,
     "metadata": {},
     "output_type": "execute_result"
    }
   ],
   "source": [
    "missing_value_summary"
   ]
  },
  {
   "cell_type": "code",
   "execution_count": 10,
   "id": "b8e19225-4611-40d5-91e8-b621f56d6c2f",
   "metadata": {
    "scrolled": true
   },
   "outputs": [
    {
     "data": {
      "text/html": [
       "<div>\n",
       "<style scoped>\n",
       "    .dataframe tbody tr th:only-of-type {\n",
       "        vertical-align: middle;\n",
       "    }\n",
       "\n",
       "    .dataframe tbody tr th {\n",
       "        vertical-align: top;\n",
       "    }\n",
       "\n",
       "    .dataframe thead th {\n",
       "        text-align: right;\n",
       "    }\n",
       "</style>\n",
       "<table border=\"1\" class=\"dataframe\">\n",
       "  <thead>\n",
       "    <tr style=\"text-align: right;\">\n",
       "      <th></th>\n",
       "      <th>ID</th>\n",
       "      <th>Year_Birth</th>\n",
       "      <th>Education</th>\n",
       "      <th>Marital_Status</th>\n",
       "      <th>Income</th>\n",
       "      <th>Kidhome</th>\n",
       "      <th>Teenhome</th>\n",
       "      <th>Dt_Customer</th>\n",
       "      <th>Recency</th>\n",
       "      <th>MntWines</th>\n",
       "      <th>MntFruits</th>\n",
       "      <th>MntMeatProducts</th>\n",
       "      <th>MntFishProducts</th>\n",
       "      <th>MntSweetProducts</th>\n",
       "      <th>MntGoldProds</th>\n",
       "      <th>NumDealsPurchases</th>\n",
       "      <th>NumWebPurchases</th>\n",
       "      <th>NumCatalogPurchases</th>\n",
       "      <th>NumStorePurchases</th>\n",
       "      <th>NumWebVisitsMonth</th>\n",
       "      <th>AcceptedCmp3</th>\n",
       "      <th>AcceptedCmp4</th>\n",
       "      <th>AcceptedCmp5</th>\n",
       "      <th>AcceptedCmp1</th>\n",
       "      <th>AcceptedCmp2</th>\n",
       "      <th>Complain</th>\n",
       "      <th>Z_CostContact</th>\n",
       "      <th>Z_Revenue</th>\n",
       "      <th>Response</th>\n",
       "    </tr>\n",
       "  </thead>\n",
       "  <tbody>\n",
       "    <tr>\n",
       "      <th>10</th>\n",
       "      <td>1994</td>\n",
       "      <td>1983</td>\n",
       "      <td>Graduation</td>\n",
       "      <td>Married</td>\n",
       "      <td>NaN</td>\n",
       "      <td>1</td>\n",
       "      <td>0</td>\n",
       "      <td>15-11-2013</td>\n",
       "      <td>11</td>\n",
       "      <td>5</td>\n",
       "      <td>5</td>\n",
       "      <td>6</td>\n",
       "      <td>0</td>\n",
       "      <td>2</td>\n",
       "      <td>1</td>\n",
       "      <td>1</td>\n",
       "      <td>1</td>\n",
       "      <td>0</td>\n",
       "      <td>2</td>\n",
       "      <td>7</td>\n",
       "      <td>0</td>\n",
       "      <td>0</td>\n",
       "      <td>0</td>\n",
       "      <td>0</td>\n",
       "      <td>0</td>\n",
       "      <td>0</td>\n",
       "      <td>3</td>\n",
       "      <td>11</td>\n",
       "      <td>0</td>\n",
       "    </tr>\n",
       "    <tr>\n",
       "      <th>27</th>\n",
       "      <td>5255</td>\n",
       "      <td>1986</td>\n",
       "      <td>Graduation</td>\n",
       "      <td>Single</td>\n",
       "      <td>NaN</td>\n",
       "      <td>1</td>\n",
       "      <td>0</td>\n",
       "      <td>20-02-2013</td>\n",
       "      <td>19</td>\n",
       "      <td>5</td>\n",
       "      <td>1</td>\n",
       "      <td>3</td>\n",
       "      <td>3</td>\n",
       "      <td>263</td>\n",
       "      <td>362</td>\n",
       "      <td>0</td>\n",
       "      <td>27</td>\n",
       "      <td>0</td>\n",
       "      <td>0</td>\n",
       "      <td>1</td>\n",
       "      <td>0</td>\n",
       "      <td>0</td>\n",
       "      <td>0</td>\n",
       "      <td>0</td>\n",
       "      <td>0</td>\n",
       "      <td>0</td>\n",
       "      <td>3</td>\n",
       "      <td>11</td>\n",
       "      <td>0</td>\n",
       "    </tr>\n",
       "    <tr>\n",
       "      <th>43</th>\n",
       "      <td>7281</td>\n",
       "      <td>1959</td>\n",
       "      <td>PhD</td>\n",
       "      <td>Single</td>\n",
       "      <td>NaN</td>\n",
       "      <td>0</td>\n",
       "      <td>0</td>\n",
       "      <td>05-11-2013</td>\n",
       "      <td>80</td>\n",
       "      <td>81</td>\n",
       "      <td>11</td>\n",
       "      <td>50</td>\n",
       "      <td>3</td>\n",
       "      <td>2</td>\n",
       "      <td>39</td>\n",
       "      <td>1</td>\n",
       "      <td>1</td>\n",
       "      <td>3</td>\n",
       "      <td>4</td>\n",
       "      <td>2</td>\n",
       "      <td>0</td>\n",
       "      <td>0</td>\n",
       "      <td>0</td>\n",
       "      <td>0</td>\n",
       "      <td>0</td>\n",
       "      <td>0</td>\n",
       "      <td>3</td>\n",
       "      <td>11</td>\n",
       "      <td>0</td>\n",
       "    </tr>\n",
       "    <tr>\n",
       "      <th>48</th>\n",
       "      <td>7244</td>\n",
       "      <td>1951</td>\n",
       "      <td>Graduation</td>\n",
       "      <td>Single</td>\n",
       "      <td>NaN</td>\n",
       "      <td>2</td>\n",
       "      <td>1</td>\n",
       "      <td>01-01-2014</td>\n",
       "      <td>96</td>\n",
       "      <td>48</td>\n",
       "      <td>5</td>\n",
       "      <td>48</td>\n",
       "      <td>6</td>\n",
       "      <td>10</td>\n",
       "      <td>7</td>\n",
       "      <td>3</td>\n",
       "      <td>2</td>\n",
       "      <td>1</td>\n",
       "      <td>4</td>\n",
       "      <td>6</td>\n",
       "      <td>0</td>\n",
       "      <td>0</td>\n",
       "      <td>0</td>\n",
       "      <td>0</td>\n",
       "      <td>0</td>\n",
       "      <td>0</td>\n",
       "      <td>3</td>\n",
       "      <td>11</td>\n",
       "      <td>0</td>\n",
       "    </tr>\n",
       "    <tr>\n",
       "      <th>58</th>\n",
       "      <td>8557</td>\n",
       "      <td>1982</td>\n",
       "      <td>Graduation</td>\n",
       "      <td>Single</td>\n",
       "      <td>NaN</td>\n",
       "      <td>1</td>\n",
       "      <td>0</td>\n",
       "      <td>17-06-2013</td>\n",
       "      <td>57</td>\n",
       "      <td>11</td>\n",
       "      <td>3</td>\n",
       "      <td>22</td>\n",
       "      <td>2</td>\n",
       "      <td>2</td>\n",
       "      <td>6</td>\n",
       "      <td>2</td>\n",
       "      <td>2</td>\n",
       "      <td>0</td>\n",
       "      <td>3</td>\n",
       "      <td>6</td>\n",
       "      <td>0</td>\n",
       "      <td>0</td>\n",
       "      <td>0</td>\n",
       "      <td>0</td>\n",
       "      <td>0</td>\n",
       "      <td>0</td>\n",
       "      <td>3</td>\n",
       "      <td>11</td>\n",
       "      <td>0</td>\n",
       "    </tr>\n",
       "    <tr>\n",
       "      <th>71</th>\n",
       "      <td>10629</td>\n",
       "      <td>1973</td>\n",
       "      <td>2n Cycle</td>\n",
       "      <td>Married</td>\n",
       "      <td>NaN</td>\n",
       "      <td>1</td>\n",
       "      <td>0</td>\n",
       "      <td>14-09-2012</td>\n",
       "      <td>25</td>\n",
       "      <td>25</td>\n",
       "      <td>3</td>\n",
       "      <td>43</td>\n",
       "      <td>17</td>\n",
       "      <td>4</td>\n",
       "      <td>17</td>\n",
       "      <td>3</td>\n",
       "      <td>3</td>\n",
       "      <td>0</td>\n",
       "      <td>3</td>\n",
       "      <td>8</td>\n",
       "      <td>0</td>\n",
       "      <td>0</td>\n",
       "      <td>0</td>\n",
       "      <td>0</td>\n",
       "      <td>0</td>\n",
       "      <td>0</td>\n",
       "      <td>3</td>\n",
       "      <td>11</td>\n",
       "      <td>0</td>\n",
       "    </tr>\n",
       "    <tr>\n",
       "      <th>90</th>\n",
       "      <td>8996</td>\n",
       "      <td>1957</td>\n",
       "      <td>PhD</td>\n",
       "      <td>Married</td>\n",
       "      <td>NaN</td>\n",
       "      <td>2</td>\n",
       "      <td>1</td>\n",
       "      <td>19-11-2012</td>\n",
       "      <td>4</td>\n",
       "      <td>230</td>\n",
       "      <td>42</td>\n",
       "      <td>192</td>\n",
       "      <td>49</td>\n",
       "      <td>37</td>\n",
       "      <td>53</td>\n",
       "      <td>12</td>\n",
       "      <td>7</td>\n",
       "      <td>2</td>\n",
       "      <td>8</td>\n",
       "      <td>9</td>\n",
       "      <td>0</td>\n",
       "      <td>0</td>\n",
       "      <td>0</td>\n",
       "      <td>0</td>\n",
       "      <td>0</td>\n",
       "      <td>0</td>\n",
       "      <td>3</td>\n",
       "      <td>11</td>\n",
       "      <td>0</td>\n",
       "    </tr>\n",
       "    <tr>\n",
       "      <th>91</th>\n",
       "      <td>9235</td>\n",
       "      <td>1957</td>\n",
       "      <td>Graduation</td>\n",
       "      <td>Single</td>\n",
       "      <td>NaN</td>\n",
       "      <td>1</td>\n",
       "      <td>1</td>\n",
       "      <td>27-05-2014</td>\n",
       "      <td>45</td>\n",
       "      <td>7</td>\n",
       "      <td>0</td>\n",
       "      <td>8</td>\n",
       "      <td>2</td>\n",
       "      <td>0</td>\n",
       "      <td>1</td>\n",
       "      <td>1</td>\n",
       "      <td>1</td>\n",
       "      <td>0</td>\n",
       "      <td>2</td>\n",
       "      <td>7</td>\n",
       "      <td>0</td>\n",
       "      <td>0</td>\n",
       "      <td>0</td>\n",
       "      <td>0</td>\n",
       "      <td>0</td>\n",
       "      <td>0</td>\n",
       "      <td>3</td>\n",
       "      <td>11</td>\n",
       "      <td>0</td>\n",
       "    </tr>\n",
       "    <tr>\n",
       "      <th>92</th>\n",
       "      <td>5798</td>\n",
       "      <td>1973</td>\n",
       "      <td>Master</td>\n",
       "      <td>Together</td>\n",
       "      <td>NaN</td>\n",
       "      <td>0</td>\n",
       "      <td>0</td>\n",
       "      <td>23-11-2013</td>\n",
       "      <td>87</td>\n",
       "      <td>445</td>\n",
       "      <td>37</td>\n",
       "      <td>359</td>\n",
       "      <td>98</td>\n",
       "      <td>28</td>\n",
       "      <td>18</td>\n",
       "      <td>1</td>\n",
       "      <td>2</td>\n",
       "      <td>4</td>\n",
       "      <td>8</td>\n",
       "      <td>1</td>\n",
       "      <td>0</td>\n",
       "      <td>0</td>\n",
       "      <td>0</td>\n",
       "      <td>0</td>\n",
       "      <td>0</td>\n",
       "      <td>0</td>\n",
       "      <td>3</td>\n",
       "      <td>11</td>\n",
       "      <td>0</td>\n",
       "    </tr>\n",
       "    <tr>\n",
       "      <th>128</th>\n",
       "      <td>8268</td>\n",
       "      <td>1961</td>\n",
       "      <td>PhD</td>\n",
       "      <td>Married</td>\n",
       "      <td>NaN</td>\n",
       "      <td>0</td>\n",
       "      <td>1</td>\n",
       "      <td>11-07-2013</td>\n",
       "      <td>23</td>\n",
       "      <td>352</td>\n",
       "      <td>0</td>\n",
       "      <td>27</td>\n",
       "      <td>10</td>\n",
       "      <td>0</td>\n",
       "      <td>15</td>\n",
       "      <td>3</td>\n",
       "      <td>6</td>\n",
       "      <td>1</td>\n",
       "      <td>7</td>\n",
       "      <td>6</td>\n",
       "      <td>0</td>\n",
       "      <td>0</td>\n",
       "      <td>0</td>\n",
       "      <td>0</td>\n",
       "      <td>0</td>\n",
       "      <td>0</td>\n",
       "      <td>3</td>\n",
       "      <td>11</td>\n",
       "      <td>0</td>\n",
       "    </tr>\n",
       "    <tr>\n",
       "      <th>133</th>\n",
       "      <td>1295</td>\n",
       "      <td>1963</td>\n",
       "      <td>Graduation</td>\n",
       "      <td>Married</td>\n",
       "      <td>NaN</td>\n",
       "      <td>0</td>\n",
       "      <td>1</td>\n",
       "      <td>11-08-2013</td>\n",
       "      <td>96</td>\n",
       "      <td>231</td>\n",
       "      <td>65</td>\n",
       "      <td>196</td>\n",
       "      <td>38</td>\n",
       "      <td>71</td>\n",
       "      <td>124</td>\n",
       "      <td>1</td>\n",
       "      <td>6</td>\n",
       "      <td>5</td>\n",
       "      <td>7</td>\n",
       "      <td>4</td>\n",
       "      <td>0</td>\n",
       "      <td>0</td>\n",
       "      <td>0</td>\n",
       "      <td>0</td>\n",
       "      <td>0</td>\n",
       "      <td>0</td>\n",
       "      <td>3</td>\n",
       "      <td>11</td>\n",
       "      <td>0</td>\n",
       "    </tr>\n",
       "    <tr>\n",
       "      <th>312</th>\n",
       "      <td>2437</td>\n",
       "      <td>1989</td>\n",
       "      <td>Graduation</td>\n",
       "      <td>Married</td>\n",
       "      <td>NaN</td>\n",
       "      <td>0</td>\n",
       "      <td>0</td>\n",
       "      <td>03-06-2013</td>\n",
       "      <td>69</td>\n",
       "      <td>861</td>\n",
       "      <td>138</td>\n",
       "      <td>461</td>\n",
       "      <td>60</td>\n",
       "      <td>30</td>\n",
       "      <td>61</td>\n",
       "      <td>1</td>\n",
       "      <td>6</td>\n",
       "      <td>5</td>\n",
       "      <td>12</td>\n",
       "      <td>3</td>\n",
       "      <td>0</td>\n",
       "      <td>1</td>\n",
       "      <td>0</td>\n",
       "      <td>1</td>\n",
       "      <td>0</td>\n",
       "      <td>0</td>\n",
       "      <td>3</td>\n",
       "      <td>11</td>\n",
       "      <td>0</td>\n",
       "    </tr>\n",
       "    <tr>\n",
       "      <th>319</th>\n",
       "      <td>2863</td>\n",
       "      <td>1970</td>\n",
       "      <td>Graduation</td>\n",
       "      <td>Single</td>\n",
       "      <td>NaN</td>\n",
       "      <td>1</td>\n",
       "      <td>2</td>\n",
       "      <td>23-08-2013</td>\n",
       "      <td>67</td>\n",
       "      <td>738</td>\n",
       "      <td>20</td>\n",
       "      <td>172</td>\n",
       "      <td>52</td>\n",
       "      <td>50</td>\n",
       "      <td>20</td>\n",
       "      <td>6</td>\n",
       "      <td>2</td>\n",
       "      <td>3</td>\n",
       "      <td>10</td>\n",
       "      <td>7</td>\n",
       "      <td>0</td>\n",
       "      <td>1</td>\n",
       "      <td>0</td>\n",
       "      <td>1</td>\n",
       "      <td>0</td>\n",
       "      <td>0</td>\n",
       "      <td>3</td>\n",
       "      <td>11</td>\n",
       "      <td>0</td>\n",
       "    </tr>\n",
       "    <tr>\n",
       "      <th>1379</th>\n",
       "      <td>10475</td>\n",
       "      <td>1970</td>\n",
       "      <td>Master</td>\n",
       "      <td>Together</td>\n",
       "      <td>NaN</td>\n",
       "      <td>0</td>\n",
       "      <td>1</td>\n",
       "      <td>01-04-2013</td>\n",
       "      <td>39</td>\n",
       "      <td>187</td>\n",
       "      <td>5</td>\n",
       "      <td>65</td>\n",
       "      <td>26</td>\n",
       "      <td>20</td>\n",
       "      <td>14</td>\n",
       "      <td>2</td>\n",
       "      <td>4</td>\n",
       "      <td>2</td>\n",
       "      <td>6</td>\n",
       "      <td>5</td>\n",
       "      <td>0</td>\n",
       "      <td>0</td>\n",
       "      <td>0</td>\n",
       "      <td>0</td>\n",
       "      <td>0</td>\n",
       "      <td>0</td>\n",
       "      <td>3</td>\n",
       "      <td>11</td>\n",
       "      <td>0</td>\n",
       "    </tr>\n",
       "    <tr>\n",
       "      <th>1382</th>\n",
       "      <td>2902</td>\n",
       "      <td>1958</td>\n",
       "      <td>Graduation</td>\n",
       "      <td>Together</td>\n",
       "      <td>NaN</td>\n",
       "      <td>1</td>\n",
       "      <td>1</td>\n",
       "      <td>03-09-2012</td>\n",
       "      <td>87</td>\n",
       "      <td>19</td>\n",
       "      <td>4</td>\n",
       "      <td>12</td>\n",
       "      <td>2</td>\n",
       "      <td>2</td>\n",
       "      <td>6</td>\n",
       "      <td>1</td>\n",
       "      <td>1</td>\n",
       "      <td>0</td>\n",
       "      <td>3</td>\n",
       "      <td>5</td>\n",
       "      <td>0</td>\n",
       "      <td>0</td>\n",
       "      <td>0</td>\n",
       "      <td>0</td>\n",
       "      <td>0</td>\n",
       "      <td>0</td>\n",
       "      <td>3</td>\n",
       "      <td>11</td>\n",
       "      <td>0</td>\n",
       "    </tr>\n",
       "    <tr>\n",
       "      <th>1383</th>\n",
       "      <td>4345</td>\n",
       "      <td>1964</td>\n",
       "      <td>2n Cycle</td>\n",
       "      <td>Single</td>\n",
       "      <td>NaN</td>\n",
       "      <td>1</td>\n",
       "      <td>1</td>\n",
       "      <td>12-01-2014</td>\n",
       "      <td>49</td>\n",
       "      <td>5</td>\n",
       "      <td>1</td>\n",
       "      <td>9</td>\n",
       "      <td>2</td>\n",
       "      <td>0</td>\n",
       "      <td>4</td>\n",
       "      <td>1</td>\n",
       "      <td>1</td>\n",
       "      <td>0</td>\n",
       "      <td>2</td>\n",
       "      <td>7</td>\n",
       "      <td>0</td>\n",
       "      <td>0</td>\n",
       "      <td>0</td>\n",
       "      <td>0</td>\n",
       "      <td>0</td>\n",
       "      <td>0</td>\n",
       "      <td>3</td>\n",
       "      <td>11</td>\n",
       "      <td>0</td>\n",
       "    </tr>\n",
       "    <tr>\n",
       "      <th>1386</th>\n",
       "      <td>3769</td>\n",
       "      <td>1972</td>\n",
       "      <td>PhD</td>\n",
       "      <td>Together</td>\n",
       "      <td>NaN</td>\n",
       "      <td>1</td>\n",
       "      <td>0</td>\n",
       "      <td>02-03-2014</td>\n",
       "      <td>17</td>\n",
       "      <td>25</td>\n",
       "      <td>1</td>\n",
       "      <td>13</td>\n",
       "      <td>0</td>\n",
       "      <td>0</td>\n",
       "      <td>3</td>\n",
       "      <td>1</td>\n",
       "      <td>1</td>\n",
       "      <td>0</td>\n",
       "      <td>3</td>\n",
       "      <td>7</td>\n",
       "      <td>0</td>\n",
       "      <td>0</td>\n",
       "      <td>0</td>\n",
       "      <td>0</td>\n",
       "      <td>0</td>\n",
       "      <td>0</td>\n",
       "      <td>3</td>\n",
       "      <td>11</td>\n",
       "      <td>0</td>\n",
       "    </tr>\n",
       "    <tr>\n",
       "      <th>2059</th>\n",
       "      <td>7187</td>\n",
       "      <td>1969</td>\n",
       "      <td>Master</td>\n",
       "      <td>Together</td>\n",
       "      <td>NaN</td>\n",
       "      <td>1</td>\n",
       "      <td>1</td>\n",
       "      <td>18-05-2013</td>\n",
       "      <td>52</td>\n",
       "      <td>375</td>\n",
       "      <td>42</td>\n",
       "      <td>48</td>\n",
       "      <td>94</td>\n",
       "      <td>66</td>\n",
       "      <td>96</td>\n",
       "      <td>7</td>\n",
       "      <td>4</td>\n",
       "      <td>10</td>\n",
       "      <td>4</td>\n",
       "      <td>3</td>\n",
       "      <td>0</td>\n",
       "      <td>0</td>\n",
       "      <td>0</td>\n",
       "      <td>0</td>\n",
       "      <td>0</td>\n",
       "      <td>0</td>\n",
       "      <td>3</td>\n",
       "      <td>11</td>\n",
       "      <td>0</td>\n",
       "    </tr>\n",
       "    <tr>\n",
       "      <th>2061</th>\n",
       "      <td>1612</td>\n",
       "      <td>1981</td>\n",
       "      <td>PhD</td>\n",
       "      <td>Single</td>\n",
       "      <td>NaN</td>\n",
       "      <td>1</td>\n",
       "      <td>0</td>\n",
       "      <td>31-05-2013</td>\n",
       "      <td>82</td>\n",
       "      <td>23</td>\n",
       "      <td>0</td>\n",
       "      <td>15</td>\n",
       "      <td>0</td>\n",
       "      <td>2</td>\n",
       "      <td>7</td>\n",
       "      <td>2</td>\n",
       "      <td>3</td>\n",
       "      <td>0</td>\n",
       "      <td>3</td>\n",
       "      <td>6</td>\n",
       "      <td>0</td>\n",
       "      <td>0</td>\n",
       "      <td>0</td>\n",
       "      <td>0</td>\n",
       "      <td>0</td>\n",
       "      <td>0</td>\n",
       "      <td>3</td>\n",
       "      <td>11</td>\n",
       "      <td>0</td>\n",
       "    </tr>\n",
       "    <tr>\n",
       "      <th>2078</th>\n",
       "      <td>5079</td>\n",
       "      <td>1971</td>\n",
       "      <td>Graduation</td>\n",
       "      <td>Married</td>\n",
       "      <td>NaN</td>\n",
       "      <td>1</td>\n",
       "      <td>1</td>\n",
       "      <td>03-03-2013</td>\n",
       "      <td>82</td>\n",
       "      <td>71</td>\n",
       "      <td>1</td>\n",
       "      <td>16</td>\n",
       "      <td>0</td>\n",
       "      <td>0</td>\n",
       "      <td>9</td>\n",
       "      <td>4</td>\n",
       "      <td>2</td>\n",
       "      <td>1</td>\n",
       "      <td>3</td>\n",
       "      <td>8</td>\n",
       "      <td>0</td>\n",
       "      <td>0</td>\n",
       "      <td>0</td>\n",
       "      <td>0</td>\n",
       "      <td>0</td>\n",
       "      <td>0</td>\n",
       "      <td>3</td>\n",
       "      <td>11</td>\n",
       "      <td>0</td>\n",
       "    </tr>\n",
       "    <tr>\n",
       "      <th>2079</th>\n",
       "      <td>10339</td>\n",
       "      <td>1954</td>\n",
       "      <td>Master</td>\n",
       "      <td>Together</td>\n",
       "      <td>NaN</td>\n",
       "      <td>0</td>\n",
       "      <td>1</td>\n",
       "      <td>23-06-2013</td>\n",
       "      <td>83</td>\n",
       "      <td>161</td>\n",
       "      <td>0</td>\n",
       "      <td>22</td>\n",
       "      <td>0</td>\n",
       "      <td>0</td>\n",
       "      <td>24</td>\n",
       "      <td>2</td>\n",
       "      <td>4</td>\n",
       "      <td>1</td>\n",
       "      <td>4</td>\n",
       "      <td>6</td>\n",
       "      <td>0</td>\n",
       "      <td>0</td>\n",
       "      <td>0</td>\n",
       "      <td>0</td>\n",
       "      <td>0</td>\n",
       "      <td>0</td>\n",
       "      <td>3</td>\n",
       "      <td>11</td>\n",
       "      <td>0</td>\n",
       "    </tr>\n",
       "    <tr>\n",
       "      <th>2081</th>\n",
       "      <td>3117</td>\n",
       "      <td>1955</td>\n",
       "      <td>Graduation</td>\n",
       "      <td>Single</td>\n",
       "      <td>NaN</td>\n",
       "      <td>0</td>\n",
       "      <td>1</td>\n",
       "      <td>18-10-2013</td>\n",
       "      <td>95</td>\n",
       "      <td>264</td>\n",
       "      <td>0</td>\n",
       "      <td>21</td>\n",
       "      <td>12</td>\n",
       "      <td>6</td>\n",
       "      <td>147</td>\n",
       "      <td>3</td>\n",
       "      <td>6</td>\n",
       "      <td>1</td>\n",
       "      <td>5</td>\n",
       "      <td>7</td>\n",
       "      <td>0</td>\n",
       "      <td>0</td>\n",
       "      <td>0</td>\n",
       "      <td>0</td>\n",
       "      <td>0</td>\n",
       "      <td>0</td>\n",
       "      <td>3</td>\n",
       "      <td>11</td>\n",
       "      <td>0</td>\n",
       "    </tr>\n",
       "    <tr>\n",
       "      <th>2084</th>\n",
       "      <td>5250</td>\n",
       "      <td>1943</td>\n",
       "      <td>Master</td>\n",
       "      <td>Widow</td>\n",
       "      <td>NaN</td>\n",
       "      <td>0</td>\n",
       "      <td>0</td>\n",
       "      <td>30-10-2013</td>\n",
       "      <td>75</td>\n",
       "      <td>532</td>\n",
       "      <td>126</td>\n",
       "      <td>490</td>\n",
       "      <td>164</td>\n",
       "      <td>126</td>\n",
       "      <td>126</td>\n",
       "      <td>1</td>\n",
       "      <td>5</td>\n",
       "      <td>5</td>\n",
       "      <td>11</td>\n",
       "      <td>1</td>\n",
       "      <td>0</td>\n",
       "      <td>0</td>\n",
       "      <td>1</td>\n",
       "      <td>0</td>\n",
       "      <td>0</td>\n",
       "      <td>0</td>\n",
       "      <td>3</td>\n",
       "      <td>11</td>\n",
       "      <td>1</td>\n",
       "    </tr>\n",
       "    <tr>\n",
       "      <th>2228</th>\n",
       "      <td>8720</td>\n",
       "      <td>1978</td>\n",
       "      <td>2n Cycle</td>\n",
       "      <td>Together</td>\n",
       "      <td>NaN</td>\n",
       "      <td>0</td>\n",
       "      <td>0</td>\n",
       "      <td>12-08-2012</td>\n",
       "      <td>53</td>\n",
       "      <td>32</td>\n",
       "      <td>2</td>\n",
       "      <td>1607</td>\n",
       "      <td>12</td>\n",
       "      <td>4</td>\n",
       "      <td>22</td>\n",
       "      <td>0</td>\n",
       "      <td>0</td>\n",
       "      <td>0</td>\n",
       "      <td>1</td>\n",
       "      <td>0</td>\n",
       "      <td>0</td>\n",
       "      <td>1</td>\n",
       "      <td>0</td>\n",
       "      <td>0</td>\n",
       "      <td>0</td>\n",
       "      <td>0</td>\n",
       "      <td>3</td>\n",
       "      <td>11</td>\n",
       "      <td>0</td>\n",
       "    </tr>\n",
       "  </tbody>\n",
       "</table>\n",
       "</div>"
      ],
      "text/plain": [
       "         ID  Year_Birth   Education Marital_Status  Income  Kidhome  Teenhome  \\\n",
       "10     1994        1983  Graduation        Married     NaN        1         0   \n",
       "27     5255        1986  Graduation         Single     NaN        1         0   \n",
       "43     7281        1959         PhD         Single     NaN        0         0   \n",
       "48     7244        1951  Graduation         Single     NaN        2         1   \n",
       "58     8557        1982  Graduation         Single     NaN        1         0   \n",
       "71    10629        1973    2n Cycle        Married     NaN        1         0   \n",
       "90     8996        1957         PhD        Married     NaN        2         1   \n",
       "91     9235        1957  Graduation         Single     NaN        1         1   \n",
       "92     5798        1973      Master       Together     NaN        0         0   \n",
       "128    8268        1961         PhD        Married     NaN        0         1   \n",
       "133    1295        1963  Graduation        Married     NaN        0         1   \n",
       "312    2437        1989  Graduation        Married     NaN        0         0   \n",
       "319    2863        1970  Graduation         Single     NaN        1         2   \n",
       "1379  10475        1970      Master       Together     NaN        0         1   \n",
       "1382   2902        1958  Graduation       Together     NaN        1         1   \n",
       "1383   4345        1964    2n Cycle         Single     NaN        1         1   \n",
       "1386   3769        1972         PhD       Together     NaN        1         0   \n",
       "2059   7187        1969      Master       Together     NaN        1         1   \n",
       "2061   1612        1981         PhD         Single     NaN        1         0   \n",
       "2078   5079        1971  Graduation        Married     NaN        1         1   \n",
       "2079  10339        1954      Master       Together     NaN        0         1   \n",
       "2081   3117        1955  Graduation         Single     NaN        0         1   \n",
       "2084   5250        1943      Master          Widow     NaN        0         0   \n",
       "2228   8720        1978    2n Cycle       Together     NaN        0         0   \n",
       "\n",
       "     Dt_Customer  Recency  MntWines  MntFruits  MntMeatProducts  \\\n",
       "10    15-11-2013       11         5          5                6   \n",
       "27    20-02-2013       19         5          1                3   \n",
       "43    05-11-2013       80        81         11               50   \n",
       "48    01-01-2014       96        48          5               48   \n",
       "58    17-06-2013       57        11          3               22   \n",
       "71    14-09-2012       25        25          3               43   \n",
       "90    19-11-2012        4       230         42              192   \n",
       "91    27-05-2014       45         7          0                8   \n",
       "92    23-11-2013       87       445         37              359   \n",
       "128   11-07-2013       23       352          0               27   \n",
       "133   11-08-2013       96       231         65              196   \n",
       "312   03-06-2013       69       861        138              461   \n",
       "319   23-08-2013       67       738         20              172   \n",
       "1379  01-04-2013       39       187          5               65   \n",
       "1382  03-09-2012       87        19          4               12   \n",
       "1383  12-01-2014       49         5          1                9   \n",
       "1386  02-03-2014       17        25          1               13   \n",
       "2059  18-05-2013       52       375         42               48   \n",
       "2061  31-05-2013       82        23          0               15   \n",
       "2078  03-03-2013       82        71          1               16   \n",
       "2079  23-06-2013       83       161          0               22   \n",
       "2081  18-10-2013       95       264          0               21   \n",
       "2084  30-10-2013       75       532        126              490   \n",
       "2228  12-08-2012       53        32          2             1607   \n",
       "\n",
       "      MntFishProducts  MntSweetProducts  MntGoldProds  NumDealsPurchases  \\\n",
       "10                  0                 2             1                  1   \n",
       "27                  3               263           362                  0   \n",
       "43                  3                 2            39                  1   \n",
       "48                  6                10             7                  3   \n",
       "58                  2                 2             6                  2   \n",
       "71                 17                 4            17                  3   \n",
       "90                 49                37            53                 12   \n",
       "91                  2                 0             1                  1   \n",
       "92                 98                28            18                  1   \n",
       "128                10                 0            15                  3   \n",
       "133                38                71           124                  1   \n",
       "312                60                30            61                  1   \n",
       "319                52                50            20                  6   \n",
       "1379               26                20            14                  2   \n",
       "1382                2                 2             6                  1   \n",
       "1383                2                 0             4                  1   \n",
       "1386                0                 0             3                  1   \n",
       "2059               94                66            96                  7   \n",
       "2061                0                 2             7                  2   \n",
       "2078                0                 0             9                  4   \n",
       "2079                0                 0            24                  2   \n",
       "2081               12                 6           147                  3   \n",
       "2084              164               126           126                  1   \n",
       "2228               12                 4            22                  0   \n",
       "\n",
       "      NumWebPurchases  NumCatalogPurchases  NumStorePurchases  \\\n",
       "10                  1                    0                  2   \n",
       "27                 27                    0                  0   \n",
       "43                  1                    3                  4   \n",
       "48                  2                    1                  4   \n",
       "58                  2                    0                  3   \n",
       "71                  3                    0                  3   \n",
       "90                  7                    2                  8   \n",
       "91                  1                    0                  2   \n",
       "92                  2                    4                  8   \n",
       "128                 6                    1                  7   \n",
       "133                 6                    5                  7   \n",
       "312                 6                    5                 12   \n",
       "319                 2                    3                 10   \n",
       "1379                4                    2                  6   \n",
       "1382                1                    0                  3   \n",
       "1383                1                    0                  2   \n",
       "1386                1                    0                  3   \n",
       "2059                4                   10                  4   \n",
       "2061                3                    0                  3   \n",
       "2078                2                    1                  3   \n",
       "2079                4                    1                  4   \n",
       "2081                6                    1                  5   \n",
       "2084                5                    5                 11   \n",
       "2228                0                    0                  1   \n",
       "\n",
       "      NumWebVisitsMonth  AcceptedCmp3  AcceptedCmp4  AcceptedCmp5  \\\n",
       "10                    7             0             0             0   \n",
       "27                    1             0             0             0   \n",
       "43                    2             0             0             0   \n",
       "48                    6             0             0             0   \n",
       "58                    6             0             0             0   \n",
       "71                    8             0             0             0   \n",
       "90                    9             0             0             0   \n",
       "91                    7             0             0             0   \n",
       "92                    1             0             0             0   \n",
       "128                   6             0             0             0   \n",
       "133                   4             0             0             0   \n",
       "312                   3             0             1             0   \n",
       "319                   7             0             1             0   \n",
       "1379                  5             0             0             0   \n",
       "1382                  5             0             0             0   \n",
       "1383                  7             0             0             0   \n",
       "1386                  7             0             0             0   \n",
       "2059                  3             0             0             0   \n",
       "2061                  6             0             0             0   \n",
       "2078                  8             0             0             0   \n",
       "2079                  6             0             0             0   \n",
       "2081                  7             0             0             0   \n",
       "2084                  1             0             0             1   \n",
       "2228                  0             0             1             0   \n",
       "\n",
       "      AcceptedCmp1  AcceptedCmp2  Complain  Z_CostContact  Z_Revenue  Response  \n",
       "10               0             0         0              3         11         0  \n",
       "27               0             0         0              3         11         0  \n",
       "43               0             0         0              3         11         0  \n",
       "48               0             0         0              3         11         0  \n",
       "58               0             0         0              3         11         0  \n",
       "71               0             0         0              3         11         0  \n",
       "90               0             0         0              3         11         0  \n",
       "91               0             0         0              3         11         0  \n",
       "92               0             0         0              3         11         0  \n",
       "128              0             0         0              3         11         0  \n",
       "133              0             0         0              3         11         0  \n",
       "312              1             0         0              3         11         0  \n",
       "319              1             0         0              3         11         0  \n",
       "1379             0             0         0              3         11         0  \n",
       "1382             0             0         0              3         11         0  \n",
       "1383             0             0         0              3         11         0  \n",
       "1386             0             0         0              3         11         0  \n",
       "2059             0             0         0              3         11         0  \n",
       "2061             0             0         0              3         11         0  \n",
       "2078             0             0         0              3         11         0  \n",
       "2079             0             0         0              3         11         0  \n",
       "2081             0             0         0              3         11         0  \n",
       "2084             0             0         0              3         11         1  \n",
       "2228             0             0         0              3         11         0  "
      ]
     },
     "execution_count": 10,
     "metadata": {},
     "output_type": "execute_result"
    }
   ],
   "source": [
    "missing_rows"
   ]
  },
  {
   "cell_type": "code",
   "execution_count": 11,
   "id": "0f53b197-b25a-41be-bab2-2e2a46c6ed0a",
   "metadata": {},
   "outputs": [],
   "source": [
    "# When examining the rows with missing income values, \n",
    "# other attributes such as year of birth, education, and marital status vary \n",
    "# and show no consistent pattern.\n",
    "# --> Tthe missing income values are likely MCAR and can be safely dropped.\n",
    "\n",
    "df = df.dropna(subset=['Income'])"
   ]
  },
  {
   "cell_type": "markdown",
   "id": "e4b666c8-177c-4ede-80ef-7a6087eac739",
   "metadata": {
    "jp-MarkdownHeadingCollapsed": true
   },
   "source": [
    "#### Handle date-time values"
   ]
  },
  {
   "cell_type": "code",
   "execution_count": 12,
   "id": "2cf61afa-7fa1-45fd-9df2-a51bd3dc078b",
   "metadata": {},
   "outputs": [],
   "source": [
    "# change data type of Dt_Customer to d - m - Y format\n",
    "df['Dt_Customer'] = pd.to_datetime(df['Dt_Customer'], format = \"%d-%m-%Y\")"
   ]
  },
  {
   "cell_type": "code",
   "execution_count": 13,
   "id": "b3f43d20-5918-4e98-96d2-c8684eecc2bf",
   "metadata": {},
   "outputs": [],
   "source": [
    "# extract year, month, day for later analysis \n",
    "df['Dt_year'] = df['Dt_Customer'].dt.year\n",
    "df['Dt_month'] = df['Dt_Customer'].dt.month\n",
    "df['Dt_day'] = df['Dt_Customer'].dt.day"
   ]
  },
  {
   "cell_type": "markdown",
   "id": "6e6c32eb-7e9f-4e6c-8516-0dcea56d5587",
   "metadata": {
    "jp-MarkdownHeadingCollapsed": true
   },
   "source": [
    "#### Handle categorical values"
   ]
  },
  {
   "cell_type": "code",
   "execution_count": 14,
   "id": "acbdb3b1-1f11-4cf9-aaf6-4036c230e5f8",
   "metadata": {},
   "outputs": [
    {
     "data": {
      "text/plain": [
       "Education\n",
       "Graduation    1116\n",
       "PhD            481\n",
       "Master         365\n",
       "2n Cycle       200\n",
       "Basic           54\n",
       "Name: count, dtype: int64"
      ]
     },
     "execution_count": 14,
     "metadata": {},
     "output_type": "execute_result"
    }
   ],
   "source": [
    "# check Education attribute \n",
    "df['Education'].value_counts()"
   ]
  },
  {
   "cell_type": "code",
   "execution_count": 15,
   "id": "eda4f281-89b8-4998-8c36-fd6fb81f837f",
   "metadata": {},
   "outputs": [
    {
     "data": {
      "text/plain": [
       "Marital_Status\n",
       "Married     857\n",
       "Together    573\n",
       "Single      471\n",
       "Divorced    232\n",
       "Widow        76\n",
       "Alone         3\n",
       "Absurd        2\n",
       "YOLO          2\n",
       "Name: count, dtype: int64"
      ]
     },
     "execution_count": 15,
     "metadata": {},
     "output_type": "execute_result"
    }
   ],
   "source": [
    "# check Marital_Status attribut\n",
    "df['Marital_Status'].value_counts()"
   ]
  },
  {
   "cell_type": "code",
   "execution_count": 16,
   "id": "ba41dd36-fa97-4e8a-942f-eb486a59d288",
   "metadata": {},
   "outputs": [],
   "source": [
    "# Marital_Status has 8 categories, with two rare ones ('Absurd', 'YOLO') --> drop them\n",
    "# Group the rest:\n",
    "# 'Married', 'Together' -->  'In a Relationship'\n",
    "# 'Single', 'Divorced', 'Widow', 'Alone' -->  'Single'"
   ]
  },
  {
   "cell_type": "code",
   "execution_count": 17,
   "id": "89426c09-ca65-4cd1-a9cb-eb29e3597e87",
   "metadata": {},
   "outputs": [],
   "source": [
    "# group\n",
    "df['Marital_Status'] = df['Marital_Status'].replace({\n",
    "    'Together': 'In a relationship',\n",
    "    'Married': 'In a relationship',\n",
    "    'Single': 'Single',\n",
    "    'Divorced': 'Single',\n",
    "    'Widow': 'Single',\n",
    "    'Alone': 'Single',\n",
    "    'Absurd': 'Other',\n",
    "    'YOLO': 'Other'\n",
    "})\n",
    "\n",
    "# drop \n",
    "df = df[df['Marital_Status'] != \"Other\"]"
   ]
  },
  {
   "cell_type": "code",
   "execution_count": 18,
   "id": "c787b6d3-bbb4-4f38-b35a-5a0881d498d7",
   "metadata": {},
   "outputs": [
    {
     "data": {
      "text/plain": [
       "Marital_Status\n",
       "In a relationship    1430\n",
       "Single                782\n",
       "Name: count, dtype: int64"
      ]
     },
     "execution_count": 18,
     "metadata": {},
     "output_type": "execute_result"
    }
   ],
   "source": [
    "# check again after grouping\n",
    "df['Marital_Status'].value_counts()"
   ]
  },
  {
   "cell_type": "markdown",
   "id": "497ca88a-cbef-4605-85c2-a25bb8127578",
   "metadata": {
    "jp-MarkdownHeadingCollapsed": true
   },
   "source": [
    "#### Handle boolean values"
   ]
  },
  {
   "cell_type": "code",
   "execution_count": 19,
   "id": "0ba74d5b-46ce-451d-8719-67c54af4cf9d",
   "metadata": {
    "scrolled": true
   },
   "outputs": [
    {
     "name": "stdout",
     "output_type": "stream",
     "text": [
      "Complain\n",
      "0    2191\n",
      "1      21\n",
      "Name: count, dtype: int64\n",
      "------\n",
      "AcceptedCmp1\n",
      "0    2071\n",
      "1     141\n",
      "Name: count, dtype: int64\n",
      "------\n",
      "AcceptedCmp2\n",
      "0    2182\n",
      "1      30\n",
      "Name: count, dtype: int64\n",
      "------\n",
      "AcceptedCmp3\n",
      "0    2049\n",
      "1     163\n",
      "Name: count, dtype: int64\n",
      "------\n",
      "AcceptedCmp4\n",
      "0    2048\n",
      "1     164\n",
      "Name: count, dtype: int64\n",
      "------\n",
      "AcceptedCmp5\n",
      "0    2051\n",
      "1     161\n",
      "Name: count, dtype: int64\n",
      "------\n"
     ]
    }
   ],
   "source": [
    "# there are columns in which value is 1/0 (as yes/no) \n",
    "# need to check whether there are other values than 1 and 0\n",
    "\n",
    "boolean_cols = ['Complain', 'AcceptedCmp1', 'AcceptedCmp2', 'AcceptedCmp3', 'AcceptedCmp4', 'AcceptedCmp5']\n",
    "for col in boolean_cols:\n",
    "    print(df[col].value_counts())\n",
    "    print('------')"
   ]
  },
  {
   "cell_type": "markdown",
   "id": "05a10dab-b335-4d55-987a-780b490ad45f",
   "metadata": {
    "jp-MarkdownHeadingCollapsed": true
   },
   "source": [
    "#### Add columns"
   ]
  },
  {
   "cell_type": "code",
   "execution_count": 20,
   "id": "05a33a99-8813-459f-9210-3888c86c0797",
   "metadata": {},
   "outputs": [],
   "source": [
    "# add: Children = Kidhome + Teenhome\n",
    "df['Children'] = df['Kidhome'] + df['Teenhome']"
   ]
  },
  {
   "cell_type": "code",
   "execution_count": 21,
   "id": "e04a3890-e220-4c47-b1c3-f3f0cb407405",
   "metadata": {},
   "outputs": [],
   "source": [
    "# add: IsParent: 1 for Children > 0, 0 for Children = 0\n",
    "df['IsParent'] = np.where(df['Children']> 0, 1, 0)"
   ]
  },
  {
   "cell_type": "code",
   "execution_count": 22,
   "id": "517ca167-9415-4f1e-99af-a0fe7227118a",
   "metadata": {},
   "outputs": [],
   "source": [
    "# add: Mnt Total = sum of all Mnt\n",
    "df['MntTotal'] = df['MntWines'] + df['MntFruits'] + df['MntMeatProducts'] + df['MntFishProducts'] + df['MntSweetProducts'] + df['MntGoldProds']"
   ]
  },
  {
   "cell_type": "code",
   "execution_count": 23,
   "id": "0ba8f0af-735b-4a4f-855c-bb830afb92f1",
   "metadata": {},
   "outputs": [],
   "source": [
    "# add: Age\n",
    "df['Age'] = 2025 - df['Year_Birth']"
   ]
  },
  {
   "cell_type": "markdown",
   "id": "d8ba365b-ffdf-4844-ba2d-f4e0833bb02a",
   "metadata": {},
   "source": [
    "### 4. Distribution Analysis"
   ]
  },
  {
   "cell_type": "markdown",
   "id": "f6e83dff-bfd9-400b-8e9c-097bd2295b50",
   "metadata": {
    "jp-MarkdownHeadingCollapsed": true
   },
   "source": [
    "#### For categorical values"
   ]
  },
  {
   "cell_type": "code",
   "execution_count": 24,
   "id": "62a88e07-04c6-44cc-b024-75c9f2f938a0",
   "metadata": {},
   "outputs": [],
   "source": [
    "# create function to draw bar chart to count frequency\n",
    "def frequency(col, figsize = (5,2)):\n",
    "    vc = df[col].value_counts()\n",
    "    plt.figure(figsize=figsize)\n",
    "    sns.barplot(x=vc.index, y=vc.values)\n",
    "    plt.title(f'Bar Chart of {col}')\n",
    "    plt.ylabel(col)\n",
    "    plt.show()"
   ]
  },
  {
   "cell_type": "code",
   "execution_count": 25,
   "id": "0eaa25ac-cab1-4692-9d77-e07d556a6c00",
   "metadata": {},
   "outputs": [],
   "source": [
    "# create function to draw pie chart\n",
    "def pie_chart(col, figsize=(3,3)):\n",
    "    vc = df[col].value_counts()\n",
    "    plt.figure(figsize=figsize)\n",
    "    \n",
    "    # draw pie\n",
    "    plt.pie(vc.values, startangle=90, colors=sns.color_palette('pastel')[0:len(vc)])\n",
    "    \n",
    "    # legend \n",
    "    total = vc.sum()\n",
    "    legend_labels = [f\"{idx} ({value/total:.1%})\" for idx, value in zip(vc.index, vc.values)]\n",
    "    plt.legend(legend_labels, title=\"Categories\", \n",
    "               bbox_to_anchor=(1.05, 0.5), loc=\"center left\", fontsize=9)\n",
    "    \n",
    "    plt.title(f'Pie Chart of {col}')\n",
    "    plt.show()"
   ]
  },
  {
   "cell_type": "code",
   "execution_count": 26,
   "id": "70fa61e3-4ad0-462a-9a12-ab738c32ca7f",
   "metadata": {
    "scrolled": true
   },
   "outputs": [
    {
     "data": {
      "image/png": "[encoded data removed]",
      "text/plain": [
       "<Figure size 300x300 with 1 Axes>"
      ]
     },
     "metadata": {},
     "output_type": "display_data"
    },
    {
     "data": {
      "image/png": "[encoded data removed]",
      "text/plain": [
       "<Figure size 500x200 with 1 Axes>"
      ]
     },
     "metadata": {},
     "output_type": "display_data"
    }
   ],
   "source": [
    "# Education\n",
    "pie_chart('Education')\n",
    "frequency('Education')"
   ]
  },
  {
   "cell_type": "code",
   "execution_count": 27,
   "id": "1ef8f23e-ce76-48e2-88e2-43b2bb5a7353",
   "metadata": {},
   "outputs": [],
   "source": [
    "# more than 50% customers have graduated\n",
    "# 38% customer pursuit higher education\n",
    "# only small portion are undergraduates"
   ]
  },
  {
   "cell_type": "code",
   "execution_count": 28,
   "id": "9e3ce1ee-e34d-45dd-a13a-f2b93f49d962",
   "metadata": {
    "scrolled": true
   },
   "outputs": [
    {
     "data": {
      "image/png": "[encoded data removed]",
      "text/plain": [
       "<Figure size 500x200 with 1 Axes>"
      ]
     },
     "metadata": {},
     "output_type": "display_data"
    },
    {
     "data": {
      "image/png": "[encoded data removed]",
      "text/plain": [
       "<Figure size 300x300 with 1 Axes>"
      ]
     },
     "metadata": {},
     "output_type": "display_data"
    }
   ],
   "source": [
    "# Marital_Status\n",
    "frequency('Marital_Status', figsize = (5,2))\n",
    "pie_chart('Marital_Status')"
   ]
  },
  {
   "cell_type": "code",
   "execution_count": 29,
   "id": "fc29ccb3-4e9e-4250-b100-603afdd77a3f",
   "metadata": {},
   "outputs": [],
   "source": [
    "# --> 35.4% single, 64.6% in a relationship"
   ]
  },
  {
   "cell_type": "markdown",
   "id": "3dd9ab51-3825-4e63-bfaa-33f0dfc14101",
   "metadata": {
    "jp-MarkdownHeadingCollapsed": true
   },
   "source": [
    "#### For boolean values"
   ]
  },
  {
   "cell_type": "code",
   "execution_count": 30,
   "id": "2b906814-a719-472c-8580-52349fccc63e",
   "metadata": {},
   "outputs": [
    {
     "data": {
      "image/png": "[encoded data removed]",
      "text/plain": [
       "<Figure size 300x300 with 1 Axes>"
      ]
     },
     "metadata": {},
     "output_type": "display_data"
    }
   ],
   "source": [
    "# IsParent\n",
    "pie_chart('IsParent', figsize=(3,3))"
   ]
  },
  {
   "cell_type": "code",
   "execution_count": 31,
   "id": "0ec0346a-ccc2-4467-902f-af70b966f5a0",
   "metadata": {},
   "outputs": [],
   "source": [
    "# --> 71% have children -- 28% don't have children"
   ]
  },
  {
   "cell_type": "code",
   "execution_count": 32,
   "id": "e5dc0c18-f933-4ac6-8609-37f9ff6c0247",
   "metadata": {},
   "outputs": [
    {
     "data": {
      "image/png": "[encoded data removed]",
      "text/plain": [
       "<Figure size 300x300 with 1 Axes>"
      ]
     },
     "metadata": {},
     "output_type": "display_data"
    }
   ],
   "source": [
    "# Complain\n",
    "pie_chart('Complain', figsize=(3,3))"
   ]
  },
  {
   "cell_type": "code",
   "execution_count": 33,
   "id": "d090d084-5ade-4d45-9460-8f75df2dbd9f",
   "metadata": {},
   "outputs": [],
   "source": [
    "# only 0.9% customers had complained before"
   ]
  },
  {
   "cell_type": "code",
   "execution_count": 34,
   "id": "966c26d3-f354-44fa-89ed-332394439e40",
   "metadata": {
    "scrolled": true
   },
   "outputs": [
    {
     "data": {
      "image/png": "[encoded data removed]",
      "text/plain": [
       "<Figure size 300x300 with 1 Axes>"
      ]
     },
     "metadata": {},
     "output_type": "display_data"
    },
    {
     "data": {
      "image/png": "[encoded data removed]",
      "text/plain": [
       "<Figure size 300x300 with 1 Axes>"
      ]
     },
     "metadata": {},
     "output_type": "display_data"
    },
    {
     "data": {
      "image/png": "[encoded data removed]",
      "text/plain": [
       "<Figure size 300x300 with 1 Axes>"
      ]
     },
     "metadata": {},
     "output_type": "display_data"
    },
    {
     "data": {
      "image/png": "[encoded data removed]",
      "text/plain": [
       "<Figure size 300x300 with 1 Axes>"
      ]
     },
     "metadata": {},
     "output_type": "display_data"
    },
    {
     "data": {
      "image/png": "[encoded data removed]",
      "text/plain": [
       "<Figure size 300x300 with 1 Axes>"
      ]
     },
     "metadata": {},
     "output_type": "display_data"
    }
   ],
   "source": [
    "# Promotion Campaign: 1 for accepted / 0 for unaccepted\n",
    "cmp = ['AcceptedCmp1', 'AcceptedCmp2', 'AcceptedCmp3', 'AcceptedCmp4', 'AcceptedCmp5']\n",
    "for c in cmp:\n",
    "    pie_chart(c , figsize=(3,3))"
   ]
  },
  {
   "cell_type": "code",
   "execution_count": 35,
   "id": "498a932f-8e32-4dda-ae6b-5fa017dcd482",
   "metadata": {},
   "outputs": [],
   "source": [
    "# 6.4% accepted cmp1\n",
    "# 1.3% accepted cmp2\n",
    "# 7.3% accepted cmp3\n",
    "# 7.5% accepted cmp4\n",
    "# 7.2% accepted cmp5"
   ]
  },
  {
   "cell_type": "markdown",
   "id": "e4925f26-90fa-4431-9a6a-67920758522d",
   "metadata": {},
   "source": [
    "#### Outliner detect and treatment for numeric values"
   ]
  },
  {
   "cell_type": "code",
   "execution_count": 36,
   "id": "0b40ebb1-d584-4bf7-9477-e2bdb7afc7b9",
   "metadata": {},
   "outputs": [],
   "source": [
    "# create function to draw boxplot \n",
    "def box_plot(col, figsize=(5,3)):\n",
    "    plt.figure(figsize=figsize)\n",
    "    sns.boxplot(x=df[col], color='skyblue', width=0.5)\n",
    "    plt.title(f'Box Plot of {col}', fontsize=12)\n",
    "    plt.xlabel(col)\n",
    "    plt.grid(axis='x', linestyle='--', alpha=0.6)\n",
    "    plt.show()"
   ]
  },
  {
   "cell_type": "code",
   "execution_count": 37,
   "id": "788d800a-4f95-4376-aa8e-6ab6b901a097",
   "metadata": {},
   "outputs": [],
   "source": [
    "numeric_col = ['Age','Recency', 'Income', 'MntTotal', 'MntWines', 'MntFruits', 'MntMeatProducts', 'MntFishProducts', 'MntSweetProducts', 'MntGoldProds']"
   ]
  },
  {
   "cell_type": "code",
   "execution_count": 38,
   "id": "0ff060ec-686d-4e34-9c7c-ca4310952fd6",
   "metadata": {
    "jupyter": {
     "source_hidden": true
    }
   },
   "outputs": [],
   "source": [
    "# create function to detect outlier\n",
    "def outlier_detect(col):\n",
    "    Q1 = df[col].quantile(0.25)\n",
    "    Q3 = df[col].quantile(0.75)\n",
    "    IQR = Q3 - Q1\n",
    "    lower_bound = Q1 - 1.5 * IQR\n",
    "    upper_bound = Q3 + 1.5 * IQR\n",
    "\n",
    "    outliers = df[(df[col] < lower_bound) | (df[col] > upper_bound)]\n",
    "    outlier_percent = len(outliers) / len(df) * 100\n",
    "\n",
    "    print(f\"Column: {col}\")\n",
    "    box_plot(col, figsize=(5,3))\n",
    "    print(f\"Total outliers: {len(outliers)} ({outlier_percent:.2f}%)\")\n",
    "    print(f\"Range: min={df[col].min():.2f}, Q1={Q1:.2f}, median={df[col].median():.2f}, Q3={Q3:.2f}, max={df[col].max():.2f}\")\n",
    "    print(f\"IQR: {IQR:.2f}\")\n",
    "    print(f\"Lower bound: {lower_bound:.2f}, Upper bound: {upper_bound:.2f}\")\n",
    "    \n",
    "\n",
    "    if len(outliers) > 0:\n",
    "        print(f\"Some outlier values: {outliers[col].sort_values().head(3).tolist()} ... {outliers[col].sort_values().tail(3).tolist()}\")\n",
    "\n",
    "    if len(outliers) == 0:\n",
    "        print('→ No outlier')\n",
    "    elif outlier_percent < 2:\n",
    "        print('→ Suggestion: Drop these outliers.')\n",
    "    elif outlier_percent < 10:\n",
    "        print('→ Suggestion: Consider capping or transforming (log).')\n",
    "    else:\n",
    "        print('→ Suggestion: Check if these values are genuine, maybe keep them.')\n",
    "\n",
    "    print('-----------------------------------------------------------------------')\n"
   ]
  },
  {
   "cell_type": "code",
   "execution_count": 39,
   "id": "2d7ad205-9139-45a4-a721-4e96e55bb1fd",
   "metadata": {},
   "outputs": [],
   "source": [
    "# create function to drop outlier\n",
    "def drop_outlier(df, col):\n",
    "    Q1 = df[col].quantile(0.25)\n",
    "    Q3 = df[col].quantile(0.75)\n",
    "    IQR = Q3 - Q1\n",
    "    lower_bound = Q1 - 1.5 * IQR\n",
    "    upper_bound = Q3 + 1.5 * IQR\n",
    "    \n",
    "    df_clean = df[(df[col] >= lower_bound) & (df[col] <= upper_bound)]\n",
    "    print(f\"{col}: dropped {len(df) - len(df_clean)} outliers ({(len(df) - len(df_clean))/len(df)*100:.2f}%)\")\n",
    "    \n",
    "    return df_clean"
   ]
  },
  {
   "cell_type": "markdown",
   "id": "7b040fd0-70db-40d2-aff0-4d0a6b5e868b",
   "metadata": {
    "jp-MarkdownHeadingCollapsed": true
   },
   "source": [
    "##### Recency"
   ]
  },
  {
   "cell_type": "code",
   "execution_count": 40,
   "id": "4f584ca7-546f-4fc3-9f96-deaf1272180f",
   "metadata": {},
   "outputs": [
    {
     "name": "stdout",
     "output_type": "stream",
     "text": [
      "Column: Recency\n"
     ]
    },
    {
     "data": {
      "image/png": "[encoded data removed]",
      "text/plain": [
       "<Figure size 500x300 with 1 Axes>"
      ]
     },
     "metadata": {},
     "output_type": "display_data"
    },
    {
     "name": "stdout",
     "output_type": "stream",
     "text": [
      "Total outliers: 0 (0.00%)\n",
      "Range: min=0.00, Q1=24.00, median=49.00, Q3=74.00, max=99.00\n",
      "IQR: 50.00\n",
      "Lower bound: -51.00, Upper bound: 149.00\n",
      "→ No outlier\n",
      "-----------------------------------------------------------------------\n"
     ]
    }
   ],
   "source": [
    "# Recency\n",
    "outlier_detect('Recency')"
   ]
  },
  {
   "cell_type": "code",
   "execution_count": 41,
   "id": "a70615f1-61ef-408d-827a-2c9793758bc8",
   "metadata": {},
   "outputs": [],
   "source": [
    "# Recency shows a right-skewed distribution\n",
    "# --> fewer customers made recent purchases compared to those who purchased long ago\n",
    "# Most customers' time since last purchase falls within the 40-80 day range"
   ]
  },
  {
   "cell_type": "markdown",
   "id": "10b79a4d-35b8-460d-b02f-fa2867e086ab",
   "metadata": {
    "jp-MarkdownHeadingCollapsed": true
   },
   "source": [
    "##### Income"
   ]
  },
  {
   "cell_type": "code",
   "execution_count": 42,
   "id": "e655669a-c6a7-4431-9e19-abdebecda6a3",
   "metadata": {},
   "outputs": [
    {
     "name": "stdout",
     "output_type": "stream",
     "text": [
      "Column: Income\n"
     ]
    },
    {
     "data": {
      "image/png": "[encoded data removed]",
      "text/plain": [
       "<Figure size 500x300 with 1 Axes>"
      ]
     },
     "metadata": {},
     "output_type": "display_data"
    },
    {
     "name": "stdout",
     "output_type": "stream",
     "text": [
      "Total outliers: 8 (0.36%)\n",
      "Range: min=1730.00, Q1=35233.50, median=51381.50, Q3=68522.00, max=666666.00\n",
      "IQR: 33288.50\n",
      "Lower bound: -14699.25, Upper bound: 118454.75\n",
      "Some outlier values: [153924.0, 156924.0, 157146.0] ... [160803.0, 162397.0, 666666.0]\n",
      "→ Suggestion: Drop these outliers.\n",
      "-----------------------------------------------------------------------\n"
     ]
    }
   ],
   "source": [
    "# Income\n",
    "outlier_detect('Income')"
   ]
  },
  {
   "cell_type": "code",
   "execution_count": 43,
   "id": "45c87e6c-0838-4f10-9e36-5263c96fcc29",
   "metadata": {},
   "outputs": [
    {
     "name": "stdout",
     "output_type": "stream",
     "text": [
      "Income: dropped 8 outliers (0.36%)\n"
     ]
    }
   ],
   "source": [
    "df = drop_outlier(df, 'Income')"
   ]
  },
  {
   "cell_type": "code",
   "execution_count": 44,
   "id": "d2e68794-55b0-4d31-9915-ac0fbe4eee5c",
   "metadata": {},
   "outputs": [
    {
     "name": "stdout",
     "output_type": "stream",
     "text": [
      "Column: Income\n"
     ]
    },
    {
     "data": {
      "image/png": "[encoded data removed]",
      "text/plain": [
       "<Figure size 500x300 with 1 Axes>"
      ]
     },
     "metadata": {},
     "output_type": "display_data"
    },
    {
     "name": "stdout",
     "output_type": "stream",
     "text": [
      "Total outliers: 0 (0.00%)\n",
      "Range: min=1730.00, Q1=35191.50, median=51301.00, Q3=68289.75, max=113734.00\n",
      "IQR: 33098.25\n",
      "Lower bound: -14455.88, Upper bound: 117937.12\n",
      "→ No outlier\n",
      "-----------------------------------------------------------------------\n"
     ]
    }
   ],
   "source": [
    "outlier_detect('Income')"
   ]
  },
  {
   "cell_type": "code",
   "execution_count": 45,
   "id": "567e78f7-c62e-4e07-b4e2-1a74e193f9bc",
   "metadata": {},
   "outputs": [],
   "source": [
    "# Income Distribution After Outlier Removal:\n",
    "\n",
    "# The interquartile range (IQR) spans roughly from 38,000 to 70,000.\n",
    "# The median income is around 50,000, positioned slightly toward the lower end of the box\n",
    "# The right whisker extends noticeably further than the left one, \n",
    "# confirming the presence of a longer tail on the higher-income side\n",
    "# --> right skewed\n",
    "# The overall income range is approximately 0 to 110,000.\n",
    "# About 50% of customers have an income between 38,000 and 70,000."
   ]
  },
  {
   "cell_type": "markdown",
   "id": "4c913352-3179-486f-a0fe-8a2e0b782126",
   "metadata": {},
   "source": [
    "##### MntWines"
   ]
  },
  {
   "cell_type": "code",
   "execution_count": 46,
   "id": "96910071-20b7-4fda-a125-f89509f74b7d",
   "metadata": {},
   "outputs": [
    {
     "name": "stdout",
     "output_type": "stream",
     "text": [
      "Column: MntWines\n"
     ]
    },
    {
     "data": {
      "image/png": "[encoded data removed]",
      "text/plain": [
       "<Figure size 500x300 with 1 Axes>"
      ]
     },
     "metadata": {},
     "output_type": "display_data"
    },
    {
     "name": "stdout",
     "output_type": "stream",
     "text": [
      "Total outliers: 34 (1.54%)\n",
      "Range: min=0.00, Q1=24.00, median=176.00, Q3=507.25, max=1493.00\n",
      "IQR: 483.25\n",
      "Lower bound: -700.88, Upper bound: 1232.12\n",
      "Some outlier values: [1239, 1241, 1245] ... [1492, 1492, 1493]\n",
      "→ Suggestion: Drop these outliers.\n",
      "-----------------------------------------------------------------------\n"
     ]
    }
   ],
   "source": [
    "# MntWines\n",
    "outlier_detect('MntWines')"
   ]
  },
  {
   "cell_type": "code",
   "execution_count": 47,
   "id": "8c0429b7-a721-46e3-8faf-5384da269d70",
   "metadata": {},
   "outputs": [
    {
     "name": "stdout",
     "output_type": "stream",
     "text": [
      "MntWines: dropped 34 outliers (1.54%)\n"
     ]
    }
   ],
   "source": [
    "df = drop_outlier(df, 'MntWines')"
   ]
  },
  {
   "cell_type": "code",
   "execution_count": 48,
   "id": "0bd768a1-33ec-444c-8c25-1f6b071ad9ef",
   "metadata": {},
   "outputs": [
    {
     "name": "stdout",
     "output_type": "stream",
     "text": [
      "Column: MntWines\n"
     ]
    },
    {
     "data": {
      "image/png": "[encoded data removed]",
      "text/plain": [
       "<Figure size 500x300 with 1 Axes>"
      ]
     },
     "metadata": {},
     "output_type": "display_data"
    },
    {
     "name": "stdout",
     "output_type": "stream",
     "text": [
      "Total outliers: 11 (0.51%)\n",
      "Range: min=0.00, Q1=23.00, median=171.00, Q3=490.00, max=1230.00\n",
      "IQR: 467.00\n",
      "Lower bound: -677.50, Upper bound: 1190.50\n",
      "Some outlier values: [1193, 1200, 1200] ... [1218, 1224, 1230]\n",
      "→ Suggestion: Drop these outliers.\n",
      "-----------------------------------------------------------------------\n"
     ]
    }
   ],
   "source": [
    "outlier_detect('MntWines')"
   ]
  },
  {
   "cell_type": "code",
   "execution_count": 49,
   "id": "7a2e37ce-cf6f-4668-8379-d64bc046ad02",
   "metadata": {},
   "outputs": [],
   "source": [
    "# log_MntWines Distribution\n",
    "# The interquartile range spans roughly from 3 to 6\n",
    "# The median wine expense \n",
    "\n",
    "# The interquartile range (IQR) spans roughly from 38,000 to 70,000.\n",
    "# The median income is around 50,000, positioned slightly toward the lower end of the box\n",
    "# The right whisker extends noticeably further than the left one, \n",
    "# confirming the presence of a longer tail on the higher-income side\n",
    "# --> right skewed\n",
    "# The overall income range is approximately 0 to 110,000.\n",
    "# About 50% of customers have an income between 38,000 and 70,000."
   ]
  },
  {
   "cell_type": "markdown",
   "id": "2b1e75a7-8ab7-4717-bec8-f15e037396d4",
   "metadata": {},
   "source": [
    "##### MntFruit"
   ]
  },
  {
   "cell_type": "code",
   "execution_count": 50,
   "id": "bbe70ab0-83de-42e7-be9e-0b65e21817f3",
   "metadata": {},
   "outputs": [
    {
     "name": "stdout",
     "output_type": "stream",
     "text": [
      "Column: MntFruits\n"
     ]
    },
    {
     "data": {
      "image/png": "[encoded data removed]",
      "text/plain": [
       "<Figure size 500x300 with 1 Axes>"
      ]
     },
     "metadata": {},
     "output_type": "display_data"
    },
    {
     "name": "stdout",
     "output_type": "stream",
     "text": [
      "Total outliers: 241 (11.11%)\n",
      "Range: min=0.00, Q1=2.00, median=8.00, Q3=33.00, max=199.00\n",
      "IQR: 31.00\n",
      "Lower bound: -44.50, Upper bound: 79.50\n",
      "Some outlier values: [80, 80, 80] ... [197, 199, 199]\n",
      "→ Suggestion: Check if these values are genuine, maybe keep them.\n",
      "-----------------------------------------------------------------------\n"
     ]
    }
   ],
   "source": [
    "# MntFruits\n",
    "outlier_detect('MntFruits')"
   ]
  },
  {
   "cell_type": "code",
   "execution_count": 51,
   "id": "4737c652-bb68-4328-b9e4-b4a04ad686a0",
   "metadata": {},
   "outputs": [],
   "source": [
    "# Không có outlier trong cột MntFruits\n",
    "# Phân phối lệch trái --> phần lớn chi tiêu cho hoa quả ít hơn giá trị trung bình\n",
    "# Số tiền chi cho hoa quả chủ yếu nằm trong khoảng 4 - 12"
   ]
  },
  {
   "cell_type": "markdown",
   "id": "dae4b759-8233-4afd-9463-55369c0213e7",
   "metadata": {},
   "source": [
    "##### MntMeatProducts"
   ]
  },
  {
   "cell_type": "code",
   "execution_count": 52,
   "id": "e7786abb-cc7f-4550-89d4-7d972a86d6d0",
   "metadata": {},
   "outputs": [
    {
     "name": "stdout",
     "output_type": "stream",
     "text": [
      "Column: MntMeatProducts\n"
     ]
    },
    {
     "data": {
      "image/png": "[encoded data removed]",
      "text/plain": [
       "<Figure size 500x300 with 1 Axes>"
      ]
     },
     "metadata": {},
     "output_type": "display_data"
    },
    {
     "name": "stdout",
     "output_type": "stream",
     "text": [
      "Total outliers: 189 (8.71%)\n",
      "Range: min=0.00, Q1=15.00, median=65.50, Q3=220.50, max=1725.00\n",
      "IQR: 205.50\n",
      "Lower bound: -293.25, Upper bound: 528.75\n",
      "Some outlier values: [530, 534, 534] ... [981, 984, 1725]\n",
      "→ Suggestion: Consider capping or transforming (log).\n",
      "-----------------------------------------------------------------------\n"
     ]
    }
   ],
   "source": [
    "outlier_detect('MntMeatProducts')"
   ]
  },
  {
   "cell_type": "code",
   "execution_count": 53,
   "id": "40addd87-6935-4831-ac3f-7bfa8dcdebbd",
   "metadata": {},
   "outputs": [],
   "source": [
    "# Không có outliner trong cột MntMeatProducts\n",
    "# Phân phối lệch trái --> phần lớn chi tiêu cho sản phẩm từ thịt ít hơn mức trung bình\n",
    "# Chủ yếu chi tiêu cho sản phẩm từ thịt khoảng 20 - 45"
   ]
  },
  {
   "cell_type": "markdown",
   "id": "8d28a79a-fc19-4906-afb2-951089039639",
   "metadata": {},
   "source": [
    "##### MntFishProducts"
   ]
  },
  {
   "cell_type": "code",
   "execution_count": 54,
   "id": "ea0a1b9d-bfb0-475e-8ee7-f1e43e44a0fc",
   "metadata": {},
   "outputs": [
    {
     "name": "stdout",
     "output_type": "stream",
     "text": [
      "Column: MntFishProducts\n"
     ]
    },
    {
     "data": {
      "image/png": "[encoded data removed]",
      "text/plain": [
       "<Figure size 500x300 with 1 Axes>"
      ]
     },
     "metadata": {},
     "output_type": "display_data"
    },
    {
     "name": "stdout",
     "output_type": "stream",
     "text": [
      "Total outliers: 219 (10.09%)\n",
      "Range: min=0.00, Q1=3.00, median=12.00, Q3=50.00, max=259.00\n",
      "IQR: 47.00\n",
      "Lower bound: -67.50, Upper bound: 120.50\n",
      "Some outlier values: [121, 121, 121] ... [258, 258, 259]\n",
      "→ Suggestion: Check if these values are genuine, maybe keep them.\n",
      "-----------------------------------------------------------------------\n"
     ]
    }
   ],
   "source": [
    "# MntFishProducts\n",
    "outlier_detect('MntFishProducts')"
   ]
  },
  {
   "cell_type": "code",
   "execution_count": 55,
   "id": "a6fe6b10-4a8e-4db7-8e19-d4bb160ee903",
   "metadata": {},
   "outputs": [],
   "source": [
    "# Không có outlier trong MntFishProducts\n",
    "# Phân phối đều, không lệch\n",
    "# Chủ yếu chi tiêu cho sản phẩm từ cá trong khoảng 3.5 - 5.5"
   ]
  },
  {
   "cell_type": "markdown",
   "id": "ea801a35-8a73-48bf-ba81-1571c43ee312",
   "metadata": {},
   "source": [
    "##### MntSweetProducts"
   ]
  },
  {
   "cell_type": "code",
   "execution_count": 56,
   "id": "c6bdd014-f14e-4b75-81b3-360d94011001",
   "metadata": {},
   "outputs": [
    {
     "name": "stdout",
     "output_type": "stream",
     "text": [
      "Column: MntSweetProducts\n"
     ]
    },
    {
     "data": {
      "image/png": "[encoded data removed]",
      "text/plain": [
       "<Figure size 500x300 with 1 Axes>"
      ]
     },
     "metadata": {},
     "output_type": "display_data"
    },
    {
     "name": "stdout",
     "output_type": "stream",
     "text": [
      "Total outliers: 243 (11.20%)\n",
      "Range: min=0.00, Q1=1.00, median=8.00, Q3=32.75, max=262.00\n",
      "IQR: 31.75\n",
      "Lower bound: -46.62, Upper bound: 80.38\n",
      "Some outlier values: [81, 81, 82] ... [197, 198, 262]\n",
      "→ Suggestion: Check if these values are genuine, maybe keep them.\n",
      "-----------------------------------------------------------------------\n"
     ]
    }
   ],
   "source": [
    "# MntSweetsProducts\n",
    "outlier_detect('MntSweetProducts')"
   ]
  },
  {
   "cell_type": "code",
   "execution_count": 57,
   "id": "20d3329d-992d-469f-9195-3a499bfaf990",
   "metadata": {},
   "outputs": [
    {
     "data": {
      "text/plain": [
       "MntSweetProducts\n",
       "0      405\n",
       "1      156\n",
       "2      122\n",
       "3       98\n",
       "4       80\n",
       "      ... \n",
       "262      1\n",
       "179      1\n",
       "100      1\n",
       "79       1\n",
       "111      1\n",
       "Name: count, Length: 176, dtype: int64"
      ]
     },
     "execution_count": 57,
     "metadata": {},
     "output_type": "execute_result"
    }
   ],
   "source": [
    "df['MntSweetProducts'].value_counts()"
   ]
  },
  {
   "cell_type": "code",
   "execution_count": 58,
   "id": "39503793-45e6-475e-a99a-604bed4a1e72",
   "metadata": {},
   "outputs": [
    {
     "data": {
      "text/html": [
       "<div>\n",
       "<style scoped>\n",
       "    .dataframe tbody tr th:only-of-type {\n",
       "        vertical-align: middle;\n",
       "    }\n",
       "\n",
       "    .dataframe tbody tr th {\n",
       "        vertical-align: top;\n",
       "    }\n",
       "\n",
       "    .dataframe thead th {\n",
       "        text-align: right;\n",
       "    }\n",
       "</style>\n",
       "<table border=\"1\" class=\"dataframe\">\n",
       "  <thead>\n",
       "    <tr style=\"text-align: right;\">\n",
       "      <th></th>\n",
       "      <th>ID</th>\n",
       "      <th>Year_Birth</th>\n",
       "      <th>Education</th>\n",
       "      <th>Marital_Status</th>\n",
       "      <th>Income</th>\n",
       "      <th>Kidhome</th>\n",
       "      <th>Teenhome</th>\n",
       "      <th>Dt_Customer</th>\n",
       "      <th>Recency</th>\n",
       "      <th>MntWines</th>\n",
       "      <th>MntFruits</th>\n",
       "      <th>MntMeatProducts</th>\n",
       "      <th>MntFishProducts</th>\n",
       "      <th>MntSweetProducts</th>\n",
       "      <th>MntGoldProds</th>\n",
       "      <th>NumDealsPurchases</th>\n",
       "      <th>NumWebPurchases</th>\n",
       "      <th>NumCatalogPurchases</th>\n",
       "      <th>NumStorePurchases</th>\n",
       "      <th>NumWebVisitsMonth</th>\n",
       "      <th>AcceptedCmp3</th>\n",
       "      <th>AcceptedCmp4</th>\n",
       "      <th>AcceptedCmp5</th>\n",
       "      <th>AcceptedCmp1</th>\n",
       "      <th>AcceptedCmp2</th>\n",
       "      <th>Complain</th>\n",
       "      <th>Z_CostContact</th>\n",
       "      <th>Z_Revenue</th>\n",
       "      <th>Response</th>\n",
       "      <th>Dt_year</th>\n",
       "      <th>Dt_month</th>\n",
       "      <th>Dt_day</th>\n",
       "      <th>Children</th>\n",
       "      <th>IsParent</th>\n",
       "      <th>MntTotal</th>\n",
       "      <th>Age</th>\n",
       "    </tr>\n",
       "  </thead>\n",
       "  <tbody>\n",
       "    <tr>\n",
       "      <th>0</th>\n",
       "      <td>5524</td>\n",
       "      <td>1957</td>\n",
       "      <td>Graduation</td>\n",
       "      <td>Single</td>\n",
       "      <td>58138.000</td>\n",
       "      <td>0</td>\n",
       "      <td>0</td>\n",
       "      <td>2012-09-04</td>\n",
       "      <td>58</td>\n",
       "      <td>635</td>\n",
       "      <td>88</td>\n",
       "      <td>546</td>\n",
       "      <td>172</td>\n",
       "      <td>88</td>\n",
       "      <td>88</td>\n",
       "      <td>3</td>\n",
       "      <td>8</td>\n",
       "      <td>10</td>\n",
       "      <td>4</td>\n",
       "      <td>7</td>\n",
       "      <td>0</td>\n",
       "      <td>0</td>\n",
       "      <td>0</td>\n",
       "      <td>0</td>\n",
       "      <td>0</td>\n",
       "      <td>0</td>\n",
       "      <td>3</td>\n",
       "      <td>11</td>\n",
       "      <td>1</td>\n",
       "      <td>2012</td>\n",
       "      <td>9</td>\n",
       "      <td>4</td>\n",
       "      <td>0</td>\n",
       "      <td>0</td>\n",
       "      <td>1617</td>\n",
       "      <td>68</td>\n",
       "    </tr>\n",
       "    <tr>\n",
       "      <th>1</th>\n",
       "      <td>2174</td>\n",
       "      <td>1954</td>\n",
       "      <td>Graduation</td>\n",
       "      <td>Single</td>\n",
       "      <td>46344.000</td>\n",
       "      <td>1</td>\n",
       "      <td>1</td>\n",
       "      <td>2014-03-08</td>\n",
       "      <td>38</td>\n",
       "      <td>11</td>\n",
       "      <td>1</td>\n",
       "      <td>6</td>\n",
       "      <td>2</td>\n",
       "      <td>1</td>\n",
       "      <td>6</td>\n",
       "      <td>2</td>\n",
       "      <td>1</td>\n",
       "      <td>1</td>\n",
       "      <td>2</td>\n",
       "      <td>5</td>\n",
       "      <td>0</td>\n",
       "      <td>0</td>\n",
       "      <td>0</td>\n",
       "      <td>0</td>\n",
       "      <td>0</td>\n",
       "      <td>0</td>\n",
       "      <td>3</td>\n",
       "      <td>11</td>\n",
       "      <td>0</td>\n",
       "      <td>2014</td>\n",
       "      <td>3</td>\n",
       "      <td>8</td>\n",
       "      <td>2</td>\n",
       "      <td>1</td>\n",
       "      <td>27</td>\n",
       "      <td>71</td>\n",
       "    </tr>\n",
       "    <tr>\n",
       "      <th>2</th>\n",
       "      <td>4141</td>\n",
       "      <td>1965</td>\n",
       "      <td>Graduation</td>\n",
       "      <td>In a relationship</td>\n",
       "      <td>71613.000</td>\n",
       "      <td>0</td>\n",
       "      <td>0</td>\n",
       "      <td>2013-08-21</td>\n",
       "      <td>26</td>\n",
       "      <td>426</td>\n",
       "      <td>49</td>\n",
       "      <td>127</td>\n",
       "      <td>111</td>\n",
       "      <td>21</td>\n",
       "      <td>42</td>\n",
       "      <td>1</td>\n",
       "      <td>8</td>\n",
       "      <td>2</td>\n",
       "      <td>10</td>\n",
       "      <td>4</td>\n",
       "      <td>0</td>\n",
       "      <td>0</td>\n",
       "      <td>0</td>\n",
       "      <td>0</td>\n",
       "      <td>0</td>\n",
       "      <td>0</td>\n",
       "      <td>3</td>\n",
       "      <td>11</td>\n",
       "      <td>0</td>\n",
       "      <td>2013</td>\n",
       "      <td>8</td>\n",
       "      <td>21</td>\n",
       "      <td>0</td>\n",
       "      <td>0</td>\n",
       "      <td>776</td>\n",
       "      <td>60</td>\n",
       "    </tr>\n",
       "    <tr>\n",
       "      <th>3</th>\n",
       "      <td>6182</td>\n",
       "      <td>1984</td>\n",
       "      <td>Graduation</td>\n",
       "      <td>In a relationship</td>\n",
       "      <td>26646.000</td>\n",
       "      <td>1</td>\n",
       "      <td>0</td>\n",
       "      <td>2014-02-10</td>\n",
       "      <td>26</td>\n",
       "      <td>11</td>\n",
       "      <td>4</td>\n",
       "      <td>20</td>\n",
       "      <td>10</td>\n",
       "      <td>3</td>\n",
       "      <td>5</td>\n",
       "      <td>2</td>\n",
       "      <td>2</td>\n",
       "      <td>0</td>\n",
       "      <td>4</td>\n",
       "      <td>6</td>\n",
       "      <td>0</td>\n",
       "      <td>0</td>\n",
       "      <td>0</td>\n",
       "      <td>0</td>\n",
       "      <td>0</td>\n",
       "      <td>0</td>\n",
       "      <td>3</td>\n",
       "      <td>11</td>\n",
       "      <td>0</td>\n",
       "      <td>2014</td>\n",
       "      <td>2</td>\n",
       "      <td>10</td>\n",
       "      <td>1</td>\n",
       "      <td>1</td>\n",
       "      <td>53</td>\n",
       "      <td>41</td>\n",
       "    </tr>\n",
       "    <tr>\n",
       "      <th>4</th>\n",
       "      <td>5324</td>\n",
       "      <td>1981</td>\n",
       "      <td>PhD</td>\n",
       "      <td>In a relationship</td>\n",
       "      <td>58293.000</td>\n",
       "      <td>1</td>\n",
       "      <td>0</td>\n",
       "      <td>2014-01-19</td>\n",
       "      <td>94</td>\n",
       "      <td>173</td>\n",
       "      <td>43</td>\n",
       "      <td>118</td>\n",
       "      <td>46</td>\n",
       "      <td>27</td>\n",
       "      <td>15</td>\n",
       "      <td>5</td>\n",
       "      <td>5</td>\n",
       "      <td>3</td>\n",
       "      <td>6</td>\n",
       "      <td>5</td>\n",
       "      <td>0</td>\n",
       "      <td>0</td>\n",
       "      <td>0</td>\n",
       "      <td>0</td>\n",
       "      <td>0</td>\n",
       "      <td>0</td>\n",
       "      <td>3</td>\n",
       "      <td>11</td>\n",
       "      <td>0</td>\n",
       "      <td>2014</td>\n",
       "      <td>1</td>\n",
       "      <td>19</td>\n",
       "      <td>1</td>\n",
       "      <td>1</td>\n",
       "      <td>422</td>\n",
       "      <td>44</td>\n",
       "    </tr>\n",
       "    <tr>\n",
       "      <th>...</th>\n",
       "      <td>...</td>\n",
       "      <td>...</td>\n",
       "      <td>...</td>\n",
       "      <td>...</td>\n",
       "      <td>...</td>\n",
       "      <td>...</td>\n",
       "      <td>...</td>\n",
       "      <td>...</td>\n",
       "      <td>...</td>\n",
       "      <td>...</td>\n",
       "      <td>...</td>\n",
       "      <td>...</td>\n",
       "      <td>...</td>\n",
       "      <td>...</td>\n",
       "      <td>...</td>\n",
       "      <td>...</td>\n",
       "      <td>...</td>\n",
       "      <td>...</td>\n",
       "      <td>...</td>\n",
       "      <td>...</td>\n",
       "      <td>...</td>\n",
       "      <td>...</td>\n",
       "      <td>...</td>\n",
       "      <td>...</td>\n",
       "      <td>...</td>\n",
       "      <td>...</td>\n",
       "      <td>...</td>\n",
       "      <td>...</td>\n",
       "      <td>...</td>\n",
       "      <td>...</td>\n",
       "      <td>...</td>\n",
       "      <td>...</td>\n",
       "      <td>...</td>\n",
       "      <td>...</td>\n",
       "      <td>...</td>\n",
       "      <td>...</td>\n",
       "    </tr>\n",
       "    <tr>\n",
       "      <th>2234</th>\n",
       "      <td>8372</td>\n",
       "      <td>1974</td>\n",
       "      <td>Graduation</td>\n",
       "      <td>In a relationship</td>\n",
       "      <td>34421.000</td>\n",
       "      <td>1</td>\n",
       "      <td>0</td>\n",
       "      <td>2013-07-01</td>\n",
       "      <td>81</td>\n",
       "      <td>3</td>\n",
       "      <td>3</td>\n",
       "      <td>7</td>\n",
       "      <td>6</td>\n",
       "      <td>2</td>\n",
       "      <td>9</td>\n",
       "      <td>1</td>\n",
       "      <td>1</td>\n",
       "      <td>0</td>\n",
       "      <td>2</td>\n",
       "      <td>7</td>\n",
       "      <td>0</td>\n",
       "      <td>0</td>\n",
       "      <td>0</td>\n",
       "      <td>0</td>\n",
       "      <td>0</td>\n",
       "      <td>0</td>\n",
       "      <td>3</td>\n",
       "      <td>11</td>\n",
       "      <td>0</td>\n",
       "      <td>2013</td>\n",
       "      <td>7</td>\n",
       "      <td>1</td>\n",
       "      <td>1</td>\n",
       "      <td>1</td>\n",
       "      <td>30</td>\n",
       "      <td>51</td>\n",
       "    </tr>\n",
       "    <tr>\n",
       "      <th>2235</th>\n",
       "      <td>10870</td>\n",
       "      <td>1967</td>\n",
       "      <td>Graduation</td>\n",
       "      <td>In a relationship</td>\n",
       "      <td>61223.000</td>\n",
       "      <td>0</td>\n",
       "      <td>1</td>\n",
       "      <td>2013-06-13</td>\n",
       "      <td>46</td>\n",
       "      <td>709</td>\n",
       "      <td>43</td>\n",
       "      <td>182</td>\n",
       "      <td>42</td>\n",
       "      <td>118</td>\n",
       "      <td>247</td>\n",
       "      <td>2</td>\n",
       "      <td>9</td>\n",
       "      <td>3</td>\n",
       "      <td>4</td>\n",
       "      <td>5</td>\n",
       "      <td>0</td>\n",
       "      <td>0</td>\n",
       "      <td>0</td>\n",
       "      <td>0</td>\n",
       "      <td>0</td>\n",
       "      <td>0</td>\n",
       "      <td>3</td>\n",
       "      <td>11</td>\n",
       "      <td>0</td>\n",
       "      <td>2013</td>\n",
       "      <td>6</td>\n",
       "      <td>13</td>\n",
       "      <td>1</td>\n",
       "      <td>1</td>\n",
       "      <td>1341</td>\n",
       "      <td>58</td>\n",
       "    </tr>\n",
       "    <tr>\n",
       "      <th>2237</th>\n",
       "      <td>7270</td>\n",
       "      <td>1981</td>\n",
       "      <td>Graduation</td>\n",
       "      <td>Single</td>\n",
       "      <td>56981.000</td>\n",
       "      <td>0</td>\n",
       "      <td>0</td>\n",
       "      <td>2014-01-25</td>\n",
       "      <td>91</td>\n",
       "      <td>908</td>\n",
       "      <td>48</td>\n",
       "      <td>217</td>\n",
       "      <td>32</td>\n",
       "      <td>12</td>\n",
       "      <td>24</td>\n",
       "      <td>1</td>\n",
       "      <td>2</td>\n",
       "      <td>3</td>\n",
       "      <td>13</td>\n",
       "      <td>6</td>\n",
       "      <td>0</td>\n",
       "      <td>1</td>\n",
       "      <td>0</td>\n",
       "      <td>0</td>\n",
       "      <td>0</td>\n",
       "      <td>0</td>\n",
       "      <td>3</td>\n",
       "      <td>11</td>\n",
       "      <td>0</td>\n",
       "      <td>2014</td>\n",
       "      <td>1</td>\n",
       "      <td>25</td>\n",
       "      <td>0</td>\n",
       "      <td>0</td>\n",
       "      <td>1241</td>\n",
       "      <td>44</td>\n",
       "    </tr>\n",
       "    <tr>\n",
       "      <th>2238</th>\n",
       "      <td>8235</td>\n",
       "      <td>1956</td>\n",
       "      <td>Master</td>\n",
       "      <td>In a relationship</td>\n",
       "      <td>69245.000</td>\n",
       "      <td>0</td>\n",
       "      <td>1</td>\n",
       "      <td>2014-01-24</td>\n",
       "      <td>8</td>\n",
       "      <td>428</td>\n",
       "      <td>30</td>\n",
       "      <td>214</td>\n",
       "      <td>80</td>\n",
       "      <td>30</td>\n",
       "      <td>61</td>\n",
       "      <td>2</td>\n",
       "      <td>6</td>\n",
       "      <td>5</td>\n",
       "      <td>10</td>\n",
       "      <td>3</td>\n",
       "      <td>0</td>\n",
       "      <td>0</td>\n",
       "      <td>0</td>\n",
       "      <td>0</td>\n",
       "      <td>0</td>\n",
       "      <td>0</td>\n",
       "      <td>3</td>\n",
       "      <td>11</td>\n",
       "      <td>0</td>\n",
       "      <td>2014</td>\n",
       "      <td>1</td>\n",
       "      <td>24</td>\n",
       "      <td>1</td>\n",
       "      <td>1</td>\n",
       "      <td>843</td>\n",
       "      <td>69</td>\n",
       "    </tr>\n",
       "    <tr>\n",
       "      <th>2239</th>\n",
       "      <td>9405</td>\n",
       "      <td>1954</td>\n",
       "      <td>PhD</td>\n",
       "      <td>In a relationship</td>\n",
       "      <td>52869.000</td>\n",
       "      <td>1</td>\n",
       "      <td>1</td>\n",
       "      <td>2012-10-15</td>\n",
       "      <td>40</td>\n",
       "      <td>84</td>\n",
       "      <td>3</td>\n",
       "      <td>61</td>\n",
       "      <td>2</td>\n",
       "      <td>1</td>\n",
       "      <td>21</td>\n",
       "      <td>3</td>\n",
       "      <td>3</td>\n",
       "      <td>1</td>\n",
       "      <td>4</td>\n",
       "      <td>7</td>\n",
       "      <td>0</td>\n",
       "      <td>0</td>\n",
       "      <td>0</td>\n",
       "      <td>0</td>\n",
       "      <td>0</td>\n",
       "      <td>0</td>\n",
       "      <td>3</td>\n",
       "      <td>11</td>\n",
       "      <td>1</td>\n",
       "      <td>2012</td>\n",
       "      <td>10</td>\n",
       "      <td>15</td>\n",
       "      <td>2</td>\n",
       "      <td>1</td>\n",
       "      <td>172</td>\n",
       "      <td>71</td>\n",
       "    </tr>\n",
       "  </tbody>\n",
       "</table>\n",
       "<p>1765 rows × 36 columns</p>\n",
       "</div>"
      ],
      "text/plain": [
       "         ID  Year_Birth   Education     Marital_Status    Income  Kidhome  \\\n",
       "0      5524        1957  Graduation             Single 58138.000        0   \n",
       "1      2174        1954  Graduation             Single 46344.000        1   \n",
       "2      4141        1965  Graduation  In a relationship 71613.000        0   \n",
       "3      6182        1984  Graduation  In a relationship 26646.000        1   \n",
       "4      5324        1981         PhD  In a relationship 58293.000        1   \n",
       "...     ...         ...         ...                ...       ...      ...   \n",
       "2234   8372        1974  Graduation  In a relationship 34421.000        1   \n",
       "2235  10870        1967  Graduation  In a relationship 61223.000        0   \n",
       "2237   7270        1981  Graduation             Single 56981.000        0   \n",
       "2238   8235        1956      Master  In a relationship 69245.000        0   \n",
       "2239   9405        1954         PhD  In a relationship 52869.000        1   \n",
       "\n",
       "      Teenhome Dt_Customer  Recency  MntWines  MntFruits  MntMeatProducts  \\\n",
       "0            0  2012-09-04       58       635         88              546   \n",
       "1            1  2014-03-08       38        11          1                6   \n",
       "2            0  2013-08-21       26       426         49              127   \n",
       "3            0  2014-02-10       26        11          4               20   \n",
       "4            0  2014-01-19       94       173         43              118   \n",
       "...        ...         ...      ...       ...        ...              ...   \n",
       "2234         0  2013-07-01       81         3          3                7   \n",
       "2235         1  2013-06-13       46       709         43              182   \n",
       "2237         0  2014-01-25       91       908         48              217   \n",
       "2238         1  2014-01-24        8       428         30              214   \n",
       "2239         1  2012-10-15       40        84          3               61   \n",
       "\n",
       "      MntFishProducts  MntSweetProducts  MntGoldProds  NumDealsPurchases  \\\n",
       "0                 172                88            88                  3   \n",
       "1                   2                 1             6                  2   \n",
       "2                 111                21            42                  1   \n",
       "3                  10                 3             5                  2   \n",
       "4                  46                27            15                  5   \n",
       "...               ...               ...           ...                ...   \n",
       "2234                6                 2             9                  1   \n",
       "2235               42               118           247                  2   \n",
       "2237               32                12            24                  1   \n",
       "2238               80                30            61                  2   \n",
       "2239                2                 1            21                  3   \n",
       "\n",
       "      NumWebPurchases  NumCatalogPurchases  NumStorePurchases  \\\n",
       "0                   8                   10                  4   \n",
       "1                   1                    1                  2   \n",
       "2                   8                    2                 10   \n",
       "3                   2                    0                  4   \n",
       "4                   5                    3                  6   \n",
       "...               ...                  ...                ...   \n",
       "2234                1                    0                  2   \n",
       "2235                9                    3                  4   \n",
       "2237                2                    3                 13   \n",
       "2238                6                    5                 10   \n",
       "2239                3                    1                  4   \n",
       "\n",
       "      NumWebVisitsMonth  AcceptedCmp3  AcceptedCmp4  AcceptedCmp5  \\\n",
       "0                     7             0             0             0   \n",
       "1                     5             0             0             0   \n",
       "2                     4             0             0             0   \n",
       "3                     6             0             0             0   \n",
       "4                     5             0             0             0   \n",
       "...                 ...           ...           ...           ...   \n",
       "2234                  7             0             0             0   \n",
       "2235                  5             0             0             0   \n",
       "2237                  6             0             1             0   \n",
       "2238                  3             0             0             0   \n",
       "2239                  7             0             0             0   \n",
       "\n",
       "      AcceptedCmp1  AcceptedCmp2  Complain  Z_CostContact  Z_Revenue  \\\n",
       "0                0             0         0              3         11   \n",
       "1                0             0         0              3         11   \n",
       "2                0             0         0              3         11   \n",
       "3                0             0         0              3         11   \n",
       "4                0             0         0              3         11   \n",
       "...            ...           ...       ...            ...        ...   \n",
       "2234             0             0         0              3         11   \n",
       "2235             0             0         0              3         11   \n",
       "2237             0             0         0              3         11   \n",
       "2238             0             0         0              3         11   \n",
       "2239             0             0         0              3         11   \n",
       "\n",
       "      Response  Dt_year  Dt_month  Dt_day  Children  IsParent  MntTotal  Age  \n",
       "0            1     2012         9       4         0         0      1617   68  \n",
       "1            0     2014         3       8         2         1        27   71  \n",
       "2            0     2013         8      21         0         0       776   60  \n",
       "3            0     2014         2      10         1         1        53   41  \n",
       "4            0     2014         1      19         1         1       422   44  \n",
       "...        ...      ...       ...     ...       ...       ...       ...  ...  \n",
       "2234         0     2013         7       1         1         1        30   51  \n",
       "2235         0     2013         6      13         1         1      1341   58  \n",
       "2237         0     2014         1      25         0         0      1241   44  \n",
       "2238         0     2014         1      24         1         1       843   69  \n",
       "2239         1     2012        10      15         2         1       172   71  \n",
       "\n",
       "[1765 rows x 36 columns]"
      ]
     },
     "execution_count": 58,
     "metadata": {},
     "output_type": "execute_result"
    }
   ],
   "source": [
    "df[df['MntSweetProducts'] != 0]"
   ]
  },
  {
   "cell_type": "code",
   "execution_count": 59,
   "id": "9aac28a5-f0c0-4a97-b74d-33ffecb49179",
   "metadata": {},
   "outputs": [],
   "source": [
    "# Vì số lượng khách hàng mua đồ ngọt chỉ có 4 người, mẫu nhỏ, nên có thể giữ lại outlier này"
   ]
  },
  {
   "cell_type": "markdown",
   "id": "50789725-c46d-4486-978d-4d810261cbea",
   "metadata": {},
   "source": [
    "##### MntGoldProds"
   ]
  },
  {
   "cell_type": "code",
   "execution_count": 60,
   "id": "5296a83b-8179-4a00-b335-3703498b2234",
   "metadata": {},
   "outputs": [
    {
     "name": "stdout",
     "output_type": "stream",
     "text": [
      "Column: MntGoldProds\n"
     ]
    },
    {
     "data": {
      "image/png": "[encoded data removed]",
      "text/plain": [
       "<Figure size 500x300 with 1 Axes>"
      ]
     },
     "metadata": {},
     "output_type": "display_data"
    },
    {
     "name": "stdout",
     "output_type": "stream",
     "text": [
      "Total outliers: 198 (9.12%)\n",
      "Range: min=0.00, Q1=9.00, median=24.00, Q3=56.00, max=321.00\n",
      "IQR: 47.00\n",
      "Lower bound: -61.50, Upper bound: 126.50\n",
      "Some outlier values: [127, 128, 128] ... [262, 291, 321]\n",
      "→ Suggestion: Consider capping or transforming (log).\n",
      "-----------------------------------------------------------------------\n"
     ]
    }
   ],
   "source": [
    "# MntGoldProds\n",
    "outlier_detect('MntGoldProds')"
   ]
  },
  {
   "cell_type": "code",
   "execution_count": 61,
   "id": "3ccd685a-89d5-4171-8a23-d13a76bb01a5",
   "metadata": {},
   "outputs": [],
   "source": [
    "# Không có outlier\n",
    "# Phân bố đều, hơi lệch trái \n",
    "# Phần lớn chi tiêu trong khoảng 10 - 275 cho vàng"
   ]
  },
  {
   "cell_type": "markdown",
   "id": "1be94f55-68d8-46c5-8d2f-59ea0341d412",
   "metadata": {},
   "source": [
    "##### MntTotal"
   ]
  },
  {
   "cell_type": "code",
   "execution_count": 62,
   "id": "5e9fe3b0-47ab-44b0-9f6c-55c7d730efcc",
   "metadata": {},
   "outputs": [
    {
     "name": "stdout",
     "output_type": "stream",
     "text": [
      "Column: MntTotal\n"
     ]
    },
    {
     "data": {
      "image/png": "[encoded data removed]",
      "text/plain": [
       "<Figure size 500x300 with 1 Axes>"
      ]
     },
     "metadata": {},
     "output_type": "display_data"
    },
    {
     "name": "stdout",
     "output_type": "stream",
     "text": [
      "Total outliers: 2 (0.09%)\n",
      "Range: min=5.00, Q1=68.00, median=375.00, Q3=1018.25, max=2525.00\n",
      "IQR: 950.25\n",
      "Lower bound: -1357.38, Upper bound: 2443.62\n",
      "Some outlier values: [2525, 2525] ... [2525, 2525]\n",
      "→ Suggestion: Drop these outliers.\n",
      "-----------------------------------------------------------------------\n"
     ]
    }
   ],
   "source": [
    "# MntTotal\n",
    "outlier_detect('MntTotal')"
   ]
  },
  {
   "cell_type": "markdown",
   "id": "e39583b7-daf8-4f72-a184-83f4989d293a",
   "metadata": {},
   "source": [
    "##### Age"
   ]
  },
  {
   "cell_type": "code",
   "execution_count": 63,
   "id": "6563243e-85c3-4f05-b2e8-0733a8876549",
   "metadata": {},
   "outputs": [
    {
     "name": "stdout",
     "output_type": "stream",
     "text": [
      "Column: Age\n"
     ]
    },
    {
     "data": {
      "image/png": "[encoded data removed]",
      "text/plain": [
       "<Figure size 500x300 with 1 Axes>"
      ]
     },
     "metadata": {},
     "output_type": "display_data"
    },
    {
     "name": "stdout",
     "output_type": "stream",
     "text": [
      "Total outliers: 3 (0.14%)\n",
      "Range: min=29.00, Q1=48.00, median=55.00, Q3=66.00, max=132.00\n",
      "IQR: 18.00\n",
      "Lower bound: 21.00, Upper bound: 93.00\n",
      "Some outlier values: [125, 126, 132] ... [125, 126, 132]\n",
      "→ Suggestion: Drop these outliers.\n",
      "-----------------------------------------------------------------------\n"
     ]
    }
   ],
   "source": [
    "outlier_detect('Age')"
   ]
  },
  {
   "cell_type": "code",
   "execution_count": 64,
   "id": "79f7785e-1e6a-46e8-8b51-3e62b0c9b977",
   "metadata": {},
   "outputs": [],
   "source": [
    "# Không có outliner, đều, ít lệch\n",
    "# Phần lớn khách hàng nằm trong độ tuổi 40 - 65"
   ]
  },
  {
   "cell_type": "markdown",
   "id": "ffdd2a4f-f70d-456f-b58f-068e98d9de08",
   "metadata": {},
   "source": [
    "### 5. Correlation Analysis"
   ]
  },
  {
   "cell_type": "markdown",
   "id": "e1dc2c47-c75a-4836-ba36-c27d757c58d9",
   "metadata": {
    "jp-MarkdownHeadingCollapsed": true
   },
   "source": [
    "#### Correlation analysis between variables related to customer expense"
   ]
  },
  {
   "cell_type": "code",
   "execution_count": 65,
   "id": "0a5bc598-c55e-4d93-8419-bc5f78f92b01",
   "metadata": {},
   "outputs": [
    {
     "data": {
      "text/html": [
       "<div>\n",
       "<style scoped>\n",
       "    .dataframe tbody tr th:only-of-type {\n",
       "        vertical-align: middle;\n",
       "    }\n",
       "\n",
       "    .dataframe tbody tr th {\n",
       "        vertical-align: top;\n",
       "    }\n",
       "\n",
       "    .dataframe thead th {\n",
       "        text-align: right;\n",
       "    }\n",
       "</style>\n",
       "<table border=\"1\" class=\"dataframe\">\n",
       "  <thead>\n",
       "    <tr style=\"text-align: right;\">\n",
       "      <th></th>\n",
       "      <th>Age</th>\n",
       "      <th>Recency</th>\n",
       "      <th>Income</th>\n",
       "      <th>MntTotal</th>\n",
       "      <th>MntWines</th>\n",
       "      <th>MntFruits</th>\n",
       "      <th>MntMeatProducts</th>\n",
       "      <th>MntFishProducts</th>\n",
       "      <th>MntSweetProducts</th>\n",
       "      <th>MntGoldProds</th>\n",
       "    </tr>\n",
       "  </thead>\n",
       "  <tbody>\n",
       "    <tr>\n",
       "      <th>Age</th>\n",
       "      <td>1.000</td>\n",
       "      <td>0.008</td>\n",
       "      <td>0.210</td>\n",
       "      <td>0.110</td>\n",
       "      <td>0.156</td>\n",
       "      <td>0.020</td>\n",
       "      <td>0.037</td>\n",
       "      <td>0.040</td>\n",
       "      <td>0.023</td>\n",
       "      <td>0.066</td>\n",
       "    </tr>\n",
       "    <tr>\n",
       "      <th>Recency</th>\n",
       "      <td>0.008</td>\n",
       "      <td>1.000</td>\n",
       "      <td>0.006</td>\n",
       "      <td>0.022</td>\n",
       "      <td>0.018</td>\n",
       "      <td>-0.007</td>\n",
       "      <td>0.028</td>\n",
       "      <td>-0.002</td>\n",
       "      <td>0.024</td>\n",
       "      <td>0.015</td>\n",
       "    </tr>\n",
       "    <tr>\n",
       "      <th>Income</th>\n",
       "      <td>0.210</td>\n",
       "      <td>0.006</td>\n",
       "      <td>1.000</td>\n",
       "      <td>0.821</td>\n",
       "      <td>0.734</td>\n",
       "      <td>0.546</td>\n",
       "      <td>0.701</td>\n",
       "      <td>0.557</td>\n",
       "      <td>0.560</td>\n",
       "      <td>0.428</td>\n",
       "    </tr>\n",
       "    <tr>\n",
       "      <th>MntTotal</th>\n",
       "      <td>0.110</td>\n",
       "      <td>0.022</td>\n",
       "      <td>0.821</td>\n",
       "      <td>1.000</td>\n",
       "      <td>0.895</td>\n",
       "      <td>0.636</td>\n",
       "      <td>0.863</td>\n",
       "      <td>0.664</td>\n",
       "      <td>0.626</td>\n",
       "      <td>0.550</td>\n",
       "    </tr>\n",
       "    <tr>\n",
       "      <th>MntWines</th>\n",
       "      <td>0.156</td>\n",
       "      <td>0.018</td>\n",
       "      <td>0.734</td>\n",
       "      <td>0.895</td>\n",
       "      <td>1.000</td>\n",
       "      <td>0.415</td>\n",
       "      <td>0.601</td>\n",
       "      <td>0.424</td>\n",
       "      <td>0.409</td>\n",
       "      <td>0.419</td>\n",
       "    </tr>\n",
       "    <tr>\n",
       "      <th>MntFruits</th>\n",
       "      <td>0.020</td>\n",
       "      <td>-0.007</td>\n",
       "      <td>0.546</td>\n",
       "      <td>0.636</td>\n",
       "      <td>0.415</td>\n",
       "      <td>1.000</td>\n",
       "      <td>0.575</td>\n",
       "      <td>0.594</td>\n",
       "      <td>0.573</td>\n",
       "      <td>0.400</td>\n",
       "    </tr>\n",
       "    <tr>\n",
       "      <th>MntMeatProducts</th>\n",
       "      <td>0.037</td>\n",
       "      <td>0.028</td>\n",
       "      <td>0.701</td>\n",
       "      <td>0.863</td>\n",
       "      <td>0.601</td>\n",
       "      <td>0.575</td>\n",
       "      <td>1.000</td>\n",
       "      <td>0.600</td>\n",
       "      <td>0.562</td>\n",
       "      <td>0.387</td>\n",
       "    </tr>\n",
       "    <tr>\n",
       "      <th>MntFishProducts</th>\n",
       "      <td>0.040</td>\n",
       "      <td>-0.002</td>\n",
       "      <td>0.557</td>\n",
       "      <td>0.664</td>\n",
       "      <td>0.424</td>\n",
       "      <td>0.594</td>\n",
       "      <td>0.600</td>\n",
       "      <td>1.000</td>\n",
       "      <td>0.588</td>\n",
       "      <td>0.425</td>\n",
       "    </tr>\n",
       "    <tr>\n",
       "      <th>MntSweetProducts</th>\n",
       "      <td>0.023</td>\n",
       "      <td>0.024</td>\n",
       "      <td>0.560</td>\n",
       "      <td>0.626</td>\n",
       "      <td>0.409</td>\n",
       "      <td>0.573</td>\n",
       "      <td>0.562</td>\n",
       "      <td>0.588</td>\n",
       "      <td>1.000</td>\n",
       "      <td>0.365</td>\n",
       "    </tr>\n",
       "    <tr>\n",
       "      <th>MntGoldProds</th>\n",
       "      <td>0.066</td>\n",
       "      <td>0.015</td>\n",
       "      <td>0.428</td>\n",
       "      <td>0.550</td>\n",
       "      <td>0.419</td>\n",
       "      <td>0.400</td>\n",
       "      <td>0.387</td>\n",
       "      <td>0.425</td>\n",
       "      <td>0.365</td>\n",
       "      <td>1.000</td>\n",
       "    </tr>\n",
       "  </tbody>\n",
       "</table>\n",
       "</div>"
      ],
      "text/plain": [
       "                   Age  Recency  Income  MntTotal  MntWines  MntFruits  \\\n",
       "Age              1.000    0.008   0.210     0.110     0.156      0.020   \n",
       "Recency          0.008    1.000   0.006     0.022     0.018     -0.007   \n",
       "Income           0.210    0.006   1.000     0.821     0.734      0.546   \n",
       "MntTotal         0.110    0.022   0.821     1.000     0.895      0.636   \n",
       "MntWines         0.156    0.018   0.734     0.895     1.000      0.415   \n",
       "MntFruits        0.020   -0.007   0.546     0.636     0.415      1.000   \n",
       "MntMeatProducts  0.037    0.028   0.701     0.863     0.601      0.575   \n",
       "MntFishProducts  0.040   -0.002   0.557     0.664     0.424      0.594   \n",
       "MntSweetProducts 0.023    0.024   0.560     0.626     0.409      0.573   \n",
       "MntGoldProds     0.066    0.015   0.428     0.550     0.419      0.400   \n",
       "\n",
       "                  MntMeatProducts  MntFishProducts  MntSweetProducts  \\\n",
       "Age                         0.037            0.040             0.023   \n",
       "Recency                     0.028           -0.002             0.024   \n",
       "Income                      0.701            0.557             0.560   \n",
       "MntTotal                    0.863            0.664             0.626   \n",
       "MntWines                    0.601            0.424             0.409   \n",
       "MntFruits                   0.575            0.594             0.573   \n",
       "MntMeatProducts             1.000            0.600             0.562   \n",
       "MntFishProducts             0.600            1.000             0.588   \n",
       "MntSweetProducts            0.562            0.588             1.000   \n",
       "MntGoldProds                0.387            0.425             0.365   \n",
       "\n",
       "                  MntGoldProds  \n",
       "Age                      0.066  \n",
       "Recency                  0.015  \n",
       "Income                   0.428  \n",
       "MntTotal                 0.550  \n",
       "MntWines                 0.419  \n",
       "MntFruits                0.400  \n",
       "MntMeatProducts          0.387  \n",
       "MntFishProducts          0.425  \n",
       "MntSweetProducts         0.365  \n",
       "MntGoldProds             1.000  "
      ]
     },
     "execution_count": 65,
     "metadata": {},
     "output_type": "execute_result"
    }
   ],
   "source": [
    "df_numeric = df[numeric_col]\n",
    "corr_matrix = df_numeric.corr()\n",
    "corr_matrix"
   ]
  },
  {
   "cell_type": "code",
   "execution_count": 66,
   "id": "ba935899-fa8c-4f81-8265-11b109b90290",
   "metadata": {},
   "outputs": [
    {
     "data": {
      "image/png": "[encoded data removed]",
      "text/plain": [
       "<Figure size 500x300 with 2 Axes>"
      ]
     },
     "metadata": {},
     "output_type": "display_data"
    }
   ],
   "source": [
    "# draw heatmap\n",
    "plt.figure(figsize=(5,3))\n",
    "sns.heatmap(corr_matrix, annot=True, cmap='coolwarm', fmt='.2f', linewidths=0.5)\n",
    "plt.title('Correlation Heatmap')\n",
    "plt.show()"
   ]
  },
  {
   "cell_type": "code",
   "execution_count": 67,
   "id": "83bc4ec6-c1ff-4fba-a23a-7e456fdbd37e",
   "metadata": {},
   "outputs": [],
   "source": [
    "# The variables MntFruits, MntMeatProducts, MntFishProducts, and MntSweetProducts \n",
    "# show very high correlations with each other (0.8–0.97), \n",
    "# --> customers tend to purchase multiple types of these products together.\n",
    "\n",
    "# Income\n",
    "# Income is strongly correlated with these spending variables as well, \n",
    "# --> customers with higher income levels tend to spend more across different product categories.\n",
    "\n",
    "# Recency \n",
    "# Recency shows generally low correlations with most variables, \n",
    "# --> recent purchases are not strongly linked to spending or income levels. \n",
    "\n",
    "# Recency has a moderate correlation with Income (0.408) and MntWines (0.587) \n",
    "# --> customers with higher income or those who spend more on wine \n",
    "# tend to have made their last purchase longer ago"
   ]
  },
  {
   "cell_type": "markdown",
   "id": "bd0caa2a-6e1b-4473-8aa9-de780c9f1e4d",
   "metadata": {},
   "source": [
    "#### Correlation analysis between variables related to promotion campaign accepted count"
   ]
  },
  {
   "cell_type": "code",
   "execution_count": 68,
   "id": "87d498e2-4921-4cf4-9259-c59ef0d0482c",
   "metadata": {},
   "outputs": [
    {
     "data": {
      "text/html": [
       "<div>\n",
       "<style scoped>\n",
       "    .dataframe tbody tr th:only-of-type {\n",
       "        vertical-align: middle;\n",
       "    }\n",
       "\n",
       "    .dataframe tbody tr th {\n",
       "        vertical-align: top;\n",
       "    }\n",
       "\n",
       "    .dataframe thead th {\n",
       "        text-align: right;\n",
       "    }\n",
       "</style>\n",
       "<table border=\"1\" class=\"dataframe\">\n",
       "  <thead>\n",
       "    <tr style=\"text-align: right;\">\n",
       "      <th></th>\n",
       "      <th>AcceptedCmp1</th>\n",
       "      <th>AcceptedCmp2</th>\n",
       "      <th>AcceptedCmp3</th>\n",
       "      <th>AcceptedCmp4</th>\n",
       "      <th>AcceptedCmp5</th>\n",
       "    </tr>\n",
       "  </thead>\n",
       "  <tbody>\n",
       "    <tr>\n",
       "      <th>AcceptedCmp1</th>\n",
       "      <td>1.000</td>\n",
       "      <td>0.134</td>\n",
       "      <td>0.093</td>\n",
       "      <td>0.227</td>\n",
       "      <td>0.390</td>\n",
       "    </tr>\n",
       "    <tr>\n",
       "      <th>AcceptedCmp2</th>\n",
       "      <td>0.134</td>\n",
       "      <td>1.000</td>\n",
       "      <td>0.081</td>\n",
       "      <td>0.237</td>\n",
       "      <td>0.168</td>\n",
       "    </tr>\n",
       "    <tr>\n",
       "      <th>AcceptedCmp3</th>\n",
       "      <td>0.093</td>\n",
       "      <td>0.081</td>\n",
       "      <td>1.000</td>\n",
       "      <td>-0.076</td>\n",
       "      <td>0.072</td>\n",
       "    </tr>\n",
       "    <tr>\n",
       "      <th>AcceptedCmp4</th>\n",
       "      <td>0.227</td>\n",
       "      <td>0.237</td>\n",
       "      <td>-0.076</td>\n",
       "      <td>1.000</td>\n",
       "      <td>0.263</td>\n",
       "    </tr>\n",
       "    <tr>\n",
       "      <th>AcceptedCmp5</th>\n",
       "      <td>0.390</td>\n",
       "      <td>0.168</td>\n",
       "      <td>0.072</td>\n",
       "      <td>0.263</td>\n",
       "      <td>1.000</td>\n",
       "    </tr>\n",
       "  </tbody>\n",
       "</table>\n",
       "</div>"
      ],
      "text/plain": [
       "              AcceptedCmp1  AcceptedCmp2  AcceptedCmp3  AcceptedCmp4  \\\n",
       "AcceptedCmp1         1.000         0.134         0.093         0.227   \n",
       "AcceptedCmp2         0.134         1.000         0.081         0.237   \n",
       "AcceptedCmp3         0.093         0.081         1.000        -0.076   \n",
       "AcceptedCmp4         0.227         0.237        -0.076         1.000   \n",
       "AcceptedCmp5         0.390         0.168         0.072         0.263   \n",
       "\n",
       "              AcceptedCmp5  \n",
       "AcceptedCmp1         0.390  \n",
       "AcceptedCmp2         0.168  \n",
       "AcceptedCmp3         0.072  \n",
       "AcceptedCmp4         0.263  \n",
       "AcceptedCmp5         1.000  "
      ]
     },
     "execution_count": 68,
     "metadata": {},
     "output_type": "execute_result"
    }
   ],
   "source": [
    "df_cmp = df[cmp]\n",
    "corr_matrix_cmp = df_cmp.corr()\n",
    "corr_matrix_cmp"
   ]
  },
  {
   "cell_type": "code",
   "execution_count": 69,
   "id": "3e05ad43-d022-4eed-b36a-9cc74f44340a",
   "metadata": {},
   "outputs": [
    {
     "data": {
      "text/plain": [
       "(2170, 5)"
      ]
     },
     "execution_count": 69,
     "metadata": {},
     "output_type": "execute_result"
    }
   ],
   "source": [
    "df_cmp.shape"
   ]
  },
  {
   "cell_type": "code",
   "execution_count": 70,
   "id": "b6ab6728-02b2-499d-99ae-24490f732768",
   "metadata": {},
   "outputs": [
    {
     "data": {
      "image/png": "[encoded data removed]",
      "text/plain": [
       "<Figure size 500x300 with 2 Axes>"
      ]
     },
     "metadata": {},
     "output_type": "display_data"
    }
   ],
   "source": [
    "# draw heatmap\n",
    "plt.figure(figsize=(5,3))\n",
    "sns.heatmap(corr_matrix_cmp, annot=True, cmap='coolwarm', fmt='.2f', linewidths=0.5)\n",
    "plt.title('Correlation Heatmap')\n",
    "plt.show()"
   ]
  },
  {
   "cell_type": "code",
   "execution_count": 71,
   "id": "3e9dfed0-b68b-4c34-ad02-1b4bb719fe9a",
   "metadata": {},
   "outputs": [],
   "source": [
    "# The highest correlation is between AcceptedCmp1 and AcceptedCmp5 (0.399), \n",
    "# followed by AcceptedCmp4 and AcceptedCmp5 (0.308). \n",
    "# --> customers who accepted Campaign 1 or 4 were more likely to also accept Campaign 5. \n",
    "\n",
    "# AcceptedCmp2 shows weak to moderate correlations with the others (ranging from 0.176 to 0.292), \n",
    "# --> modest overlap in the customers who responded positively.\n",
    "\n",
    "# AcceptedCmp3 stands out as the least correlated with the other campaigns, \n",
    "# even showing a slight negative relationship with Campaign 4 (-0.080). \n",
    "# --> Campaign 3 was quite different, or targeted a different audience altogether."
   ]
  },
  {
   "cell_type": "markdown",
   "id": "3e62d366-91e6-4cf4-aaa7-dfe08945b50f",
   "metadata": {},
   "source": [
    "### 6. Export Data"
   ]
  },
  {
   "cell_type": "code",
   "execution_count": 72,
   "id": "04a3d16d-87b3-4ec8-83f6-4905ef13d63d",
   "metadata": {},
   "outputs": [],
   "source": [
    "folder_path = '/workspaces/adorie-data-projects/customer-personality-analysis/data/clean/'\n",
    "file_name = 'clean_data.csv'\n",
    "full_path = folder_path + file_name"
   ]
  },
  {
   "cell_type": "code",
   "execution_count": 73,
   "id": "8e9c7245-fb72-4350-a345-8a6b40559c08",
   "metadata": {},
   "outputs": [],
   "source": [
    "df.to_csv(full_path, index=False)"
   ]
  }
 ],
 "metadata": {
  "kernelspec": {
   "display_name": "Python 3 (ipykernel)",
   "language": "python",
   "name": "python3"
  },
  "language_info": {
   "codemirror_mode": {
    "name": "ipython",
    "version": 3
   },
   "file_extension": ".py",
   "mimetype": "text/x-python",
   "name": "python",
   "nbconvert_exporter": "python",
   "pygments_lexer": "ipython3",
   "version": "3.12.1"
  }
 },
 "nbformat": 4,
 "nbformat_minor": 5
}
