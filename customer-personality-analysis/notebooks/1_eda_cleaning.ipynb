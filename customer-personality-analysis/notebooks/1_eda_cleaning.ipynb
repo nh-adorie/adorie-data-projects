{
 "cells": [
  {
   "cell_type": "markdown",
   "id": "48551c5f-6b42-4b81-be7a-0a47d30e7e0e",
   "metadata": {},
   "source": [
    "### Customer Personality Analysis Dataset - Data Cleaning and Exploratory Data Analysis (EDA)\n",
    "\n",
    "**Context**\n",
    "\n",
    "Customer Personality Analysis is a process of understanding the key characteristics, behaviors, and preferences of a company’s customers. By analyzing these traits, businesses can tailor their products, services, and marketing strategies to better meet customer needs and increase engagement.\n",
    "\n",
    "**Problem Statement**\n",
    "\n",
    "The goal of this analysis is to identify meaningful customer segments based on their purchasing behavior and demographics. Understanding which customer groups are most valuable or responsive allows companies to design more effective marketing campaigns, optimize resource allocation, and ultimately improve customer satisfaction and profitability.\n",
    "\n",
    "**Acknowledgment**\n",
    "\n",
    "The dataset used in this project was provided by **Dr. Omar Romero-Hernandez**."
   ]
  },
  {
   "cell_type": "markdown",
   "id": "3afeb6a1-96c9-4870-80fe-ed941e980439",
   "metadata": {
    "jp-MarkdownHeadingCollapsed": true
   },
   "source": [
    "### 1. Import Libraries and Data"
   ]
  },
  {
   "cell_type": "code",
   "execution_count": 1,
   "id": "53b881eb-bde3-4aa9-aa09-9c7711482089",
   "metadata": {},
   "outputs": [],
   "source": [
    "# import neccessary libraries\n",
    "\n",
    "import numpy as np\n",
    "import pandas as pd\n",
    "import matplotlib.pyplot as plt # line, bar, scatter, histogram, ...\n",
    "import seaborn as sns #boxplot, heatmap, ...\n",
    "\n",
    "# display setup \n",
    "pd.set_option('display.max_columns', None)\n",
    "pd.set_option('display.float_format', lambda x: f'{x:.3f}')\n",
    "plt.style.use('seaborn-v0_8-whitegrid')\n",
    "sns.set_palette('pastel')"
   ]
  },
  {
   "cell_type": "code",
   "execution_count": 2,
   "id": "2255ac64-05e9-48eb-9794-694188953378",
   "metadata": {},
   "outputs": [],
   "source": [
    "# import data\n",
    "df = pd.read_csv('/workspaces/adorie-data-projects/customer-personality-analysis/data/raw/marketing_campaign.csv',\n",
    "                delimiter = \"\\t\")"
   ]
  },
  {
   "cell_type": "markdown",
   "id": "8d4fd076-c6e8-4739-b906-1154ac9f0128",
   "metadata": {
    "jp-MarkdownHeadingCollapsed": true
   },
   "source": [
    "### 2. Basic Information about the Dataset"
   ]
  },
  {
   "cell_type": "code",
   "execution_count": 3,
   "id": "e59c20c5-7aae-4a19-8e8f-2ac34e4bf613",
   "metadata": {},
   "outputs": [
    {
     "data": {
      "text/plain": [
       "(2240, 29)"
      ]
     },
     "execution_count": 3,
     "metadata": {},
     "output_type": "execute_result"
    }
   ],
   "source": [
    "df.shape"
   ]
  },
  {
   "cell_type": "code",
   "execution_count": 4,
   "id": "2cd7e639-cb62-452f-a3b7-bc28f1ccc1ac",
   "metadata": {
    "scrolled": true
   },
   "outputs": [
    {
     "data": {
      "text/plain": [
       "ID                       int64\n",
       "Year_Birth               int64\n",
       "Education               object\n",
       "Marital_Status          object\n",
       "Income                 float64\n",
       "Kidhome                  int64\n",
       "Teenhome                 int64\n",
       "Dt_Customer             object\n",
       "Recency                  int64\n",
       "MntWines                 int64\n",
       "MntFruits                int64\n",
       "MntMeatProducts          int64\n",
       "MntFishProducts          int64\n",
       "MntSweetProducts         int64\n",
       "MntGoldProds             int64\n",
       "NumDealsPurchases        int64\n",
       "NumWebPurchases          int64\n",
       "NumCatalogPurchases      int64\n",
       "NumStorePurchases        int64\n",
       "NumWebVisitsMonth        int64\n",
       "AcceptedCmp3             int64\n",
       "AcceptedCmp4             int64\n",
       "AcceptedCmp5             int64\n",
       "AcceptedCmp1             int64\n",
       "AcceptedCmp2             int64\n",
       "Complain                 int64\n",
       "Z_CostContact            int64\n",
       "Z_Revenue                int64\n",
       "Response                 int64\n",
       "dtype: object"
      ]
     },
     "execution_count": 4,
     "metadata": {},
     "output_type": "execute_result"
    }
   ],
   "source": [
    "df.dtypes"
   ]
  },
  {
   "cell_type": "code",
   "execution_count": 5,
   "id": "99e8068c-c688-40d6-bd0d-53f94fd68904",
   "metadata": {},
   "outputs": [
    {
     "data": {
      "text/html": [
       "<div>\n",
       "<style scoped>\n",
       "    .dataframe tbody tr th:only-of-type {\n",
       "        vertical-align: middle;\n",
       "    }\n",
       "\n",
       "    .dataframe tbody tr th {\n",
       "        vertical-align: top;\n",
       "    }\n",
       "\n",
       "    .dataframe thead th {\n",
       "        text-align: right;\n",
       "    }\n",
       "</style>\n",
       "<table border=\"1\" class=\"dataframe\">\n",
       "  <thead>\n",
       "    <tr style=\"text-align: right;\">\n",
       "      <th></th>\n",
       "      <th>ID</th>\n",
       "      <th>Year_Birth</th>\n",
       "      <th>Education</th>\n",
       "      <th>Marital_Status</th>\n",
       "      <th>Income</th>\n",
       "      <th>Kidhome</th>\n",
       "      <th>Teenhome</th>\n",
       "      <th>Dt_Customer</th>\n",
       "      <th>Recency</th>\n",
       "      <th>MntWines</th>\n",
       "      <th>MntFruits</th>\n",
       "      <th>MntMeatProducts</th>\n",
       "      <th>MntFishProducts</th>\n",
       "      <th>MntSweetProducts</th>\n",
       "      <th>MntGoldProds</th>\n",
       "      <th>NumDealsPurchases</th>\n",
       "      <th>NumWebPurchases</th>\n",
       "      <th>NumCatalogPurchases</th>\n",
       "      <th>NumStorePurchases</th>\n",
       "      <th>NumWebVisitsMonth</th>\n",
       "      <th>AcceptedCmp3</th>\n",
       "      <th>AcceptedCmp4</th>\n",
       "      <th>AcceptedCmp5</th>\n",
       "      <th>AcceptedCmp1</th>\n",
       "      <th>AcceptedCmp2</th>\n",
       "      <th>Complain</th>\n",
       "      <th>Z_CostContact</th>\n",
       "      <th>Z_Revenue</th>\n",
       "      <th>Response</th>\n",
       "    </tr>\n",
       "  </thead>\n",
       "  <tbody>\n",
       "    <tr>\n",
       "      <th>0</th>\n",
       "      <td>5524</td>\n",
       "      <td>1957</td>\n",
       "      <td>Graduation</td>\n",
       "      <td>Single</td>\n",
       "      <td>58138.000</td>\n",
       "      <td>0</td>\n",
       "      <td>0</td>\n",
       "      <td>04-09-2012</td>\n",
       "      <td>58</td>\n",
       "      <td>635</td>\n",
       "      <td>88</td>\n",
       "      <td>546</td>\n",
       "      <td>172</td>\n",
       "      <td>88</td>\n",
       "      <td>88</td>\n",
       "      <td>3</td>\n",
       "      <td>8</td>\n",
       "      <td>10</td>\n",
       "      <td>4</td>\n",
       "      <td>7</td>\n",
       "      <td>0</td>\n",
       "      <td>0</td>\n",
       "      <td>0</td>\n",
       "      <td>0</td>\n",
       "      <td>0</td>\n",
       "      <td>0</td>\n",
       "      <td>3</td>\n",
       "      <td>11</td>\n",
       "      <td>1</td>\n",
       "    </tr>\n",
       "    <tr>\n",
       "      <th>1</th>\n",
       "      <td>2174</td>\n",
       "      <td>1954</td>\n",
       "      <td>Graduation</td>\n",
       "      <td>Single</td>\n",
       "      <td>46344.000</td>\n",
       "      <td>1</td>\n",
       "      <td>1</td>\n",
       "      <td>08-03-2014</td>\n",
       "      <td>38</td>\n",
       "      <td>11</td>\n",
       "      <td>1</td>\n",
       "      <td>6</td>\n",
       "      <td>2</td>\n",
       "      <td>1</td>\n",
       "      <td>6</td>\n",
       "      <td>2</td>\n",
       "      <td>1</td>\n",
       "      <td>1</td>\n",
       "      <td>2</td>\n",
       "      <td>5</td>\n",
       "      <td>0</td>\n",
       "      <td>0</td>\n",
       "      <td>0</td>\n",
       "      <td>0</td>\n",
       "      <td>0</td>\n",
       "      <td>0</td>\n",
       "      <td>3</td>\n",
       "      <td>11</td>\n",
       "      <td>0</td>\n",
       "    </tr>\n",
       "    <tr>\n",
       "      <th>2</th>\n",
       "      <td>4141</td>\n",
       "      <td>1965</td>\n",
       "      <td>Graduation</td>\n",
       "      <td>Together</td>\n",
       "      <td>71613.000</td>\n",
       "      <td>0</td>\n",
       "      <td>0</td>\n",
       "      <td>21-08-2013</td>\n",
       "      <td>26</td>\n",
       "      <td>426</td>\n",
       "      <td>49</td>\n",
       "      <td>127</td>\n",
       "      <td>111</td>\n",
       "      <td>21</td>\n",
       "      <td>42</td>\n",
       "      <td>1</td>\n",
       "      <td>8</td>\n",
       "      <td>2</td>\n",
       "      <td>10</td>\n",
       "      <td>4</td>\n",
       "      <td>0</td>\n",
       "      <td>0</td>\n",
       "      <td>0</td>\n",
       "      <td>0</td>\n",
       "      <td>0</td>\n",
       "      <td>0</td>\n",
       "      <td>3</td>\n",
       "      <td>11</td>\n",
       "      <td>0</td>\n",
       "    </tr>\n",
       "    <tr>\n",
       "      <th>3</th>\n",
       "      <td>6182</td>\n",
       "      <td>1984</td>\n",
       "      <td>Graduation</td>\n",
       "      <td>Together</td>\n",
       "      <td>26646.000</td>\n",
       "      <td>1</td>\n",
       "      <td>0</td>\n",
       "      <td>10-02-2014</td>\n",
       "      <td>26</td>\n",
       "      <td>11</td>\n",
       "      <td>4</td>\n",
       "      <td>20</td>\n",
       "      <td>10</td>\n",
       "      <td>3</td>\n",
       "      <td>5</td>\n",
       "      <td>2</td>\n",
       "      <td>2</td>\n",
       "      <td>0</td>\n",
       "      <td>4</td>\n",
       "      <td>6</td>\n",
       "      <td>0</td>\n",
       "      <td>0</td>\n",
       "      <td>0</td>\n",
       "      <td>0</td>\n",
       "      <td>0</td>\n",
       "      <td>0</td>\n",
       "      <td>3</td>\n",
       "      <td>11</td>\n",
       "      <td>0</td>\n",
       "    </tr>\n",
       "    <tr>\n",
       "      <th>4</th>\n",
       "      <td>5324</td>\n",
       "      <td>1981</td>\n",
       "      <td>PhD</td>\n",
       "      <td>Married</td>\n",
       "      <td>58293.000</td>\n",
       "      <td>1</td>\n",
       "      <td>0</td>\n",
       "      <td>19-01-2014</td>\n",
       "      <td>94</td>\n",
       "      <td>173</td>\n",
       "      <td>43</td>\n",
       "      <td>118</td>\n",
       "      <td>46</td>\n",
       "      <td>27</td>\n",
       "      <td>15</td>\n",
       "      <td>5</td>\n",
       "      <td>5</td>\n",
       "      <td>3</td>\n",
       "      <td>6</td>\n",
       "      <td>5</td>\n",
       "      <td>0</td>\n",
       "      <td>0</td>\n",
       "      <td>0</td>\n",
       "      <td>0</td>\n",
       "      <td>0</td>\n",
       "      <td>0</td>\n",
       "      <td>3</td>\n",
       "      <td>11</td>\n",
       "      <td>0</td>\n",
       "    </tr>\n",
       "  </tbody>\n",
       "</table>\n",
       "</div>"
      ],
      "text/plain": [
       "     ID  Year_Birth   Education Marital_Status    Income  Kidhome  Teenhome  \\\n",
       "0  5524        1957  Graduation         Single 58138.000        0         0   \n",
       "1  2174        1954  Graduation         Single 46344.000        1         1   \n",
       "2  4141        1965  Graduation       Together 71613.000        0         0   \n",
       "3  6182        1984  Graduation       Together 26646.000        1         0   \n",
       "4  5324        1981         PhD        Married 58293.000        1         0   \n",
       "\n",
       "  Dt_Customer  Recency  MntWines  MntFruits  MntMeatProducts  MntFishProducts  \\\n",
       "0  04-09-2012       58       635         88              546              172   \n",
       "1  08-03-2014       38        11          1                6                2   \n",
       "2  21-08-2013       26       426         49              127              111   \n",
       "3  10-02-2014       26        11          4               20               10   \n",
       "4  19-01-2014       94       173         43              118               46   \n",
       "\n",
       "   MntSweetProducts  MntGoldProds  NumDealsPurchases  NumWebPurchases  \\\n",
       "0                88            88                  3                8   \n",
       "1                 1             6                  2                1   \n",
       "2                21            42                  1                8   \n",
       "3                 3             5                  2                2   \n",
       "4                27            15                  5                5   \n",
       "\n",
       "   NumCatalogPurchases  NumStorePurchases  NumWebVisitsMonth  AcceptedCmp3  \\\n",
       "0                   10                  4                  7             0   \n",
       "1                    1                  2                  5             0   \n",
       "2                    2                 10                  4             0   \n",
       "3                    0                  4                  6             0   \n",
       "4                    3                  6                  5             0   \n",
       "\n",
       "   AcceptedCmp4  AcceptedCmp5  AcceptedCmp1  AcceptedCmp2  Complain  \\\n",
       "0             0             0             0             0         0   \n",
       "1             0             0             0             0         0   \n",
       "2             0             0             0             0         0   \n",
       "3             0             0             0             0         0   \n",
       "4             0             0             0             0         0   \n",
       "\n",
       "   Z_CostContact  Z_Revenue  Response  \n",
       "0              3         11         1  \n",
       "1              3         11         0  \n",
       "2              3         11         0  \n",
       "3              3         11         0  \n",
       "4              3         11         0  "
      ]
     },
     "execution_count": 5,
     "metadata": {},
     "output_type": "execute_result"
    }
   ],
   "source": [
    "df.head()"
   ]
  },
  {
   "cell_type": "code",
   "execution_count": 6,
   "id": "4b0800c3-909c-446d-86df-e6075fcd715e",
   "metadata": {},
   "outputs": [],
   "source": [
    "# After looking through the dataset, we can categorize each attribute into different groups for better analysis\n",
    "\n",
    "# Customer Info:\n",
    "# ID: Customer's unique identifier\n",
    "# Year_Birth: Customer's birth year\n",
    "# Education: Customer's education level -- CATEGORICAL\n",
    "# Marital_Status: Customer's marital status -- CATEGORICAL\n",
    "# Income: Customer's yearly household income\n",
    "# Kidhome: Number of children in customer's household\n",
    "# Teenhome: Number of teenagers in customer's household\n",
    "# Dt_Customer: Date of customer's enrollment with the company\n",
    "# Recency: Number of days since customer's last purchase\n",
    "# Complain: 1 if the customer complained in the last 2 years, 0 otherwise -- BOOLEAN\n",
    "\n",
    "# Product Info:\n",
    "# MntWines: Amount spent on wine in last 2 years\n",
    "# MntFruits: Amount spent on fruits in last 2 years\n",
    "# MntMeatProducts: Amount spent on meat in last 2 years\n",
    "# MntFishProducts: Amount spent on fish in last 2 years\n",
    "# MntSweetProducts: Amount spent on sweets in last 2 years\n",
    "# MntGoldProds: Amount spent on gold in last 2 years\n",
    "\n",
    "# Promotion Campaign Info\n",
    "# NumDealsPurchases: Number of purchases made with a discount\n",
    "# AcceptedCmp1: 1 if customer accepted the offer in the 1st campaign, 0 otherwise -- BOOLEAN\n",
    "# AcceptedCmp2: 1 if customer accepted the offer in the 2nd campaign, 0 otherwise -- BOOLEAN\n",
    "# AcceptedCmp3: 1 if customer accepted the offer in the 3rd campaign, 0 otherwise -- BOOLEAN\n",
    "# AcceptedCmp4: 1 if customer accepted the offer in the 4th campaign, 0 otherwise -- BOOLEAN\n",
    "# AcceptedCmp5: 1 if customer accepted the offer in the 5th campaign, 0 otherwise -- BOOLEAN\n",
    "# Response: 1 if customer accepted the offer in the last campaign, 0 otherwise -- BOOLEAN\n",
    "\n",
    "# Channel Info\n",
    "# NumWebPurchases: Number of purchases made through the company’s website\n",
    "# NumCatalogPurchases: Number of purchases made using a catalogue\n",
    "# NumStorePurchases: Number of purchases made directly in stores\n",
    "# NumWebVisitsMonth: Number of visits to company’s website in the last month"
   ]
  },
  {
   "cell_type": "markdown",
   "id": "7a870708-bc94-4bca-b37d-e804381333e9",
   "metadata": {},
   "source": [
    "### 3. Data Cleaning"
   ]
  },
  {
   "cell_type": "markdown",
   "id": "fb5c5e72-1e3c-401a-9439-f4667298a0f6",
   "metadata": {
    "jp-MarkdownHeadingCollapsed": true
   },
   "source": [
    "#### Handle duplicate values"
   ]
  },
  {
   "cell_type": "code",
   "execution_count": 7,
   "id": "24789bb7-7c4f-4483-a221-bfc646c2844c",
   "metadata": {},
   "outputs": [
    {
     "name": "stdout",
     "output_type": "stream",
     "text": [
      "No duplicated value\n"
     ]
    }
   ],
   "source": [
    "# check duplicate in attribute ID\n",
    "check_duplicated = df['ID'].duplicated().any()\n",
    "if check_duplicated:\n",
    "    print('Duplicated value found')\n",
    "else:\n",
    "    print('No duplicated value')"
   ]
  },
  {
   "cell_type": "markdown",
   "id": "2d4896b8-904e-43eb-b783-c2471a16d101",
   "metadata": {
    "jp-MarkdownHeadingCollapsed": true
   },
   "source": [
    "#### Handle missing values"
   ]
  },
  {
   "cell_type": "code",
   "execution_count": 8,
   "id": "e096e6bf-461f-4835-836b-2e1e47ebf0cf",
   "metadata": {},
   "outputs": [],
   "source": [
    "# check missing value\n",
    "missing_value_summary = df.isnull().sum()[df.isnull().sum() != 0]\n",
    "missing_rows = df[df.isnull().any(axis=1)]"
   ]
  },
  {
   "cell_type": "code",
   "execution_count": 9,
   "id": "861e50a8-eb8b-41b3-a190-c6c61e682771",
   "metadata": {},
   "outputs": [
    {
     "data": {
      "text/plain": [
       "Income    24\n",
       "dtype: int64"
      ]
     },
     "execution_count": 9,
     "metadata": {},
     "output_type": "execute_result"
    }
   ],
   "source": [
    "missing_value_summary"
   ]
  },
  {
   "cell_type": "code",
   "execution_count": 10,
   "id": "b8e19225-4611-40d5-91e8-b621f56d6c2f",
   "metadata": {
    "scrolled": true
   },
   "outputs": [
    {
     "data": {
      "text/html": [
       "<div>\n",
       "<style scoped>\n",
       "    .dataframe tbody tr th:only-of-type {\n",
       "        vertical-align: middle;\n",
       "    }\n",
       "\n",
       "    .dataframe tbody tr th {\n",
       "        vertical-align: top;\n",
       "    }\n",
       "\n",
       "    .dataframe thead th {\n",
       "        text-align: right;\n",
       "    }\n",
       "</style>\n",
       "<table border=\"1\" class=\"dataframe\">\n",
       "  <thead>\n",
       "    <tr style=\"text-align: right;\">\n",
       "      <th></th>\n",
       "      <th>ID</th>\n",
       "      <th>Year_Birth</th>\n",
       "      <th>Education</th>\n",
       "      <th>Marital_Status</th>\n",
       "      <th>Income</th>\n",
       "      <th>Kidhome</th>\n",
       "      <th>Teenhome</th>\n",
       "      <th>Dt_Customer</th>\n",
       "      <th>Recency</th>\n",
       "      <th>MntWines</th>\n",
       "      <th>MntFruits</th>\n",
       "      <th>MntMeatProducts</th>\n",
       "      <th>MntFishProducts</th>\n",
       "      <th>MntSweetProducts</th>\n",
       "      <th>MntGoldProds</th>\n",
       "      <th>NumDealsPurchases</th>\n",
       "      <th>NumWebPurchases</th>\n",
       "      <th>NumCatalogPurchases</th>\n",
       "      <th>NumStorePurchases</th>\n",
       "      <th>NumWebVisitsMonth</th>\n",
       "      <th>AcceptedCmp3</th>\n",
       "      <th>AcceptedCmp4</th>\n",
       "      <th>AcceptedCmp5</th>\n",
       "      <th>AcceptedCmp1</th>\n",
       "      <th>AcceptedCmp2</th>\n",
       "      <th>Complain</th>\n",
       "      <th>Z_CostContact</th>\n",
       "      <th>Z_Revenue</th>\n",
       "      <th>Response</th>\n",
       "    </tr>\n",
       "  </thead>\n",
       "  <tbody>\n",
       "    <tr>\n",
       "      <th>10</th>\n",
       "      <td>1994</td>\n",
       "      <td>1983</td>\n",
       "      <td>Graduation</td>\n",
       "      <td>Married</td>\n",
       "      <td>NaN</td>\n",
       "      <td>1</td>\n",
       "      <td>0</td>\n",
       "      <td>15-11-2013</td>\n",
       "      <td>11</td>\n",
       "      <td>5</td>\n",
       "      <td>5</td>\n",
       "      <td>6</td>\n",
       "      <td>0</td>\n",
       "      <td>2</td>\n",
       "      <td>1</td>\n",
       "      <td>1</td>\n",
       "      <td>1</td>\n",
       "      <td>0</td>\n",
       "      <td>2</td>\n",
       "      <td>7</td>\n",
       "      <td>0</td>\n",
       "      <td>0</td>\n",
       "      <td>0</td>\n",
       "      <td>0</td>\n",
       "      <td>0</td>\n",
       "      <td>0</td>\n",
       "      <td>3</td>\n",
       "      <td>11</td>\n",
       "      <td>0</td>\n",
       "    </tr>\n",
       "    <tr>\n",
       "      <th>27</th>\n",
       "      <td>5255</td>\n",
       "      <td>1986</td>\n",
       "      <td>Graduation</td>\n",
       "      <td>Single</td>\n",
       "      <td>NaN</td>\n",
       "      <td>1</td>\n",
       "      <td>0</td>\n",
       "      <td>20-02-2013</td>\n",
       "      <td>19</td>\n",
       "      <td>5</td>\n",
       "      <td>1</td>\n",
       "      <td>3</td>\n",
       "      <td>3</td>\n",
       "      <td>263</td>\n",
       "      <td>362</td>\n",
       "      <td>0</td>\n",
       "      <td>27</td>\n",
       "      <td>0</td>\n",
       "      <td>0</td>\n",
       "      <td>1</td>\n",
       "      <td>0</td>\n",
       "      <td>0</td>\n",
       "      <td>0</td>\n",
       "      <td>0</td>\n",
       "      <td>0</td>\n",
       "      <td>0</td>\n",
       "      <td>3</td>\n",
       "      <td>11</td>\n",
       "      <td>0</td>\n",
       "    </tr>\n",
       "    <tr>\n",
       "      <th>43</th>\n",
       "      <td>7281</td>\n",
       "      <td>1959</td>\n",
       "      <td>PhD</td>\n",
       "      <td>Single</td>\n",
       "      <td>NaN</td>\n",
       "      <td>0</td>\n",
       "      <td>0</td>\n",
       "      <td>05-11-2013</td>\n",
       "      <td>80</td>\n",
       "      <td>81</td>\n",
       "      <td>11</td>\n",
       "      <td>50</td>\n",
       "      <td>3</td>\n",
       "      <td>2</td>\n",
       "      <td>39</td>\n",
       "      <td>1</td>\n",
       "      <td>1</td>\n",
       "      <td>3</td>\n",
       "      <td>4</td>\n",
       "      <td>2</td>\n",
       "      <td>0</td>\n",
       "      <td>0</td>\n",
       "      <td>0</td>\n",
       "      <td>0</td>\n",
       "      <td>0</td>\n",
       "      <td>0</td>\n",
       "      <td>3</td>\n",
       "      <td>11</td>\n",
       "      <td>0</td>\n",
       "    </tr>\n",
       "    <tr>\n",
       "      <th>48</th>\n",
       "      <td>7244</td>\n",
       "      <td>1951</td>\n",
       "      <td>Graduation</td>\n",
       "      <td>Single</td>\n",
       "      <td>NaN</td>\n",
       "      <td>2</td>\n",
       "      <td>1</td>\n",
       "      <td>01-01-2014</td>\n",
       "      <td>96</td>\n",
       "      <td>48</td>\n",
       "      <td>5</td>\n",
       "      <td>48</td>\n",
       "      <td>6</td>\n",
       "      <td>10</td>\n",
       "      <td>7</td>\n",
       "      <td>3</td>\n",
       "      <td>2</td>\n",
       "      <td>1</td>\n",
       "      <td>4</td>\n",
       "      <td>6</td>\n",
       "      <td>0</td>\n",
       "      <td>0</td>\n",
       "      <td>0</td>\n",
       "      <td>0</td>\n",
       "      <td>0</td>\n",
       "      <td>0</td>\n",
       "      <td>3</td>\n",
       "      <td>11</td>\n",
       "      <td>0</td>\n",
       "    </tr>\n",
       "    <tr>\n",
       "      <th>58</th>\n",
       "      <td>8557</td>\n",
       "      <td>1982</td>\n",
       "      <td>Graduation</td>\n",
       "      <td>Single</td>\n",
       "      <td>NaN</td>\n",
       "      <td>1</td>\n",
       "      <td>0</td>\n",
       "      <td>17-06-2013</td>\n",
       "      <td>57</td>\n",
       "      <td>11</td>\n",
       "      <td>3</td>\n",
       "      <td>22</td>\n",
       "      <td>2</td>\n",
       "      <td>2</td>\n",
       "      <td>6</td>\n",
       "      <td>2</td>\n",
       "      <td>2</td>\n",
       "      <td>0</td>\n",
       "      <td>3</td>\n",
       "      <td>6</td>\n",
       "      <td>0</td>\n",
       "      <td>0</td>\n",
       "      <td>0</td>\n",
       "      <td>0</td>\n",
       "      <td>0</td>\n",
       "      <td>0</td>\n",
       "      <td>3</td>\n",
       "      <td>11</td>\n",
       "      <td>0</td>\n",
       "    </tr>\n",
       "    <tr>\n",
       "      <th>71</th>\n",
       "      <td>10629</td>\n",
       "      <td>1973</td>\n",
       "      <td>2n Cycle</td>\n",
       "      <td>Married</td>\n",
       "      <td>NaN</td>\n",
       "      <td>1</td>\n",
       "      <td>0</td>\n",
       "      <td>14-09-2012</td>\n",
       "      <td>25</td>\n",
       "      <td>25</td>\n",
       "      <td>3</td>\n",
       "      <td>43</td>\n",
       "      <td>17</td>\n",
       "      <td>4</td>\n",
       "      <td>17</td>\n",
       "      <td>3</td>\n",
       "      <td>3</td>\n",
       "      <td>0</td>\n",
       "      <td>3</td>\n",
       "      <td>8</td>\n",
       "      <td>0</td>\n",
       "      <td>0</td>\n",
       "      <td>0</td>\n",
       "      <td>0</td>\n",
       "      <td>0</td>\n",
       "      <td>0</td>\n",
       "      <td>3</td>\n",
       "      <td>11</td>\n",
       "      <td>0</td>\n",
       "    </tr>\n",
       "    <tr>\n",
       "      <th>90</th>\n",
       "      <td>8996</td>\n",
       "      <td>1957</td>\n",
       "      <td>PhD</td>\n",
       "      <td>Married</td>\n",
       "      <td>NaN</td>\n",
       "      <td>2</td>\n",
       "      <td>1</td>\n",
       "      <td>19-11-2012</td>\n",
       "      <td>4</td>\n",
       "      <td>230</td>\n",
       "      <td>42</td>\n",
       "      <td>192</td>\n",
       "      <td>49</td>\n",
       "      <td>37</td>\n",
       "      <td>53</td>\n",
       "      <td>12</td>\n",
       "      <td>7</td>\n",
       "      <td>2</td>\n",
       "      <td>8</td>\n",
       "      <td>9</td>\n",
       "      <td>0</td>\n",
       "      <td>0</td>\n",
       "      <td>0</td>\n",
       "      <td>0</td>\n",
       "      <td>0</td>\n",
       "      <td>0</td>\n",
       "      <td>3</td>\n",
       "      <td>11</td>\n",
       "      <td>0</td>\n",
       "    </tr>\n",
       "    <tr>\n",
       "      <th>91</th>\n",
       "      <td>9235</td>\n",
       "      <td>1957</td>\n",
       "      <td>Graduation</td>\n",
       "      <td>Single</td>\n",
       "      <td>NaN</td>\n",
       "      <td>1</td>\n",
       "      <td>1</td>\n",
       "      <td>27-05-2014</td>\n",
       "      <td>45</td>\n",
       "      <td>7</td>\n",
       "      <td>0</td>\n",
       "      <td>8</td>\n",
       "      <td>2</td>\n",
       "      <td>0</td>\n",
       "      <td>1</td>\n",
       "      <td>1</td>\n",
       "      <td>1</td>\n",
       "      <td>0</td>\n",
       "      <td>2</td>\n",
       "      <td>7</td>\n",
       "      <td>0</td>\n",
       "      <td>0</td>\n",
       "      <td>0</td>\n",
       "      <td>0</td>\n",
       "      <td>0</td>\n",
       "      <td>0</td>\n",
       "      <td>3</td>\n",
       "      <td>11</td>\n",
       "      <td>0</td>\n",
       "    </tr>\n",
       "    <tr>\n",
       "      <th>92</th>\n",
       "      <td>5798</td>\n",
       "      <td>1973</td>\n",
       "      <td>Master</td>\n",
       "      <td>Together</td>\n",
       "      <td>NaN</td>\n",
       "      <td>0</td>\n",
       "      <td>0</td>\n",
       "      <td>23-11-2013</td>\n",
       "      <td>87</td>\n",
       "      <td>445</td>\n",
       "      <td>37</td>\n",
       "      <td>359</td>\n",
       "      <td>98</td>\n",
       "      <td>28</td>\n",
       "      <td>18</td>\n",
       "      <td>1</td>\n",
       "      <td>2</td>\n",
       "      <td>4</td>\n",
       "      <td>8</td>\n",
       "      <td>1</td>\n",
       "      <td>0</td>\n",
       "      <td>0</td>\n",
       "      <td>0</td>\n",
       "      <td>0</td>\n",
       "      <td>0</td>\n",
       "      <td>0</td>\n",
       "      <td>3</td>\n",
       "      <td>11</td>\n",
       "      <td>0</td>\n",
       "    </tr>\n",
       "    <tr>\n",
       "      <th>128</th>\n",
       "      <td>8268</td>\n",
       "      <td>1961</td>\n",
       "      <td>PhD</td>\n",
       "      <td>Married</td>\n",
       "      <td>NaN</td>\n",
       "      <td>0</td>\n",
       "      <td>1</td>\n",
       "      <td>11-07-2013</td>\n",
       "      <td>23</td>\n",
       "      <td>352</td>\n",
       "      <td>0</td>\n",
       "      <td>27</td>\n",
       "      <td>10</td>\n",
       "      <td>0</td>\n",
       "      <td>15</td>\n",
       "      <td>3</td>\n",
       "      <td>6</td>\n",
       "      <td>1</td>\n",
       "      <td>7</td>\n",
       "      <td>6</td>\n",
       "      <td>0</td>\n",
       "      <td>0</td>\n",
       "      <td>0</td>\n",
       "      <td>0</td>\n",
       "      <td>0</td>\n",
       "      <td>0</td>\n",
       "      <td>3</td>\n",
       "      <td>11</td>\n",
       "      <td>0</td>\n",
       "    </tr>\n",
       "    <tr>\n",
       "      <th>133</th>\n",
       "      <td>1295</td>\n",
       "      <td>1963</td>\n",
       "      <td>Graduation</td>\n",
       "      <td>Married</td>\n",
       "      <td>NaN</td>\n",
       "      <td>0</td>\n",
       "      <td>1</td>\n",
       "      <td>11-08-2013</td>\n",
       "      <td>96</td>\n",
       "      <td>231</td>\n",
       "      <td>65</td>\n",
       "      <td>196</td>\n",
       "      <td>38</td>\n",
       "      <td>71</td>\n",
       "      <td>124</td>\n",
       "      <td>1</td>\n",
       "      <td>6</td>\n",
       "      <td>5</td>\n",
       "      <td>7</td>\n",
       "      <td>4</td>\n",
       "      <td>0</td>\n",
       "      <td>0</td>\n",
       "      <td>0</td>\n",
       "      <td>0</td>\n",
       "      <td>0</td>\n",
       "      <td>0</td>\n",
       "      <td>3</td>\n",
       "      <td>11</td>\n",
       "      <td>0</td>\n",
       "    </tr>\n",
       "    <tr>\n",
       "      <th>312</th>\n",
       "      <td>2437</td>\n",
       "      <td>1989</td>\n",
       "      <td>Graduation</td>\n",
       "      <td>Married</td>\n",
       "      <td>NaN</td>\n",
       "      <td>0</td>\n",
       "      <td>0</td>\n",
       "      <td>03-06-2013</td>\n",
       "      <td>69</td>\n",
       "      <td>861</td>\n",
       "      <td>138</td>\n",
       "      <td>461</td>\n",
       "      <td>60</td>\n",
       "      <td>30</td>\n",
       "      <td>61</td>\n",
       "      <td>1</td>\n",
       "      <td>6</td>\n",
       "      <td>5</td>\n",
       "      <td>12</td>\n",
       "      <td>3</td>\n",
       "      <td>0</td>\n",
       "      <td>1</td>\n",
       "      <td>0</td>\n",
       "      <td>1</td>\n",
       "      <td>0</td>\n",
       "      <td>0</td>\n",
       "      <td>3</td>\n",
       "      <td>11</td>\n",
       "      <td>0</td>\n",
       "    </tr>\n",
       "    <tr>\n",
       "      <th>319</th>\n",
       "      <td>2863</td>\n",
       "      <td>1970</td>\n",
       "      <td>Graduation</td>\n",
       "      <td>Single</td>\n",
       "      <td>NaN</td>\n",
       "      <td>1</td>\n",
       "      <td>2</td>\n",
       "      <td>23-08-2013</td>\n",
       "      <td>67</td>\n",
       "      <td>738</td>\n",
       "      <td>20</td>\n",
       "      <td>172</td>\n",
       "      <td>52</td>\n",
       "      <td>50</td>\n",
       "      <td>20</td>\n",
       "      <td>6</td>\n",
       "      <td>2</td>\n",
       "      <td>3</td>\n",
       "      <td>10</td>\n",
       "      <td>7</td>\n",
       "      <td>0</td>\n",
       "      <td>1</td>\n",
       "      <td>0</td>\n",
       "      <td>1</td>\n",
       "      <td>0</td>\n",
       "      <td>0</td>\n",
       "      <td>3</td>\n",
       "      <td>11</td>\n",
       "      <td>0</td>\n",
       "    </tr>\n",
       "    <tr>\n",
       "      <th>1379</th>\n",
       "      <td>10475</td>\n",
       "      <td>1970</td>\n",
       "      <td>Master</td>\n",
       "      <td>Together</td>\n",
       "      <td>NaN</td>\n",
       "      <td>0</td>\n",
       "      <td>1</td>\n",
       "      <td>01-04-2013</td>\n",
       "      <td>39</td>\n",
       "      <td>187</td>\n",
       "      <td>5</td>\n",
       "      <td>65</td>\n",
       "      <td>26</td>\n",
       "      <td>20</td>\n",
       "      <td>14</td>\n",
       "      <td>2</td>\n",
       "      <td>4</td>\n",
       "      <td>2</td>\n",
       "      <td>6</td>\n",
       "      <td>5</td>\n",
       "      <td>0</td>\n",
       "      <td>0</td>\n",
       "      <td>0</td>\n",
       "      <td>0</td>\n",
       "      <td>0</td>\n",
       "      <td>0</td>\n",
       "      <td>3</td>\n",
       "      <td>11</td>\n",
       "      <td>0</td>\n",
       "    </tr>\n",
       "    <tr>\n",
       "      <th>1382</th>\n",
       "      <td>2902</td>\n",
       "      <td>1958</td>\n",
       "      <td>Graduation</td>\n",
       "      <td>Together</td>\n",
       "      <td>NaN</td>\n",
       "      <td>1</td>\n",
       "      <td>1</td>\n",
       "      <td>03-09-2012</td>\n",
       "      <td>87</td>\n",
       "      <td>19</td>\n",
       "      <td>4</td>\n",
       "      <td>12</td>\n",
       "      <td>2</td>\n",
       "      <td>2</td>\n",
       "      <td>6</td>\n",
       "      <td>1</td>\n",
       "      <td>1</td>\n",
       "      <td>0</td>\n",
       "      <td>3</td>\n",
       "      <td>5</td>\n",
       "      <td>0</td>\n",
       "      <td>0</td>\n",
       "      <td>0</td>\n",
       "      <td>0</td>\n",
       "      <td>0</td>\n",
       "      <td>0</td>\n",
       "      <td>3</td>\n",
       "      <td>11</td>\n",
       "      <td>0</td>\n",
       "    </tr>\n",
       "    <tr>\n",
       "      <th>1383</th>\n",
       "      <td>4345</td>\n",
       "      <td>1964</td>\n",
       "      <td>2n Cycle</td>\n",
       "      <td>Single</td>\n",
       "      <td>NaN</td>\n",
       "      <td>1</td>\n",
       "      <td>1</td>\n",
       "      <td>12-01-2014</td>\n",
       "      <td>49</td>\n",
       "      <td>5</td>\n",
       "      <td>1</td>\n",
       "      <td>9</td>\n",
       "      <td>2</td>\n",
       "      <td>0</td>\n",
       "      <td>4</td>\n",
       "      <td>1</td>\n",
       "      <td>1</td>\n",
       "      <td>0</td>\n",
       "      <td>2</td>\n",
       "      <td>7</td>\n",
       "      <td>0</td>\n",
       "      <td>0</td>\n",
       "      <td>0</td>\n",
       "      <td>0</td>\n",
       "      <td>0</td>\n",
       "      <td>0</td>\n",
       "      <td>3</td>\n",
       "      <td>11</td>\n",
       "      <td>0</td>\n",
       "    </tr>\n",
       "    <tr>\n",
       "      <th>1386</th>\n",
       "      <td>3769</td>\n",
       "      <td>1972</td>\n",
       "      <td>PhD</td>\n",
       "      <td>Together</td>\n",
       "      <td>NaN</td>\n",
       "      <td>1</td>\n",
       "      <td>0</td>\n",
       "      <td>02-03-2014</td>\n",
       "      <td>17</td>\n",
       "      <td>25</td>\n",
       "      <td>1</td>\n",
       "      <td>13</td>\n",
       "      <td>0</td>\n",
       "      <td>0</td>\n",
       "      <td>3</td>\n",
       "      <td>1</td>\n",
       "      <td>1</td>\n",
       "      <td>0</td>\n",
       "      <td>3</td>\n",
       "      <td>7</td>\n",
       "      <td>0</td>\n",
       "      <td>0</td>\n",
       "      <td>0</td>\n",
       "      <td>0</td>\n",
       "      <td>0</td>\n",
       "      <td>0</td>\n",
       "      <td>3</td>\n",
       "      <td>11</td>\n",
       "      <td>0</td>\n",
       "    </tr>\n",
       "    <tr>\n",
       "      <th>2059</th>\n",
       "      <td>7187</td>\n",
       "      <td>1969</td>\n",
       "      <td>Master</td>\n",
       "      <td>Together</td>\n",
       "      <td>NaN</td>\n",
       "      <td>1</td>\n",
       "      <td>1</td>\n",
       "      <td>18-05-2013</td>\n",
       "      <td>52</td>\n",
       "      <td>375</td>\n",
       "      <td>42</td>\n",
       "      <td>48</td>\n",
       "      <td>94</td>\n",
       "      <td>66</td>\n",
       "      <td>96</td>\n",
       "      <td>7</td>\n",
       "      <td>4</td>\n",
       "      <td>10</td>\n",
       "      <td>4</td>\n",
       "      <td>3</td>\n",
       "      <td>0</td>\n",
       "      <td>0</td>\n",
       "      <td>0</td>\n",
       "      <td>0</td>\n",
       "      <td>0</td>\n",
       "      <td>0</td>\n",
       "      <td>3</td>\n",
       "      <td>11</td>\n",
       "      <td>0</td>\n",
       "    </tr>\n",
       "    <tr>\n",
       "      <th>2061</th>\n",
       "      <td>1612</td>\n",
       "      <td>1981</td>\n",
       "      <td>PhD</td>\n",
       "      <td>Single</td>\n",
       "      <td>NaN</td>\n",
       "      <td>1</td>\n",
       "      <td>0</td>\n",
       "      <td>31-05-2013</td>\n",
       "      <td>82</td>\n",
       "      <td>23</td>\n",
       "      <td>0</td>\n",
       "      <td>15</td>\n",
       "      <td>0</td>\n",
       "      <td>2</td>\n",
       "      <td>7</td>\n",
       "      <td>2</td>\n",
       "      <td>3</td>\n",
       "      <td>0</td>\n",
       "      <td>3</td>\n",
       "      <td>6</td>\n",
       "      <td>0</td>\n",
       "      <td>0</td>\n",
       "      <td>0</td>\n",
       "      <td>0</td>\n",
       "      <td>0</td>\n",
       "      <td>0</td>\n",
       "      <td>3</td>\n",
       "      <td>11</td>\n",
       "      <td>0</td>\n",
       "    </tr>\n",
       "    <tr>\n",
       "      <th>2078</th>\n",
       "      <td>5079</td>\n",
       "      <td>1971</td>\n",
       "      <td>Graduation</td>\n",
       "      <td>Married</td>\n",
       "      <td>NaN</td>\n",
       "      <td>1</td>\n",
       "      <td>1</td>\n",
       "      <td>03-03-2013</td>\n",
       "      <td>82</td>\n",
       "      <td>71</td>\n",
       "      <td>1</td>\n",
       "      <td>16</td>\n",
       "      <td>0</td>\n",
       "      <td>0</td>\n",
       "      <td>9</td>\n",
       "      <td>4</td>\n",
       "      <td>2</td>\n",
       "      <td>1</td>\n",
       "      <td>3</td>\n",
       "      <td>8</td>\n",
       "      <td>0</td>\n",
       "      <td>0</td>\n",
       "      <td>0</td>\n",
       "      <td>0</td>\n",
       "      <td>0</td>\n",
       "      <td>0</td>\n",
       "      <td>3</td>\n",
       "      <td>11</td>\n",
       "      <td>0</td>\n",
       "    </tr>\n",
       "    <tr>\n",
       "      <th>2079</th>\n",
       "      <td>10339</td>\n",
       "      <td>1954</td>\n",
       "      <td>Master</td>\n",
       "      <td>Together</td>\n",
       "      <td>NaN</td>\n",
       "      <td>0</td>\n",
       "      <td>1</td>\n",
       "      <td>23-06-2013</td>\n",
       "      <td>83</td>\n",
       "      <td>161</td>\n",
       "      <td>0</td>\n",
       "      <td>22</td>\n",
       "      <td>0</td>\n",
       "      <td>0</td>\n",
       "      <td>24</td>\n",
       "      <td>2</td>\n",
       "      <td>4</td>\n",
       "      <td>1</td>\n",
       "      <td>4</td>\n",
       "      <td>6</td>\n",
       "      <td>0</td>\n",
       "      <td>0</td>\n",
       "      <td>0</td>\n",
       "      <td>0</td>\n",
       "      <td>0</td>\n",
       "      <td>0</td>\n",
       "      <td>3</td>\n",
       "      <td>11</td>\n",
       "      <td>0</td>\n",
       "    </tr>\n",
       "    <tr>\n",
       "      <th>2081</th>\n",
       "      <td>3117</td>\n",
       "      <td>1955</td>\n",
       "      <td>Graduation</td>\n",
       "      <td>Single</td>\n",
       "      <td>NaN</td>\n",
       "      <td>0</td>\n",
       "      <td>1</td>\n",
       "      <td>18-10-2013</td>\n",
       "      <td>95</td>\n",
       "      <td>264</td>\n",
       "      <td>0</td>\n",
       "      <td>21</td>\n",
       "      <td>12</td>\n",
       "      <td>6</td>\n",
       "      <td>147</td>\n",
       "      <td>3</td>\n",
       "      <td>6</td>\n",
       "      <td>1</td>\n",
       "      <td>5</td>\n",
       "      <td>7</td>\n",
       "      <td>0</td>\n",
       "      <td>0</td>\n",
       "      <td>0</td>\n",
       "      <td>0</td>\n",
       "      <td>0</td>\n",
       "      <td>0</td>\n",
       "      <td>3</td>\n",
       "      <td>11</td>\n",
       "      <td>0</td>\n",
       "    </tr>\n",
       "    <tr>\n",
       "      <th>2084</th>\n",
       "      <td>5250</td>\n",
       "      <td>1943</td>\n",
       "      <td>Master</td>\n",
       "      <td>Widow</td>\n",
       "      <td>NaN</td>\n",
       "      <td>0</td>\n",
       "      <td>0</td>\n",
       "      <td>30-10-2013</td>\n",
       "      <td>75</td>\n",
       "      <td>532</td>\n",
       "      <td>126</td>\n",
       "      <td>490</td>\n",
       "      <td>164</td>\n",
       "      <td>126</td>\n",
       "      <td>126</td>\n",
       "      <td>1</td>\n",
       "      <td>5</td>\n",
       "      <td>5</td>\n",
       "      <td>11</td>\n",
       "      <td>1</td>\n",
       "      <td>0</td>\n",
       "      <td>0</td>\n",
       "      <td>1</td>\n",
       "      <td>0</td>\n",
       "      <td>0</td>\n",
       "      <td>0</td>\n",
       "      <td>3</td>\n",
       "      <td>11</td>\n",
       "      <td>1</td>\n",
       "    </tr>\n",
       "    <tr>\n",
       "      <th>2228</th>\n",
       "      <td>8720</td>\n",
       "      <td>1978</td>\n",
       "      <td>2n Cycle</td>\n",
       "      <td>Together</td>\n",
       "      <td>NaN</td>\n",
       "      <td>0</td>\n",
       "      <td>0</td>\n",
       "      <td>12-08-2012</td>\n",
       "      <td>53</td>\n",
       "      <td>32</td>\n",
       "      <td>2</td>\n",
       "      <td>1607</td>\n",
       "      <td>12</td>\n",
       "      <td>4</td>\n",
       "      <td>22</td>\n",
       "      <td>0</td>\n",
       "      <td>0</td>\n",
       "      <td>0</td>\n",
       "      <td>1</td>\n",
       "      <td>0</td>\n",
       "      <td>0</td>\n",
       "      <td>1</td>\n",
       "      <td>0</td>\n",
       "      <td>0</td>\n",
       "      <td>0</td>\n",
       "      <td>0</td>\n",
       "      <td>3</td>\n",
       "      <td>11</td>\n",
       "      <td>0</td>\n",
       "    </tr>\n",
       "  </tbody>\n",
       "</table>\n",
       "</div>"
      ],
      "text/plain": [
       "         ID  Year_Birth   Education Marital_Status  Income  Kidhome  Teenhome  \\\n",
       "10     1994        1983  Graduation        Married     NaN        1         0   \n",
       "27     5255        1986  Graduation         Single     NaN        1         0   \n",
       "43     7281        1959         PhD         Single     NaN        0         0   \n",
       "48     7244        1951  Graduation         Single     NaN        2         1   \n",
       "58     8557        1982  Graduation         Single     NaN        1         0   \n",
       "71    10629        1973    2n Cycle        Married     NaN        1         0   \n",
       "90     8996        1957         PhD        Married     NaN        2         1   \n",
       "91     9235        1957  Graduation         Single     NaN        1         1   \n",
       "92     5798        1973      Master       Together     NaN        0         0   \n",
       "128    8268        1961         PhD        Married     NaN        0         1   \n",
       "133    1295        1963  Graduation        Married     NaN        0         1   \n",
       "312    2437        1989  Graduation        Married     NaN        0         0   \n",
       "319    2863        1970  Graduation         Single     NaN        1         2   \n",
       "1379  10475        1970      Master       Together     NaN        0         1   \n",
       "1382   2902        1958  Graduation       Together     NaN        1         1   \n",
       "1383   4345        1964    2n Cycle         Single     NaN        1         1   \n",
       "1386   3769        1972         PhD       Together     NaN        1         0   \n",
       "2059   7187        1969      Master       Together     NaN        1         1   \n",
       "2061   1612        1981         PhD         Single     NaN        1         0   \n",
       "2078   5079        1971  Graduation        Married     NaN        1         1   \n",
       "2079  10339        1954      Master       Together     NaN        0         1   \n",
       "2081   3117        1955  Graduation         Single     NaN        0         1   \n",
       "2084   5250        1943      Master          Widow     NaN        0         0   \n",
       "2228   8720        1978    2n Cycle       Together     NaN        0         0   \n",
       "\n",
       "     Dt_Customer  Recency  MntWines  MntFruits  MntMeatProducts  \\\n",
       "10    15-11-2013       11         5          5                6   \n",
       "27    20-02-2013       19         5          1                3   \n",
       "43    05-11-2013       80        81         11               50   \n",
       "48    01-01-2014       96        48          5               48   \n",
       "58    17-06-2013       57        11          3               22   \n",
       "71    14-09-2012       25        25          3               43   \n",
       "90    19-11-2012        4       230         42              192   \n",
       "91    27-05-2014       45         7          0                8   \n",
       "92    23-11-2013       87       445         37              359   \n",
       "128   11-07-2013       23       352          0               27   \n",
       "133   11-08-2013       96       231         65              196   \n",
       "312   03-06-2013       69       861        138              461   \n",
       "319   23-08-2013       67       738         20              172   \n",
       "1379  01-04-2013       39       187          5               65   \n",
       "1382  03-09-2012       87        19          4               12   \n",
       "1383  12-01-2014       49         5          1                9   \n",
       "1386  02-03-2014       17        25          1               13   \n",
       "2059  18-05-2013       52       375         42               48   \n",
       "2061  31-05-2013       82        23          0               15   \n",
       "2078  03-03-2013       82        71          1               16   \n",
       "2079  23-06-2013       83       161          0               22   \n",
       "2081  18-10-2013       95       264          0               21   \n",
       "2084  30-10-2013       75       532        126              490   \n",
       "2228  12-08-2012       53        32          2             1607   \n",
       "\n",
       "      MntFishProducts  MntSweetProducts  MntGoldProds  NumDealsPurchases  \\\n",
       "10                  0                 2             1                  1   \n",
       "27                  3               263           362                  0   \n",
       "43                  3                 2            39                  1   \n",
       "48                  6                10             7                  3   \n",
       "58                  2                 2             6                  2   \n",
       "71                 17                 4            17                  3   \n",
       "90                 49                37            53                 12   \n",
       "91                  2                 0             1                  1   \n",
       "92                 98                28            18                  1   \n",
       "128                10                 0            15                  3   \n",
       "133                38                71           124                  1   \n",
       "312                60                30            61                  1   \n",
       "319                52                50            20                  6   \n",
       "1379               26                20            14                  2   \n",
       "1382                2                 2             6                  1   \n",
       "1383                2                 0             4                  1   \n",
       "1386                0                 0             3                  1   \n",
       "2059               94                66            96                  7   \n",
       "2061                0                 2             7                  2   \n",
       "2078                0                 0             9                  4   \n",
       "2079                0                 0            24                  2   \n",
       "2081               12                 6           147                  3   \n",
       "2084              164               126           126                  1   \n",
       "2228               12                 4            22                  0   \n",
       "\n",
       "      NumWebPurchases  NumCatalogPurchases  NumStorePurchases  \\\n",
       "10                  1                    0                  2   \n",
       "27                 27                    0                  0   \n",
       "43                  1                    3                  4   \n",
       "48                  2                    1                  4   \n",
       "58                  2                    0                  3   \n",
       "71                  3                    0                  3   \n",
       "90                  7                    2                  8   \n",
       "91                  1                    0                  2   \n",
       "92                  2                    4                  8   \n",
       "128                 6                    1                  7   \n",
       "133                 6                    5                  7   \n",
       "312                 6                    5                 12   \n",
       "319                 2                    3                 10   \n",
       "1379                4                    2                  6   \n",
       "1382                1                    0                  3   \n",
       "1383                1                    0                  2   \n",
       "1386                1                    0                  3   \n",
       "2059                4                   10                  4   \n",
       "2061                3                    0                  3   \n",
       "2078                2                    1                  3   \n",
       "2079                4                    1                  4   \n",
       "2081                6                    1                  5   \n",
       "2084                5                    5                 11   \n",
       "2228                0                    0                  1   \n",
       "\n",
       "      NumWebVisitsMonth  AcceptedCmp3  AcceptedCmp4  AcceptedCmp5  \\\n",
       "10                    7             0             0             0   \n",
       "27                    1             0             0             0   \n",
       "43                    2             0             0             0   \n",
       "48                    6             0             0             0   \n",
       "58                    6             0             0             0   \n",
       "71                    8             0             0             0   \n",
       "90                    9             0             0             0   \n",
       "91                    7             0             0             0   \n",
       "92                    1             0             0             0   \n",
       "128                   6             0             0             0   \n",
       "133                   4             0             0             0   \n",
       "312                   3             0             1             0   \n",
       "319                   7             0             1             0   \n",
       "1379                  5             0             0             0   \n",
       "1382                  5             0             0             0   \n",
       "1383                  7             0             0             0   \n",
       "1386                  7             0             0             0   \n",
       "2059                  3             0             0             0   \n",
       "2061                  6             0             0             0   \n",
       "2078                  8             0             0             0   \n",
       "2079                  6             0             0             0   \n",
       "2081                  7             0             0             0   \n",
       "2084                  1             0             0             1   \n",
       "2228                  0             0             1             0   \n",
       "\n",
       "      AcceptedCmp1  AcceptedCmp2  Complain  Z_CostContact  Z_Revenue  Response  \n",
       "10               0             0         0              3         11         0  \n",
       "27               0             0         0              3         11         0  \n",
       "43               0             0         0              3         11         0  \n",
       "48               0             0         0              3         11         0  \n",
       "58               0             0         0              3         11         0  \n",
       "71               0             0         0              3         11         0  \n",
       "90               0             0         0              3         11         0  \n",
       "91               0             0         0              3         11         0  \n",
       "92               0             0         0              3         11         0  \n",
       "128              0             0         0              3         11         0  \n",
       "133              0             0         0              3         11         0  \n",
       "312              1             0         0              3         11         0  \n",
       "319              1             0         0              3         11         0  \n",
       "1379             0             0         0              3         11         0  \n",
       "1382             0             0         0              3         11         0  \n",
       "1383             0             0         0              3         11         0  \n",
       "1386             0             0         0              3         11         0  \n",
       "2059             0             0         0              3         11         0  \n",
       "2061             0             0         0              3         11         0  \n",
       "2078             0             0         0              3         11         0  \n",
       "2079             0             0         0              3         11         0  \n",
       "2081             0             0         0              3         11         0  \n",
       "2084             0             0         0              3         11         1  \n",
       "2228             0             0         0              3         11         0  "
      ]
     },
     "execution_count": 10,
     "metadata": {},
     "output_type": "execute_result"
    }
   ],
   "source": [
    "missing_rows"
   ]
  },
  {
   "cell_type": "code",
   "execution_count": 11,
   "id": "0f53b197-b25a-41be-bab2-2e2a46c6ed0a",
   "metadata": {},
   "outputs": [],
   "source": [
    "# When examining the rows with missing income values, \n",
    "# other attributes such as year of birth, education, and marital status vary \n",
    "# and show no consistent pattern.\n",
    "# --> Tthe missing income values are likely MCAR and can be safely dropped.\n",
    "\n",
    "df = df.dropna(subset=['Income'])"
   ]
  },
  {
   "cell_type": "markdown",
   "id": "e4b666c8-177c-4ede-80ef-7a6087eac739",
   "metadata": {
    "jp-MarkdownHeadingCollapsed": true
   },
   "source": [
    "#### Handle date-time values"
   ]
  },
  {
   "cell_type": "code",
   "execution_count": 12,
   "id": "2cf61afa-7fa1-45fd-9df2-a51bd3dc078b",
   "metadata": {},
   "outputs": [],
   "source": [
    "# change data type of Dt_Customer to d - m - Y format\n",
    "df['Dt_Customer'] = pd.to_datetime(df['Dt_Customer'], format = \"%d-%m-%Y\")"
   ]
  },
  {
   "cell_type": "code",
   "execution_count": 13,
   "id": "b3f43d20-5918-4e98-96d2-c8684eecc2bf",
   "metadata": {},
   "outputs": [],
   "source": [
    "# extract year, month, day for later analysis \n",
    "df['Dt_year'] = df['Dt_Customer'].dt.year\n",
    "df['Dt_month'] = df['Dt_Customer'].dt.month\n",
    "df['Dt_day'] = df['Dt_Customer'].dt.day"
   ]
  },
  {
   "cell_type": "markdown",
   "id": "6e6c32eb-7e9f-4e6c-8516-0dcea56d5587",
   "metadata": {
    "jp-MarkdownHeadingCollapsed": true
   },
   "source": [
    "#### Handle categorical values"
   ]
  },
  {
   "cell_type": "code",
   "execution_count": 14,
   "id": "acbdb3b1-1f11-4cf9-aaf6-4036c230e5f8",
   "metadata": {},
   "outputs": [
    {
     "data": {
      "text/plain": [
       "Education\n",
       "Graduation    1116\n",
       "PhD            481\n",
       "Master         365\n",
       "2n Cycle       200\n",
       "Basic           54\n",
       "Name: count, dtype: int64"
      ]
     },
     "execution_count": 14,
     "metadata": {},
     "output_type": "execute_result"
    }
   ],
   "source": [
    "# check Education attribute \n",
    "df['Education'].value_counts()"
   ]
  },
  {
   "cell_type": "code",
   "execution_count": 15,
   "id": "eda4f281-89b8-4998-8c36-fd6fb81f837f",
   "metadata": {},
   "outputs": [
    {
     "data": {
      "text/plain": [
       "Marital_Status\n",
       "Married     857\n",
       "Together    573\n",
       "Single      471\n",
       "Divorced    232\n",
       "Widow        76\n",
       "Alone         3\n",
       "Absurd        2\n",
       "YOLO          2\n",
       "Name: count, dtype: int64"
      ]
     },
     "execution_count": 15,
     "metadata": {},
     "output_type": "execute_result"
    }
   ],
   "source": [
    "# check Marital_Status attribut\n",
    "df['Marital_Status'].value_counts()"
   ]
  },
  {
   "cell_type": "code",
   "execution_count": 16,
   "id": "ba41dd36-fa97-4e8a-942f-eb486a59d288",
   "metadata": {},
   "outputs": [],
   "source": [
    "# Marital_Status has 8 categories, with two rare ones ('Absurd', 'YOLO') --> drop them\n",
    "# Group the rest:\n",
    "# 'Married', 'Together' -->  'In a Relationship'\n",
    "# 'Single', 'Divorced', 'Widow', 'Alone' -->  'Single'"
   ]
  },
  {
   "cell_type": "code",
   "execution_count": 17,
   "id": "89426c09-ca65-4cd1-a9cb-eb29e3597e87",
   "metadata": {},
   "outputs": [],
   "source": [
    "# group\n",
    "df['Marital_Status'] = df['Marital_Status'].replace({\n",
    "    'Together': 'In a relationship',\n",
    "    'Married': 'In a relationship',\n",
    "    'Single': 'Single',\n",
    "    'Divorced': 'Single',\n",
    "    'Widow': 'Single',\n",
    "    'Alone': 'Single',\n",
    "    'Absurd': 'Other',\n",
    "    'YOLO': 'Other'\n",
    "})\n",
    "\n",
    "# drop \n",
    "df = df[df['Marital_Status'] != \"Other\"]"
   ]
  },
  {
   "cell_type": "code",
   "execution_count": 18,
   "id": "c787b6d3-bbb4-4f38-b35a-5a0881d498d7",
   "metadata": {},
   "outputs": [
    {
     "data": {
      "text/plain": [
       "Marital_Status\n",
       "In a relationship    1430\n",
       "Single                782\n",
       "Name: count, dtype: int64"
      ]
     },
     "execution_count": 18,
     "metadata": {},
     "output_type": "execute_result"
    }
   ],
   "source": [
    "# check again after grouping\n",
    "df['Marital_Status'].value_counts()"
   ]
  },
  {
   "cell_type": "markdown",
   "id": "497ca88a-cbef-4605-85c2-a25bb8127578",
   "metadata": {
    "jp-MarkdownHeadingCollapsed": true
   },
   "source": [
    "#### Handle boolean values"
   ]
  },
  {
   "cell_type": "code",
   "execution_count": 19,
   "id": "0ba74d5b-46ce-451d-8719-67c54af4cf9d",
   "metadata": {
    "scrolled": true
   },
   "outputs": [
    {
     "name": "stdout",
     "output_type": "stream",
     "text": [
      "Complain\n",
      "0    2191\n",
      "1      21\n",
      "Name: count, dtype: int64\n",
      "------\n",
      "AcceptedCmp1\n",
      "0    2071\n",
      "1     141\n",
      "Name: count, dtype: int64\n",
      "------\n",
      "AcceptedCmp2\n",
      "0    2182\n",
      "1      30\n",
      "Name: count, dtype: int64\n",
      "------\n",
      "AcceptedCmp3\n",
      "0    2049\n",
      "1     163\n",
      "Name: count, dtype: int64\n",
      "------\n",
      "AcceptedCmp4\n",
      "0    2048\n",
      "1     164\n",
      "Name: count, dtype: int64\n",
      "------\n",
      "AcceptedCmp5\n",
      "0    2051\n",
      "1     161\n",
      "Name: count, dtype: int64\n",
      "------\n"
     ]
    }
   ],
   "source": [
    "# there are columns in which value is 1/0 (as yes/no) \n",
    "# need to check whether there are other values than 1 and 0\n",
    "\n",
    "boolean_cols = ['Complain', 'AcceptedCmp1', 'AcceptedCmp2', 'AcceptedCmp3', 'AcceptedCmp4', 'AcceptedCmp5']\n",
    "for col in boolean_cols:\n",
    "    print(df[col].value_counts())\n",
    "    print('------')"
   ]
  },
  {
   "cell_type": "markdown",
   "id": "05a10dab-b335-4d55-987a-780b490ad45f",
   "metadata": {
    "jp-MarkdownHeadingCollapsed": true
   },
   "source": [
    "#### Add columns"
   ]
  },
  {
   "cell_type": "code",
   "execution_count": 20,
   "id": "05a33a99-8813-459f-9210-3888c86c0797",
   "metadata": {},
   "outputs": [],
   "source": [
    "# add: Children = Kidhome + Teenhome\n",
    "df['Children'] = df['Kidhome'] + df['Teenhome']"
   ]
  },
  {
   "cell_type": "code",
   "execution_count": 21,
   "id": "e04a3890-e220-4c47-b1c3-f3f0cb407405",
   "metadata": {},
   "outputs": [],
   "source": [
    "# add: IsParent: 1 for Children > 0, 0 for Children = 0\n",
    "df['IsParent'] = np.where(df['Children']> 0, 1, 0)"
   ]
  },
  {
   "cell_type": "code",
   "execution_count": 22,
   "id": "517ca167-9415-4f1e-99af-a0fe7227118a",
   "metadata": {},
   "outputs": [],
   "source": [
    "# add: Mnt Total = sum of all Mnt\n",
    "df['MntTotal'] = df['MntWines'] + df['MntFruits'] + df['MntMeatProducts'] + df['MntFishProducts'] + df['MntSweetProducts'] + df['MntGoldProds']"
   ]
  },
  {
   "cell_type": "code",
   "execution_count": 23,
   "id": "0ba8f0af-735b-4a4f-855c-bb830afb92f1",
   "metadata": {},
   "outputs": [],
   "source": [
    "# add: Age\n",
    "df['Age'] = 2025 - df['Year_Birth']"
   ]
  },
  {
   "cell_type": "markdown",
   "id": "d8ba365b-ffdf-4844-ba2d-f4e0833bb02a",
   "metadata": {},
   "source": [
    "### 4. Distribution Analysis"
   ]
  },
  {
   "cell_type": "markdown",
   "id": "f6e83dff-bfd9-400b-8e9c-097bd2295b50",
   "metadata": {
    "jp-MarkdownHeadingCollapsed": true
   },
   "source": [
    "#### For categorical values"
   ]
  },
  {
   "cell_type": "code",
   "execution_count": 24,
   "id": "62a88e07-04c6-44cc-b024-75c9f2f938a0",
   "metadata": {},
   "outputs": [],
   "source": [
    "# create function to draw bar chart to count frequency\n",
    "def frequency(col, figsize = (5,2)):\n",
    "    vc = df[col].value_counts()\n",
    "    plt.figure(figsize=figsize)\n",
    "    sns.barplot(x=vc.index, y=vc.values)\n",
    "    plt.title(f'Bar Chart of {col}')\n",
    "    plt.ylabel(col)\n",
    "    plt.show()"
   ]
  },
  {
   "cell_type": "code",
   "execution_count": 25,
   "id": "0eaa25ac-cab1-4692-9d77-e07d556a6c00",
   "metadata": {},
   "outputs": [],
   "source": [
    "# create function to draw pie chart\n",
    "def pie_chart(col, figsize=(3,3)):\n",
    "    vc = df[col].value_counts()\n",
    "    plt.figure(figsize=figsize)\n",
    "    \n",
    "    # draw pie\n",
    "    plt.pie(vc.values, startangle=90, colors=sns.color_palette('pastel')[0:len(vc)])\n",
    "    \n",
    "    # legend \n",
    "    total = vc.sum()\n",
    "    legend_labels = [f\"{idx} ({value/total:.1%})\" for idx, value in zip(vc.index, vc.values)]\n",
    "    plt.legend(legend_labels, title=\"Categories\", \n",
    "               bbox_to_anchor=(1.05, 0.5), loc=\"center left\", fontsize=9)\n",
    "    \n",
    "    plt.title(f'Pie Chart of {col}')\n",
    "    plt.show()"
   ]
  },
  {
   "cell_type": "code",
   "execution_count": 26,
   "id": "70fa61e3-4ad0-462a-9a12-ab738c32ca7f",
   "metadata": {
    "scrolled": true
   },
   "outputs": [
    {
     "data": {
      "image/png": "[encoded data removed]",
      "text/plain": [
       "<Figure size 300x300 with 1 Axes>"
      ]
     },
     "metadata": {},
     "output_type": "display_data"
    },
    {
     "data": {
      "image/png": "[encoded data removed]",
      "text/plain": [
       "<Figure size 500x200 with 1 Axes>"
      ]
     },
     "metadata": {},
     "output_type": "display_data"
    }
   ],
   "source": [
    "# Education\n",
    "pie_chart('Education')\n",
    "frequency('Education')"
   ]
  },
  {
   "cell_type": "code",
   "execution_count": 27,
   "id": "1ef8f23e-ce76-48e2-88e2-43b2bb5a7353",
   "metadata": {},
   "outputs": [],
   "source": [
    "# more than 50% customers have graduated\n",
    "# 38% customer pursuit higher education\n",
    "# only small portion are undergraduates"
   ]
  },
  {
   "cell_type": "code",
   "execution_count": 28,
   "id": "9e3ce1ee-e34d-45dd-a13a-f2b93f49d962",
   "metadata": {
    "scrolled": true
   },
   "outputs": [
    {
     "data": {
      "image/png": "[encoded data removed]",
      "text/plain": [
       "<Figure size 500x200 with 1 Axes>"
      ]
     },
     "metadata": {},
     "output_type": "display_data"
    },
    {
     "data": {
      "image/png": "[encoded data removed]",
      "text/plain": [
       "<Figure size 300x300 with 1 Axes>"
      ]
     },
     "metadata": {},
     "output_type": "display_data"
    }
   ],
   "source": [
    "# Marital_Status\n",
    "frequency('Marital_Status', figsize = (5,2))\n",
    "pie_chart('Marital_Status')"
   ]
  },
  {
   "cell_type": "code",
   "execution_count": 29,
   "id": "fc29ccb3-4e9e-4250-b100-603afdd77a3f",
   "metadata": {},
   "outputs": [],
   "source": [
    "# --> 35.4% single, 64.6% in a relationship"
   ]
  },
  {
   "cell_type": "code",
   "execution_count": 30,
   "id": "2b906814-a719-472c-8580-52349fccc63e",
   "metadata": {},
   "outputs": [
    {
     "data": {
      "image/png": "[encoded data removed]",
      "text/plain": [
       "<Figure size 300x300 with 1 Axes>"
      ]
     },
     "metadata": {},
     "output_type": "display_data"
    }
   ],
   "source": [
    "# IsParent\n",
    "pie_chart('IsParent', figsize=(3,3))"
   ]
  },
  {
   "cell_type": "code",
   "execution_count": 31,
   "id": "0ec0346a-ccc2-4467-902f-af70b966f5a0",
   "metadata": {},
   "outputs": [],
   "source": [
    "# --> 71% have children -- 28% don't have children"
   ]
  },
  {
   "cell_type": "code",
   "execution_count": 32,
   "id": "e5dc0c18-f933-4ac6-8609-37f9ff6c0247",
   "metadata": {},
   "outputs": [
    {
     "data": {
      "image/png": "[encoded data removed]",
      "text/plain": [
       "<Figure size 300x300 with 1 Axes>"
      ]
     },
     "metadata": {},
     "output_type": "display_data"
    }
   ],
   "source": [
    "# Complain\n",
    "pie_chart('Complain', figsize=(3,3))"
   ]
  },
  {
   "cell_type": "code",
   "execution_count": 33,
   "id": "d090d084-5ade-4d45-9460-8f75df2dbd9f",
   "metadata": {},
   "outputs": [],
   "source": [
    "# only 0.9% customers had complained before"
   ]
  },
  {
   "cell_type": "code",
   "execution_count": 34,
   "id": "966c26d3-f354-44fa-89ed-332394439e40",
   "metadata": {
    "scrolled": true
   },
   "outputs": [
    {
     "data": {
      "image/png": "[encoded data removed]",
      "text/plain": [
       "<Figure size 300x300 with 1 Axes>"
      ]
     },
     "metadata": {},
     "output_type": "display_data"
    },
    {
     "data": {
      "image/png": "[encoded data removed]",
      "text/plain": [
       "<Figure size 300x300 with 1 Axes>"
      ]
     },
     "metadata": {},
     "output_type": "display_data"
    },
    {
     "data": {
      "image/png": "[encoded data removed]",
      "text/plain": [
       "<Figure size 300x300 with 1 Axes>"
      ]
     },
     "metadata": {},
     "output_type": "display_data"
    },
    {
     "data": {
      "image/png": "[encoded data removed]",
      "text/plain": [
       "<Figure size 300x300 with 1 Axes>"
      ]
     },
     "metadata": {},
     "output_type": "display_data"
    },
    {
     "data": {
      "image/png": "[encoded data removed]",
      "text/plain": [
       "<Figure size 300x300 with 1 Axes>"
      ]
     },
     "metadata": {},
     "output_type": "display_data"
    }
   ],
   "source": [
    "# Promotion Campaign: 1 for accepted / 0 for unaccepted\n",
    "cmp = ['AcceptedCmp1', 'AcceptedCmp2', 'AcceptedCmp3', 'AcceptedCmp4', 'AcceptedCmp5']\n",
    "for c in cmp:\n",
    "    pie_chart(c , figsize=(3,3))"
   ]
  },
  {
   "cell_type": "code",
   "execution_count": 35,
   "id": "498a932f-8e32-4dda-ae6b-5fa017dcd482",
   "metadata": {},
   "outputs": [],
   "source": [
    "# 6.4% accepted cmp1\n",
    "# 1.3% accepted cmp2\n",
    "# 7.3% accepted cmp3\n",
    "# 7.5% accepted cmp4\n",
    "# 7.2% accepted cmp5"
   ]
  },
  {
   "cell_type": "markdown",
   "id": "e4925f26-90fa-4431-9a6a-67920758522d",
   "metadata": {
    "jp-MarkdownHeadingCollapsed": true
   },
   "source": [
    "#### Outliner detect and treatment for numeric values"
   ]
  },
  {
   "cell_type": "code",
   "execution_count": 36,
   "id": "0b40ebb1-d584-4bf7-9477-e2bdb7afc7b9",
   "metadata": {},
   "outputs": [],
   "source": [
    "# create function to draw boxplot \n",
    "def box_plot(col, figsize=(5,3)):\n",
    "    plt.figure(figsize=figsize)\n",
    "    sns.boxplot(x=df[col], color='skyblue', width=0.5)\n",
    "    plt.title(f'Box Plot of {col}', fontsize=12)\n",
    "    plt.xlabel(col)\n",
    "    plt.grid(axis='x', linestyle='--', alpha=0.6)\n",
    "    plt.show()"
   ]
  },
  {
   "cell_type": "code",
   "execution_count": 37,
   "id": "788d800a-4f95-4376-aa8e-6ab6b901a097",
   "metadata": {},
   "outputs": [],
   "source": [
    "numeric_col = ['Age','Recency', 'Income', 'MntTotal', 'MntWines', 'MntFruits', 'MntMeatProducts', 'MntFishProducts', 'MntSweetProducts', 'MntGoldProds']"
   ]
  },
  {
   "cell_type": "code",
   "execution_count": 38,
   "id": "0ff060ec-686d-4e34-9c7c-ca4310952fd6",
   "metadata": {},
   "outputs": [],
   "source": [
    "# create function to detect outlier\n",
    "def outlier_detect(col):\n",
    "    Q1 = df[col].quantile(0.25)\n",
    "    Q3 = df[col].quantile(0.75)\n",
    "    IQR = Q3 - Q1\n",
    "    lower_bound = Q1 - 1.5 * IQR\n",
    "    upper_bound = Q3 + 1.5 * IQR\n",
    "\n",
    "    outliers = df[(df[col] < lower_bound) | (df[col] > upper_bound)]\n",
    "    outlier_percent = len(outliers) / len(df) * 100\n",
    "\n",
    "    print(f\"Column: {col}\")\n",
    "    box_plot(col, figsize=(5,3))\n",
    "    print(f\"Total outliers: {len(outliers)} ({outlier_percent:.2f}%)\")\n",
    "    print(f\"Range: min={df[col].min():.2f}, Q1={Q1:.2f}, median={df[col].median():.2f}, Q3={Q3:.2f}, max={df[col].max():.2f}\")\n",
    "    print(f\"IQR: {IQR:.2f}\")\n",
    "    print(f\"Lower bound: {lower_bound:.2f}, Upper bound: {upper_bound:.2f}\")\n",
    "    \n",
    "\n",
    "    if len(outliers) > 0:\n",
    "        print(f\"Some outlier values: {outliers[col].sort_values().head(3).tolist()} ... {outliers[col].sort_values().tail(3).tolist()}\")\n",
    "\n",
    "    if len(outliers) == 0:\n",
    "        print('→ No outlier')\n",
    "    elif outlier_percent < 2:\n",
    "        print('→ Suggestion: Drop these outliers.')\n",
    "    elif outlier_percent < 10:\n",
    "        print('→ Suggestion: Consider capping or transforming (log).')\n",
    "    else:\n",
    "        print('→ Suggestion: Check if these values are genuine, maybe keep them.')\n",
    "\n",
    "    print('-----------------------------------------------------------------------')\n"
   ]
  },
  {
   "cell_type": "markdown",
   "id": "7b040fd0-70db-40d2-aff0-4d0a6b5e868b",
   "metadata": {},
   "source": [
    "##### Recency"
   ]
  },
  {
   "cell_type": "code",
   "execution_count": 39,
   "id": "4f584ca7-546f-4fc3-9f96-deaf1272180f",
   "metadata": {},
   "outputs": [
    {
     "name": "stdout",
     "output_type": "stream",
     "text": [
      "Column: Recency\n"
     ]
    },
    {
     "data": {
      "image/png": "[encoded data removed]",
      "text/plain": [
       "<Figure size 500x300 with 1 Axes>"
      ]
     },
     "metadata": {},
     "output_type": "display_data"
    },
    {
     "name": "stdout",
     "output_type": "stream",
     "text": [
      "Total outliers: 0 (0.00%)\n",
      "Range: min=0.00, Q1=24.00, median=49.00, Q3=74.00, max=99.00\n",
      "IQR: 50.00\n",
      "Lower bound: -51.00, Upper bound: 149.00\n",
      "→ No outlier\n",
      "-----------------------------------------------------------------------\n"
     ]
    }
   ],
   "source": [
    "# Recency\n",
    "outlier_detect('Recency')"
   ]
  },
  {
   "cell_type": "code",
   "execution_count": 40,
   "id": "a70615f1-61ef-408d-827a-2c9793758bc8",
   "metadata": {},
   "outputs": [],
   "source": [
    "# Recency phân phối lệch phải \n",
    "# --> số lượng khách hàng mua hàng gần đây ít hơn lượng khách thời gian mua hàng từ lâu\n",
    "# Chủ yếu thời gian kể từ lần mua hàng cuối cùng nằm trong khoảng 40 - 80 ngày"
   ]
  },
  {
   "cell_type": "markdown",
   "id": "10b79a4d-35b8-460d-b02f-fa2867e086ab",
   "metadata": {},
   "source": [
    "##### Income"
   ]
  },
  {
   "cell_type": "code",
   "execution_count": 41,
   "id": "e655669a-c6a7-4431-9e19-abdebecda6a3",
   "metadata": {},
   "outputs": [
    {
     "name": "stdout",
     "output_type": "stream",
     "text": [
      "Column: Income\n"
     ]
    },
    {
     "data": {
      "image/png": "[encoded data removed]",
      "text/plain": [
       "<Figure size 500x300 with 1 Axes>"
      ]
     },
     "metadata": {},
     "output_type": "display_data"
    },
    {
     "name": "stdout",
     "output_type": "stream",
     "text": [
      "Total outliers: 8 (0.36%)\n",
      "Range: min=1730.00, Q1=35233.50, median=51381.50, Q3=68522.00, max=666666.00\n",
      "IQR: 33288.50\n",
      "Lower bound: -14699.25, Upper bound: 118454.75\n",
      "Some outlier values: [153924.0, 156924.0, 157146.0] ... [160803.0, 162397.0, 666666.0]\n",
      "→ Suggestion: Drop these outliers.\n",
      "-----------------------------------------------------------------------\n"
     ]
    }
   ],
   "source": [
    "# Income\n",
    "outlier_detect('Income')"
   ]
  },
  {
   "cell_type": "code",
   "execution_count": 42,
   "id": "ae0c92e1-d0f0-4a95-a66c-4e8f503d7384",
   "metadata": {},
   "outputs": [
    {
     "data": {
      "image/png": "[encoded data removed]",
      "text/plain": [
       "<Figure size 500x300 with 1 Axes>"
      ]
     },
     "metadata": {},
     "output_type": "display_data"
    }
   ],
   "source": [
    "# có giá trị outlier trong cột income (income rất cao), nhưng số lượng ít \n",
    "# drop outlier trong cột Income và vẽ lại Box Plot \n",
    "df = df[df['Income'] < 20000]\n",
    "box_plot('Income', figsize=(5,3))"
   ]
  },
  {
   "cell_type": "code",
   "execution_count": 43,
   "id": "567e78f7-c62e-4e07-b4e2-1a74e193f9bc",
   "metadata": {},
   "outputs": [],
   "source": [
    "# Income có phân phối lệch phải --> phần lớn có thu nhập cao hơn mức trung bình\n",
    "# Khoảng thu nhập chủ yếu nằm trong 10,000 - 20,000"
   ]
  },
  {
   "cell_type": "markdown",
   "id": "4c913352-3179-486f-a0fe-8a2e0b782126",
   "metadata": {},
   "source": [
    "##### MntWines"
   ]
  },
  {
   "cell_type": "code",
   "execution_count": 44,
   "id": "96910071-20b7-4fda-a125-f89509f74b7d",
   "metadata": {},
   "outputs": [
    {
     "name": "stdout",
     "output_type": "stream",
     "text": [
      "Column: MntWines\n"
     ]
    },
    {
     "data": {
      "image/png": "[encoded data removed]",
      "text/plain": [
       "<Figure size 500x300 with 1 Axes>"
      ]
     },
     "metadata": {},
     "output_type": "display_data"
    },
    {
     "name": "stdout",
     "output_type": "stream",
     "text": [
      "Total outliers: 11 (8.66%)\n",
      "Range: min=0.00, Q1=2.00, median=6.00, Q3=10.50, max=107.00\n",
      "IQR: 8.50\n",
      "Lower bound: -10.75, Upper bound: 23.25\n",
      "Some outlier values: [24, 24, 25] ... [73, 81, 107]\n",
      "→ Suggestion: Consider capping or transforming (log).\n",
      "-----------------------------------------------------------------------\n"
     ]
    }
   ],
   "source": [
    "# MntWines\n",
    "outlier_detect('MntWines')"
   ]
  },
  {
   "cell_type": "code",
   "execution_count": 45,
   "id": "b9f2683b-0257-4083-ab88-4a2322468489",
   "metadata": {},
   "outputs": [
    {
     "name": "stdout",
     "output_type": "stream",
     "text": [
      "Column: log_MntWines\n"
     ]
    },
    {
     "data": {
      "image/png": "[encoded data removed]",
      "text/plain": [
       "<Figure size 500x300 with 1 Axes>"
      ]
     },
     "metadata": {},
     "output_type": "display_data"
    },
    {
     "name": "stdout",
     "output_type": "stream",
     "text": [
      "Total outliers: 1 (0.79%)\n",
      "Range: min=0.00, Q1=1.10, median=1.95, Q3=2.44, max=4.68\n",
      "IQR: 1.34\n",
      "Lower bound: -0.92, Upper bound: 4.46\n",
      "Some outlier values: [4.68213122712422] ... [4.68213122712422]\n",
      "→ Suggestion: Drop these outliers.\n",
      "-----------------------------------------------------------------------\n"
     ]
    }
   ],
   "source": [
    "# có giá trị outlier trong cột MntWines (một số người dùng tiêu nhiều tiền cho rượu)\n",
    "# Tranform log\n",
    "df['log_MntWines'] = np.log1p(df['MntWines'])\n",
    "outlier_detect('log_MntWines')"
   ]
  },
  {
   "cell_type": "code",
   "execution_count": 46,
   "id": "9aac2cb0-1da2-4769-a9a6-3fb76104befd",
   "metadata": {},
   "outputs": [
    {
     "data": {
      "image/png": "[encoded data removed]",
      "text/plain": [
       "<Figure size 500x300 with 1 Axes>"
      ]
     },
     "metadata": {},
     "output_type": "display_data"
    }
   ],
   "source": [
    "df = df[df['log_MntWines'] > 4]\n",
    "box_plot('MntWines', figsize=(5,3))"
   ]
  },
  {
   "cell_type": "code",
   "execution_count": 47,
   "id": "7a2e37ce-cf6f-4668-8379-d64bc046ad02",
   "metadata": {},
   "outputs": [],
   "source": [
    "# MntWines phân phối lệch trái --> số tiền tiêu cho rượu phần lớn ít hơn giá trị trung bình\n",
    "# Số tiền chi cho rượu chủ yếu nằm trong khoảng 70 - 90"
   ]
  },
  {
   "cell_type": "markdown",
   "id": "2b1e75a7-8ab7-4717-bec8-f15e037396d4",
   "metadata": {},
   "source": [
    "##### MntFruit"
   ]
  },
  {
   "cell_type": "code",
   "execution_count": 48,
   "id": "bbe70ab0-83de-42e7-be9e-0b65e21817f3",
   "metadata": {},
   "outputs": [
    {
     "name": "stdout",
     "output_type": "stream",
     "text": [
      "Column: MntFruits\n"
     ]
    },
    {
     "data": {
      "image/png": "[encoded data removed]",
      "text/plain": [
       "<Figure size 500x300 with 1 Axes>"
      ]
     },
     "metadata": {},
     "output_type": "display_data"
    },
    {
     "name": "stdout",
     "output_type": "stream",
     "text": [
      "Total outliers: 0 (0.00%)\n",
      "Range: min=2.00, Q1=3.50, median=7.50, Q3=12.75, max=18.00\n",
      "IQR: 9.25\n",
      "Lower bound: -10.38, Upper bound: 26.62\n",
      "→ No outlier\n",
      "-----------------------------------------------------------------------\n"
     ]
    }
   ],
   "source": [
    "# MntFruits\n",
    "outlier_detect('MntFruits')"
   ]
  },
  {
   "cell_type": "code",
   "execution_count": 49,
   "id": "4737c652-bb68-4328-b9e4-b4a04ad686a0",
   "metadata": {},
   "outputs": [],
   "source": [
    "# Không có outlier trong cột MntFruits\n",
    "# Phân phối lệch trái --> phần lớn chi tiêu cho hoa quả ít hơn giá trị trung bình\n",
    "# Số tiền chi cho hoa quả chủ yếu nằm trong khoảng 4 - 12"
   ]
  },
  {
   "cell_type": "markdown",
   "id": "dae4b759-8233-4afd-9463-55369c0213e7",
   "metadata": {},
   "source": [
    "##### MntMeatProducts"
   ]
  },
  {
   "cell_type": "code",
   "execution_count": 50,
   "id": "e7786abb-cc7f-4550-89d4-7d972a86d6d0",
   "metadata": {},
   "outputs": [
    {
     "name": "stdout",
     "output_type": "stream",
     "text": [
      "Column: MntMeatProducts\n"
     ]
    },
    {
     "data": {
      "image/png": "[encoded data removed]",
      "text/plain": [
       "<Figure size 500x300 with 1 Axes>"
      ]
     },
     "metadata": {},
     "output_type": "display_data"
    },
    {
     "name": "stdout",
     "output_type": "stream",
     "text": [
      "Total outliers: 0 (0.00%)\n",
      "Range: min=12.00, Q1=22.50, median=29.50, Q3=41.25, max=66.00\n",
      "IQR: 18.75\n",
      "Lower bound: -5.62, Upper bound: 69.38\n",
      "→ No outlier\n",
      "-----------------------------------------------------------------------\n"
     ]
    }
   ],
   "source": [
    "outlier_detect('MntMeatProducts')"
   ]
  },
  {
   "cell_type": "code",
   "execution_count": 51,
   "id": "40addd87-6935-4831-ac3f-7bfa8dcdebbd",
   "metadata": {},
   "outputs": [],
   "source": [
    "# Không có outliner trong cột MntMeatProducts\n",
    "# Phân phối lệch trái --> phần lớn chi tiêu cho sản phẩm từ thịt ít hơn mức trung bình\n",
    "# Chủ yếu chi tiêu cho sản phẩm từ thịt khoảng 20 - 45"
   ]
  },
  {
   "cell_type": "markdown",
   "id": "8d28a79a-fc19-4906-afb2-951089039639",
   "metadata": {},
   "source": [
    "##### MntFishProducts"
   ]
  },
  {
   "cell_type": "code",
   "execution_count": 52,
   "id": "ea0a1b9d-bfb0-475e-8ee7-f1e43e44a0fc",
   "metadata": {},
   "outputs": [
    {
     "name": "stdout",
     "output_type": "stream",
     "text": [
      "Column: MntFishProducts\n"
     ]
    },
    {
     "data": {
      "image/png": "[encoded data removed]",
      "text/plain": [
       "<Figure size 500x300 with 1 Axes>"
      ]
     },
     "metadata": {},
     "output_type": "display_data"
    },
    {
     "name": "stdout",
     "output_type": "stream",
     "text": [
      "Total outliers: 0 (0.00%)\n",
      "Range: min=2.00, Q1=3.50, median=4.50, Q3=5.50, max=7.00\n",
      "IQR: 2.00\n",
      "Lower bound: 0.50, Upper bound: 8.50\n",
      "→ No outlier\n",
      "-----------------------------------------------------------------------\n"
     ]
    }
   ],
   "source": [
    "# MntFishProducts\n",
    "outlier_detect('MntFishProducts')"
   ]
  },
  {
   "cell_type": "code",
   "execution_count": 53,
   "id": "a6fe6b10-4a8e-4db7-8e19-d4bb160ee903",
   "metadata": {},
   "outputs": [],
   "source": [
    "# Không có outlier trong MntFishProducts\n",
    "# Phân phối đều, không lệch\n",
    "# Chủ yếu chi tiêu cho sản phẩm từ cá trong khoảng 3.5 - 5.5"
   ]
  },
  {
   "cell_type": "markdown",
   "id": "ea801a35-8a73-48bf-ba81-1571c43ee312",
   "metadata": {},
   "source": [
    "##### MntSweetProducts"
   ]
  },
  {
   "cell_type": "code",
   "execution_count": 54,
   "id": "c6bdd014-f14e-4b75-81b3-360d94011001",
   "metadata": {},
   "outputs": [
    {
     "name": "stdout",
     "output_type": "stream",
     "text": [
      "Column: MntSweetProducts\n"
     ]
    },
    {
     "data": {
      "image/png": "[encoded data removed]",
      "text/plain": [
       "<Figure size 500x300 with 1 Axes>"
      ]
     },
     "metadata": {},
     "output_type": "display_data"
    },
    {
     "name": "stdout",
     "output_type": "stream",
     "text": [
      "Total outliers: 1 (25.00%)\n",
      "Range: min=2.00, Q1=2.00, median=2.50, Q3=5.25, max=12.00\n",
      "IQR: 3.25\n",
      "Lower bound: -2.88, Upper bound: 10.12\n",
      "Some outlier values: [12] ... [12]\n",
      "→ Suggestion: Check if these values are genuine, maybe keep them.\n",
      "-----------------------------------------------------------------------\n"
     ]
    }
   ],
   "source": [
    "# MntSweetsProducts\n",
    "outlier_detect('MntSweetProducts')"
   ]
  },
  {
   "cell_type": "code",
   "execution_count": 55,
   "id": "20d3329d-992d-469f-9195-3a499bfaf990",
   "metadata": {},
   "outputs": [
    {
     "data": {
      "text/plain": [
       "MntSweetProducts\n",
       "2     2\n",
       "12    1\n",
       "3     1\n",
       "Name: count, dtype: int64"
      ]
     },
     "execution_count": 55,
     "metadata": {},
     "output_type": "execute_result"
    }
   ],
   "source": [
    "df['MntSweetProducts'].value_counts()"
   ]
  },
  {
   "cell_type": "code",
   "execution_count": 56,
   "id": "39503793-45e6-475e-a99a-604bed4a1e72",
   "metadata": {},
   "outputs": [
    {
     "data": {
      "text/html": [
       "<div>\n",
       "<style scoped>\n",
       "    .dataframe tbody tr th:only-of-type {\n",
       "        vertical-align: middle;\n",
       "    }\n",
       "\n",
       "    .dataframe tbody tr th {\n",
       "        vertical-align: top;\n",
       "    }\n",
       "\n",
       "    .dataframe thead th {\n",
       "        text-align: right;\n",
       "    }\n",
       "</style>\n",
       "<table border=\"1\" class=\"dataframe\">\n",
       "  <thead>\n",
       "    <tr style=\"text-align: right;\">\n",
       "      <th></th>\n",
       "      <th>ID</th>\n",
       "      <th>Year_Birth</th>\n",
       "      <th>Education</th>\n",
       "      <th>Marital_Status</th>\n",
       "      <th>Income</th>\n",
       "      <th>Kidhome</th>\n",
       "      <th>Teenhome</th>\n",
       "      <th>Dt_Customer</th>\n",
       "      <th>Recency</th>\n",
       "      <th>MntWines</th>\n",
       "      <th>MntFruits</th>\n",
       "      <th>MntMeatProducts</th>\n",
       "      <th>MntFishProducts</th>\n",
       "      <th>MntSweetProducts</th>\n",
       "      <th>MntGoldProds</th>\n",
       "      <th>NumDealsPurchases</th>\n",
       "      <th>NumWebPurchases</th>\n",
       "      <th>NumCatalogPurchases</th>\n",
       "      <th>NumStorePurchases</th>\n",
       "      <th>NumWebVisitsMonth</th>\n",
       "      <th>AcceptedCmp3</th>\n",
       "      <th>AcceptedCmp4</th>\n",
       "      <th>AcceptedCmp5</th>\n",
       "      <th>AcceptedCmp1</th>\n",
       "      <th>AcceptedCmp2</th>\n",
       "      <th>Complain</th>\n",
       "      <th>Z_CostContact</th>\n",
       "      <th>Z_Revenue</th>\n",
       "      <th>Response</th>\n",
       "      <th>Dt_year</th>\n",
       "      <th>Dt_month</th>\n",
       "      <th>Dt_day</th>\n",
       "      <th>Children</th>\n",
       "      <th>IsParent</th>\n",
       "      <th>MntTotal</th>\n",
       "      <th>Age</th>\n",
       "      <th>log_MntWines</th>\n",
       "    </tr>\n",
       "  </thead>\n",
       "  <tbody>\n",
       "    <tr>\n",
       "      <th>774</th>\n",
       "      <td>4303</td>\n",
       "      <td>1957</td>\n",
       "      <td>PhD</td>\n",
       "      <td>In a relationship</td>\n",
       "      <td>6835.000</td>\n",
       "      <td>0</td>\n",
       "      <td>1</td>\n",
       "      <td>2012-12-08</td>\n",
       "      <td>76</td>\n",
       "      <td>107</td>\n",
       "      <td>2</td>\n",
       "      <td>12</td>\n",
       "      <td>2</td>\n",
       "      <td>2</td>\n",
       "      <td>12</td>\n",
       "      <td>0</td>\n",
       "      <td>0</td>\n",
       "      <td>0</td>\n",
       "      <td>1</td>\n",
       "      <td>20</td>\n",
       "      <td>0</td>\n",
       "      <td>0</td>\n",
       "      <td>0</td>\n",
       "      <td>0</td>\n",
       "      <td>0</td>\n",
       "      <td>0</td>\n",
       "      <td>3</td>\n",
       "      <td>11</td>\n",
       "      <td>0</td>\n",
       "      <td>2012</td>\n",
       "      <td>12</td>\n",
       "      <td>8</td>\n",
       "      <td>1</td>\n",
       "      <td>1</td>\n",
       "      <td>137</td>\n",
       "      <td>68</td>\n",
       "      <td>4.682</td>\n",
       "    </tr>\n",
       "    <tr>\n",
       "      <th>1042</th>\n",
       "      <td>10749</td>\n",
       "      <td>1991</td>\n",
       "      <td>Graduation</td>\n",
       "      <td>Single</td>\n",
       "      <td>8028.000</td>\n",
       "      <td>0</td>\n",
       "      <td>0</td>\n",
       "      <td>2012-09-18</td>\n",
       "      <td>62</td>\n",
       "      <td>73</td>\n",
       "      <td>18</td>\n",
       "      <td>66</td>\n",
       "      <td>7</td>\n",
       "      <td>12</td>\n",
       "      <td>2</td>\n",
       "      <td>15</td>\n",
       "      <td>0</td>\n",
       "      <td>1</td>\n",
       "      <td>0</td>\n",
       "      <td>19</td>\n",
       "      <td>0</td>\n",
       "      <td>0</td>\n",
       "      <td>0</td>\n",
       "      <td>0</td>\n",
       "      <td>0</td>\n",
       "      <td>0</td>\n",
       "      <td>3</td>\n",
       "      <td>11</td>\n",
       "      <td>0</td>\n",
       "      <td>2012</td>\n",
       "      <td>9</td>\n",
       "      <td>18</td>\n",
       "      <td>0</td>\n",
       "      <td>0</td>\n",
       "      <td>178</td>\n",
       "      <td>34</td>\n",
       "      <td>4.304</td>\n",
       "    </tr>\n",
       "    <tr>\n",
       "      <th>1328</th>\n",
       "      <td>4246</td>\n",
       "      <td>1982</td>\n",
       "      <td>Master</td>\n",
       "      <td>Single</td>\n",
       "      <td>6560.000</td>\n",
       "      <td>0</td>\n",
       "      <td>0</td>\n",
       "      <td>2013-12-12</td>\n",
       "      <td>2</td>\n",
       "      <td>67</td>\n",
       "      <td>11</td>\n",
       "      <td>26</td>\n",
       "      <td>4</td>\n",
       "      <td>3</td>\n",
       "      <td>262</td>\n",
       "      <td>0</td>\n",
       "      <td>1</td>\n",
       "      <td>0</td>\n",
       "      <td>1</td>\n",
       "      <td>17</td>\n",
       "      <td>0</td>\n",
       "      <td>0</td>\n",
       "      <td>0</td>\n",
       "      <td>0</td>\n",
       "      <td>0</td>\n",
       "      <td>0</td>\n",
       "      <td>3</td>\n",
       "      <td>11</td>\n",
       "      <td>0</td>\n",
       "      <td>2013</td>\n",
       "      <td>12</td>\n",
       "      <td>12</td>\n",
       "      <td>0</td>\n",
       "      <td>0</td>\n",
       "      <td>373</td>\n",
       "      <td>43</td>\n",
       "      <td>4.220</td>\n",
       "    </tr>\n",
       "    <tr>\n",
       "      <th>1806</th>\n",
       "      <td>6237</td>\n",
       "      <td>1966</td>\n",
       "      <td>PhD</td>\n",
       "      <td>Single</td>\n",
       "      <td>7144.000</td>\n",
       "      <td>0</td>\n",
       "      <td>2</td>\n",
       "      <td>2013-12-07</td>\n",
       "      <td>92</td>\n",
       "      <td>81</td>\n",
       "      <td>4</td>\n",
       "      <td>33</td>\n",
       "      <td>5</td>\n",
       "      <td>2</td>\n",
       "      <td>291</td>\n",
       "      <td>0</td>\n",
       "      <td>23</td>\n",
       "      <td>1</td>\n",
       "      <td>1</td>\n",
       "      <td>0</td>\n",
       "      <td>0</td>\n",
       "      <td>0</td>\n",
       "      <td>0</td>\n",
       "      <td>0</td>\n",
       "      <td>0</td>\n",
       "      <td>0</td>\n",
       "      <td>3</td>\n",
       "      <td>11</td>\n",
       "      <td>0</td>\n",
       "      <td>2013</td>\n",
       "      <td>12</td>\n",
       "      <td>7</td>\n",
       "      <td>2</td>\n",
       "      <td>1</td>\n",
       "      <td>416</td>\n",
       "      <td>59</td>\n",
       "      <td>4.407</td>\n",
       "    </tr>\n",
       "  </tbody>\n",
       "</table>\n",
       "</div>"
      ],
      "text/plain": [
       "         ID  Year_Birth   Education     Marital_Status   Income  Kidhome  \\\n",
       "774    4303        1957         PhD  In a relationship 6835.000        0   \n",
       "1042  10749        1991  Graduation             Single 8028.000        0   \n",
       "1328   4246        1982      Master             Single 6560.000        0   \n",
       "1806   6237        1966         PhD             Single 7144.000        0   \n",
       "\n",
       "      Teenhome Dt_Customer  Recency  MntWines  MntFruits  MntMeatProducts  \\\n",
       "774          1  2012-12-08       76       107          2               12   \n",
       "1042         0  2012-09-18       62        73         18               66   \n",
       "1328         0  2013-12-12        2        67         11               26   \n",
       "1806         2  2013-12-07       92        81          4               33   \n",
       "\n",
       "      MntFishProducts  MntSweetProducts  MntGoldProds  NumDealsPurchases  \\\n",
       "774                 2                 2            12                  0   \n",
       "1042                7                12             2                 15   \n",
       "1328                4                 3           262                  0   \n",
       "1806                5                 2           291                  0   \n",
       "\n",
       "      NumWebPurchases  NumCatalogPurchases  NumStorePurchases  \\\n",
       "774                 0                    0                  1   \n",
       "1042                0                    1                  0   \n",
       "1328                1                    0                  1   \n",
       "1806               23                    1                  1   \n",
       "\n",
       "      NumWebVisitsMonth  AcceptedCmp3  AcceptedCmp4  AcceptedCmp5  \\\n",
       "774                  20             0             0             0   \n",
       "1042                 19             0             0             0   \n",
       "1328                 17             0             0             0   \n",
       "1806                  0             0             0             0   \n",
       "\n",
       "      AcceptedCmp1  AcceptedCmp2  Complain  Z_CostContact  Z_Revenue  \\\n",
       "774              0             0         0              3         11   \n",
       "1042             0             0         0              3         11   \n",
       "1328             0             0         0              3         11   \n",
       "1806             0             0         0              3         11   \n",
       "\n",
       "      Response  Dt_year  Dt_month  Dt_day  Children  IsParent  MntTotal  Age  \\\n",
       "774          0     2012        12       8         1         1       137   68   \n",
       "1042         0     2012         9      18         0         0       178   34   \n",
       "1328         0     2013        12      12         0         0       373   43   \n",
       "1806         0     2013        12       7         2         1       416   59   \n",
       "\n",
       "      log_MntWines  \n",
       "774          4.682  \n",
       "1042         4.304  \n",
       "1328         4.220  \n",
       "1806         4.407  "
      ]
     },
     "execution_count": 56,
     "metadata": {},
     "output_type": "execute_result"
    }
   ],
   "source": [
    "df[df['MntSweetProducts'] != 0]"
   ]
  },
  {
   "cell_type": "code",
   "execution_count": 57,
   "id": "9aac28a5-f0c0-4a97-b74d-33ffecb49179",
   "metadata": {},
   "outputs": [],
   "source": [
    "# Vì số lượng khách hàng mua đồ ngọt chỉ có 4 người, mẫu nhỏ, nên có thể giữ lại outlier này"
   ]
  },
  {
   "cell_type": "markdown",
   "id": "50789725-c46d-4486-978d-4d810261cbea",
   "metadata": {},
   "source": [
    "##### MntGoldProds"
   ]
  },
  {
   "cell_type": "code",
   "execution_count": 58,
   "id": "5296a83b-8179-4a00-b335-3703498b2234",
   "metadata": {},
   "outputs": [
    {
     "name": "stdout",
     "output_type": "stream",
     "text": [
      "Column: MntGoldProds\n"
     ]
    },
    {
     "data": {
      "image/png": "[encoded data removed]",
      "text/plain": [
       "<Figure size 500x300 with 1 Axes>"
      ]
     },
     "metadata": {},
     "output_type": "display_data"
    },
    {
     "name": "stdout",
     "output_type": "stream",
     "text": [
      "Total outliers: 0 (0.00%)\n",
      "Range: min=2.00, Q1=9.50, median=137.00, Q3=269.25, max=291.00\n",
      "IQR: 259.75\n",
      "Lower bound: -380.12, Upper bound: 658.88\n",
      "→ No outlier\n",
      "-----------------------------------------------------------------------\n"
     ]
    }
   ],
   "source": [
    "# MntGoldProds\n",
    "outlier_detect('MntGoldProds')"
   ]
  },
  {
   "cell_type": "code",
   "execution_count": 59,
   "id": "3ccd685a-89d5-4171-8a23-d13a76bb01a5",
   "metadata": {},
   "outputs": [],
   "source": [
    "# Không có outlier\n",
    "# Phân bố đều, hơi lệch trái \n",
    "# Phần lớn chi tiêu trong khoảng 10 - 275 cho vàng"
   ]
  },
  {
   "cell_type": "markdown",
   "id": "1be94f55-68d8-46c5-8d2f-59ea0341d412",
   "metadata": {},
   "source": [
    "##### MntTotal"
   ]
  },
  {
   "cell_type": "code",
   "execution_count": 60,
   "id": "5e9fe3b0-47ab-44b0-9f6c-55c7d730efcc",
   "metadata": {},
   "outputs": [
    {
     "name": "stdout",
     "output_type": "stream",
     "text": [
      "Column: MntTotal\n"
     ]
    },
    {
     "data": {
      "image/png": "[encoded data removed]",
      "text/plain": [
       "<Figure size 500x300 with 1 Axes>"
      ]
     },
     "metadata": {},
     "output_type": "display_data"
    },
    {
     "name": "stdout",
     "output_type": "stream",
     "text": [
      "Total outliers: 0 (0.00%)\n",
      "Range: min=137.00, Q1=167.75, median=275.50, Q3=383.75, max=416.00\n",
      "IQR: 216.00\n",
      "Lower bound: -156.25, Upper bound: 707.75\n",
      "→ No outlier\n",
      "-----------------------------------------------------------------------\n"
     ]
    }
   ],
   "source": [
    "# MntTotal\n",
    "outlier_detect('MntTotal')"
   ]
  },
  {
   "cell_type": "markdown",
   "id": "e39583b7-daf8-4f72-a184-83f4989d293a",
   "metadata": {},
   "source": [
    "##### Age"
   ]
  },
  {
   "cell_type": "code",
   "execution_count": 61,
   "id": "6563243e-85c3-4f05-b2e8-0733a8876549",
   "metadata": {},
   "outputs": [
    {
     "name": "stdout",
     "output_type": "stream",
     "text": [
      "Column: Age\n"
     ]
    },
    {
     "data": {
      "image/png": "[encoded data removed]",
      "text/plain": [
       "<Figure size 500x300 with 1 Axes>"
      ]
     },
     "metadata": {},
     "output_type": "display_data"
    },
    {
     "name": "stdout",
     "output_type": "stream",
     "text": [
      "Total outliers: 0 (0.00%)\n",
      "Range: min=34.00, Q1=40.75, median=51.00, Q3=61.25, max=68.00\n",
      "IQR: 20.50\n",
      "Lower bound: 10.00, Upper bound: 92.00\n",
      "→ No outlier\n",
      "-----------------------------------------------------------------------\n"
     ]
    }
   ],
   "source": [
    "outlier_detect('Age')"
   ]
  },
  {
   "cell_type": "code",
   "execution_count": 62,
   "id": "79f7785e-1e6a-46e8-8b51-3e62b0c9b977",
   "metadata": {},
   "outputs": [],
   "source": [
    "# Không có outliner, đều, ít lệch\n",
    "# Phần lớn khách hàng nằm trong độ tuổi 40 - 65"
   ]
  },
  {
   "cell_type": "markdown",
   "id": "ffdd2a4f-f70d-456f-b58f-068e98d9de08",
   "metadata": {},
   "source": [
    "### 5. Correlation Analysis"
   ]
  },
  {
   "cell_type": "markdown",
   "id": "e1dc2c47-c75a-4836-ba36-c27d757c58d9",
   "metadata": {
    "jp-MarkdownHeadingCollapsed": true
   },
   "source": [
    "#### Correlation analysis between variables related to customer expense"
   ]
  },
  {
   "cell_type": "code",
   "execution_count": 63,
   "id": "0a5bc598-c55e-4d93-8419-bc5f78f92b01",
   "metadata": {},
   "outputs": [
    {
     "data": {
      "text/html": [
       "<div>\n",
       "<style scoped>\n",
       "    .dataframe tbody tr th:only-of-type {\n",
       "        vertical-align: middle;\n",
       "    }\n",
       "\n",
       "    .dataframe tbody tr th {\n",
       "        vertical-align: top;\n",
       "    }\n",
       "\n",
       "    .dataframe thead th {\n",
       "        text-align: right;\n",
       "    }\n",
       "</style>\n",
       "<table border=\"1\" class=\"dataframe\">\n",
       "  <thead>\n",
       "    <tr style=\"text-align: right;\">\n",
       "      <th></th>\n",
       "      <th>Age</th>\n",
       "      <th>Recency</th>\n",
       "      <th>Income</th>\n",
       "      <th>MntTotal</th>\n",
       "      <th>MntWines</th>\n",
       "      <th>MntFruits</th>\n",
       "      <th>MntMeatProducts</th>\n",
       "      <th>MntFishProducts</th>\n",
       "      <th>MntSweetProducts</th>\n",
       "      <th>MntGoldProds</th>\n",
       "    </tr>\n",
       "  </thead>\n",
       "  <tbody>\n",
       "    <tr>\n",
       "      <th>Age</th>\n",
       "      <td>1.000</td>\n",
       "      <td>0.530</td>\n",
       "      <td>-0.532</td>\n",
       "      <td>-0.055</td>\n",
       "      <td>0.851</td>\n",
       "      <td>-0.980</td>\n",
       "      <td>-0.818</td>\n",
       "      <td>-0.804</td>\n",
       "      <td>-0.796</td>\n",
       "      <td>0.056</td>\n",
       "    </tr>\n",
       "    <tr>\n",
       "      <th>Recency</th>\n",
       "      <td>0.530</td>\n",
       "      <td>1.000</td>\n",
       "      <td>0.408</td>\n",
       "      <td>-0.218</td>\n",
       "      <td>0.587</td>\n",
       "      <td>-0.434</td>\n",
       "      <td>0.054</td>\n",
       "      <td>0.041</td>\n",
       "      <td>-0.028</td>\n",
       "      <td>-0.247</td>\n",
       "    </tr>\n",
       "    <tr>\n",
       "      <th>Income</th>\n",
       "      <td>-0.532</td>\n",
       "      <td>0.408</td>\n",
       "      <td>1.000</td>\n",
       "      <td>-0.378</td>\n",
       "      <td>-0.205</td>\n",
       "      <td>0.644</td>\n",
       "      <td>0.908</td>\n",
       "      <td>0.823</td>\n",
       "      <td>0.892</td>\n",
       "      <td>-0.515</td>\n",
       "    </tr>\n",
       "    <tr>\n",
       "      <th>MntTotal</th>\n",
       "      <td>-0.055</td>\n",
       "      <td>-0.218</td>\n",
       "      <td>-0.378</td>\n",
       "      <td>1.000</td>\n",
       "      <td>-0.570</td>\n",
       "      <td>-0.137</td>\n",
       "      <td>-0.104</td>\n",
       "      <td>0.143</td>\n",
       "      <td>-0.436</td>\n",
       "      <td>0.988</td>\n",
       "    </tr>\n",
       "    <tr>\n",
       "      <th>MntWines</th>\n",
       "      <td>0.851</td>\n",
       "      <td>0.587</td>\n",
       "      <td>-0.205</td>\n",
       "      <td>-0.570</td>\n",
       "      <td>1.000</td>\n",
       "      <td>-0.731</td>\n",
       "      <td>-0.592</td>\n",
       "      <td>-0.709</td>\n",
       "      <td>-0.409</td>\n",
       "      <td>-0.477</td>\n",
       "    </tr>\n",
       "    <tr>\n",
       "      <th>MntFruits</th>\n",
       "      <td>-0.980</td>\n",
       "      <td>-0.434</td>\n",
       "      <td>0.644</td>\n",
       "      <td>-0.137</td>\n",
       "      <td>-0.731</td>\n",
       "      <td>1.000</td>\n",
       "      <td>0.863</td>\n",
       "      <td>0.803</td>\n",
       "      <td>0.894</td>\n",
       "      <td>-0.251</td>\n",
       "    </tr>\n",
       "    <tr>\n",
       "      <th>MntMeatProducts</th>\n",
       "      <td>-0.818</td>\n",
       "      <td>0.054</td>\n",
       "      <td>0.908</td>\n",
       "      <td>-0.104</td>\n",
       "      <td>-0.592</td>\n",
       "      <td>0.863</td>\n",
       "      <td>1.000</td>\n",
       "      <td>0.969</td>\n",
       "      <td>0.927</td>\n",
       "      <td>-0.254</td>\n",
       "    </tr>\n",
       "    <tr>\n",
       "      <th>MntFishProducts</th>\n",
       "      <td>-0.804</td>\n",
       "      <td>0.041</td>\n",
       "      <td>0.823</td>\n",
       "      <td>0.143</td>\n",
       "      <td>-0.709</td>\n",
       "      <td>0.803</td>\n",
       "      <td>0.969</td>\n",
       "      <td>1.000</td>\n",
       "      <td>0.808</td>\n",
       "      <td>-0.011</td>\n",
       "    </tr>\n",
       "    <tr>\n",
       "      <th>MntSweetProducts</th>\n",
       "      <td>-0.796</td>\n",
       "      <td>-0.028</td>\n",
       "      <td>0.892</td>\n",
       "      <td>-0.436</td>\n",
       "      <td>-0.409</td>\n",
       "      <td>0.894</td>\n",
       "      <td>0.927</td>\n",
       "      <td>0.808</td>\n",
       "      <td>1.000</td>\n",
       "      <td>-0.562</td>\n",
       "    </tr>\n",
       "    <tr>\n",
       "      <th>MntGoldProds</th>\n",
       "      <td>0.056</td>\n",
       "      <td>-0.247</td>\n",
       "      <td>-0.515</td>\n",
       "      <td>0.988</td>\n",
       "      <td>-0.477</td>\n",
       "      <td>-0.251</td>\n",
       "      <td>-0.254</td>\n",
       "      <td>-0.011</td>\n",
       "      <td>-0.562</td>\n",
       "      <td>1.000</td>\n",
       "    </tr>\n",
       "  </tbody>\n",
       "</table>\n",
       "</div>"
      ],
      "text/plain": [
       "                    Age  Recency  Income  MntTotal  MntWines  MntFruits  \\\n",
       "Age               1.000    0.530  -0.532    -0.055     0.851     -0.980   \n",
       "Recency           0.530    1.000   0.408    -0.218     0.587     -0.434   \n",
       "Income           -0.532    0.408   1.000    -0.378    -0.205      0.644   \n",
       "MntTotal         -0.055   -0.218  -0.378     1.000    -0.570     -0.137   \n",
       "MntWines          0.851    0.587  -0.205    -0.570     1.000     -0.731   \n",
       "MntFruits        -0.980   -0.434   0.644    -0.137    -0.731      1.000   \n",
       "MntMeatProducts  -0.818    0.054   0.908    -0.104    -0.592      0.863   \n",
       "MntFishProducts  -0.804    0.041   0.823     0.143    -0.709      0.803   \n",
       "MntSweetProducts -0.796   -0.028   0.892    -0.436    -0.409      0.894   \n",
       "MntGoldProds      0.056   -0.247  -0.515     0.988    -0.477     -0.251   \n",
       "\n",
       "                  MntMeatProducts  MntFishProducts  MntSweetProducts  \\\n",
       "Age                        -0.818           -0.804            -0.796   \n",
       "Recency                     0.054            0.041            -0.028   \n",
       "Income                      0.908            0.823             0.892   \n",
       "MntTotal                   -0.104            0.143            -0.436   \n",
       "MntWines                   -0.592           -0.709            -0.409   \n",
       "MntFruits                   0.863            0.803             0.894   \n",
       "MntMeatProducts             1.000            0.969             0.927   \n",
       "MntFishProducts             0.969            1.000             0.808   \n",
       "MntSweetProducts            0.927            0.808             1.000   \n",
       "MntGoldProds               -0.254           -0.011            -0.562   \n",
       "\n",
       "                  MntGoldProds  \n",
       "Age                      0.056  \n",
       "Recency                 -0.247  \n",
       "Income                  -0.515  \n",
       "MntTotal                 0.988  \n",
       "MntWines                -0.477  \n",
       "MntFruits               -0.251  \n",
       "MntMeatProducts         -0.254  \n",
       "MntFishProducts         -0.011  \n",
       "MntSweetProducts        -0.562  \n",
       "MntGoldProds             1.000  "
      ]
     },
     "execution_count": 63,
     "metadata": {},
     "output_type": "execute_result"
    }
   ],
   "source": [
    "df_numeric = df[numeric_col]\n",
    "corr_matrix = df_numeric.corr()\n",
    "corr_matrix"
   ]
  },
  {
   "cell_type": "code",
   "execution_count": 64,
   "id": "ba935899-fa8c-4f81-8265-11b109b90290",
   "metadata": {},
   "outputs": [
    {
     "data": {
      "image/png": "[encoded data removed]",
      "text/plain": [
       "<Figure size 500x300 with 2 Axes>"
      ]
     },
     "metadata": {},
     "output_type": "display_data"
    }
   ],
   "source": [
    "# draw heatmap\n",
    "plt.figure(figsize=(5,3))\n",
    "sns.heatmap(corr_matrix, annot=True, cmap='coolwarm', fmt='.2f', linewidths=0.5)\n",
    "plt.title('Correlation Heatmap')\n",
    "plt.show()"
   ]
  },
  {
   "cell_type": "code",
   "execution_count": 65,
   "id": "83bc4ec6-c1ff-4fba-a23a-7e456fdbd37e",
   "metadata": {},
   "outputs": [],
   "source": [
    "# The variables MntFruits, MntMeatProducts, MntFishProducts, and MntSweetProducts \n",
    "# show very high correlations with each other (0.8–0.97), \n",
    "# --> customers tend to purchase multiple types of these products together.\n",
    "\n",
    "# Income\n",
    "# Income is strongly correlated with these spending variables as well, \n",
    "# --> customers with higher income levels tend to spend more across different product categories.\n",
    "\n",
    "# Recency \n",
    "# Recency shows generally low correlations with most variables, \n",
    "# --> recent purchases are not strongly linked to spending or income levels. \n",
    "\n",
    "# Recency has a moderate correlation with Income (0.408) and MntWines (0.587) \n",
    "# --> customers with higher income or those who spend more on wine \n",
    "# tend to have made their last purchase longer ago"
   ]
  },
  {
   "cell_type": "markdown",
   "id": "bd0caa2a-6e1b-4473-8aa9-de780c9f1e4d",
   "metadata": {
    "jp-MarkdownHeadingCollapsed": true
   },
   "source": [
    "#### Correlation analysis between variables related to promotion campaign accepted count"
   ]
  },
  {
   "cell_type": "code",
   "execution_count": 66,
   "id": "87d498e2-4921-4cf4-9259-c59ef0d0482c",
   "metadata": {},
   "outputs": [
    {
     "data": {
      "text/html": [
       "<div>\n",
       "<style scoped>\n",
       "    .dataframe tbody tr th:only-of-type {\n",
       "        vertical-align: middle;\n",
       "    }\n",
       "\n",
       "    .dataframe tbody tr th {\n",
       "        vertical-align: top;\n",
       "    }\n",
       "\n",
       "    .dataframe thead th {\n",
       "        text-align: right;\n",
       "    }\n",
       "</style>\n",
       "<table border=\"1\" class=\"dataframe\">\n",
       "  <thead>\n",
       "    <tr style=\"text-align: right;\">\n",
       "      <th></th>\n",
       "      <th>AcceptedCmp1</th>\n",
       "      <th>AcceptedCmp2</th>\n",
       "      <th>AcceptedCmp3</th>\n",
       "      <th>AcceptedCmp4</th>\n",
       "      <th>AcceptedCmp5</th>\n",
       "    </tr>\n",
       "  </thead>\n",
       "  <tbody>\n",
       "    <tr>\n",
       "      <th>AcceptedCmp1</th>\n",
       "      <td>NaN</td>\n",
       "      <td>NaN</td>\n",
       "      <td>NaN</td>\n",
       "      <td>NaN</td>\n",
       "      <td>NaN</td>\n",
       "    </tr>\n",
       "    <tr>\n",
       "      <th>AcceptedCmp2</th>\n",
       "      <td>NaN</td>\n",
       "      <td>NaN</td>\n",
       "      <td>NaN</td>\n",
       "      <td>NaN</td>\n",
       "      <td>NaN</td>\n",
       "    </tr>\n",
       "    <tr>\n",
       "      <th>AcceptedCmp3</th>\n",
       "      <td>NaN</td>\n",
       "      <td>NaN</td>\n",
       "      <td>NaN</td>\n",
       "      <td>NaN</td>\n",
       "      <td>NaN</td>\n",
       "    </tr>\n",
       "    <tr>\n",
       "      <th>AcceptedCmp4</th>\n",
       "      <td>NaN</td>\n",
       "      <td>NaN</td>\n",
       "      <td>NaN</td>\n",
       "      <td>NaN</td>\n",
       "      <td>NaN</td>\n",
       "    </tr>\n",
       "    <tr>\n",
       "      <th>AcceptedCmp5</th>\n",
       "      <td>NaN</td>\n",
       "      <td>NaN</td>\n",
       "      <td>NaN</td>\n",
       "      <td>NaN</td>\n",
       "      <td>NaN</td>\n",
       "    </tr>\n",
       "  </tbody>\n",
       "</table>\n",
       "</div>"
      ],
      "text/plain": [
       "              AcceptedCmp1  AcceptedCmp2  AcceptedCmp3  AcceptedCmp4  \\\n",
       "AcceptedCmp1           NaN           NaN           NaN           NaN   \n",
       "AcceptedCmp2           NaN           NaN           NaN           NaN   \n",
       "AcceptedCmp3           NaN           NaN           NaN           NaN   \n",
       "AcceptedCmp4           NaN           NaN           NaN           NaN   \n",
       "AcceptedCmp5           NaN           NaN           NaN           NaN   \n",
       "\n",
       "              AcceptedCmp5  \n",
       "AcceptedCmp1           NaN  \n",
       "AcceptedCmp2           NaN  \n",
       "AcceptedCmp3           NaN  \n",
       "AcceptedCmp4           NaN  \n",
       "AcceptedCmp5           NaN  "
      ]
     },
     "execution_count": 66,
     "metadata": {},
     "output_type": "execute_result"
    }
   ],
   "source": [
    "df_cmp = df[cmp]\n",
    "corr_matrix_cmp = df_cmp.corr()\n",
    "corr_matrix_cmp"
   ]
  },
  {
   "cell_type": "code",
   "execution_count": 67,
   "id": "b6ab6728-02b2-499d-99ae-24490f732768",
   "metadata": {},
   "outputs": [
    {
     "name": "stderr",
     "output_type": "stream",
     "text": [
      "/home/codespace/.local/lib/python3.12/site-packages/seaborn/matrix.py:202: RuntimeWarning: All-NaN slice encountered\n",
      "  vmin = np.nanmin(calc_data)\n",
      "/home/codespace/.local/lib/python3.12/site-packages/seaborn/matrix.py:207: RuntimeWarning: All-NaN slice encountered\n",
      "  vmax = np.nanmax(calc_data)\n"
     ]
    },
    {
     "data": {
      "image/png": "[encoded data removed]",
      "text/plain": [
       "<Figure size 500x300 with 2 Axes>"
      ]
     },
     "metadata": {},
     "output_type": "display_data"
    }
   ],
   "source": [
    "# draw heatmap\n",
    "plt.figure(figsize=(5,3))\n",
    "sns.heatmap(corr_matrix_cmp, annot=True, cmap='coolwarm', fmt='.2f', linewidths=0.5)\n",
    "plt.title('Correlation Heatmap')\n",
    "plt.show()"
   ]
  },
  {
   "cell_type": "code",
   "execution_count": 68,
   "id": "3e9dfed0-b68b-4c34-ad02-1b4bb719fe9a",
   "metadata": {},
   "outputs": [],
   "source": [
    "# The highest correlation is between AcceptedCmp1 and AcceptedCmp5 (0.399), \n",
    "# followed by AcceptedCmp4 and AcceptedCmp5 (0.308). \n",
    "# --> customers who accepted Campaign 1 or 4 were more likely to also accept Campaign 5. \n",
    "\n",
    "# AcceptedCmp2 shows weak to moderate correlations with the others (ranging from 0.176 to 0.292), \n",
    "# --> modest overlap in the customers who responded positively.\n",
    "\n",
    "# AcceptedCmp3 stands out as the least correlated with the other campaigns, \n",
    "# even showing a slight negative relationship with Campaign 4 (-0.080). \n",
    "# --> Campaign 3 was quite different, or targeted a different audience altogether."
   ]
  }
 ],
 "metadata": {
  "kernelspec": {
   "display_name": "Python 3 (ipykernel)",
   "language": "python",
   "name": "python3"
  },
  "language_info": {
   "codemirror_mode": {
    "name": "ipython",
    "version": 3
   },
   "file_extension": ".py",
   "mimetype": "text/x-python",
   "name": "python",
   "nbconvert_exporter": "python",
   "pygments_lexer": "ipython3",
   "version": "3.12.1"
  }
 },
 "nbformat": 4,
 "nbformat_minor": 5
}
